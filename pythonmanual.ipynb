{
 "cells": [
  {
   "cell_type": "markdown",
   "metadata": {},
   "source": [
    "# Python Programing\n",
    "\n",
    "M. M. Badham Leading Edge Business Solutions (Pty) Ltd\n",
    "\n",
    "Derived From\n",
    "http://en.wikibooks.org/wiki/Python_Programming\n",
    "\n",
    "GNU Free Documentation License\n"
   ]
  },
  {
   "cell_type": "markdown",
   "metadata": {},
   "source": [
    "# Overview\n",
    "\n",
    "## Python is high-level\n",
    "\n",
    "Python is a high-level, structured, open-source programming language that can be used for a wide variety of programming tasks. It is good for simple quick-and-dirty scripts, as well as complex and intricate applications.\n",
    "It is also a dynamically typed language that includes (but does not require one to use) object oriented features and constructs.  Python supports many other programming paradigms including functional programming and aspect oriented programming. \n",
    "Implementations\n",
    "\n",
    "Python refers to programming language specification rather than an implementation.  The reference implementation for Python is called *CPython*.  *CPython* (written in C), behaves like an interpreter but in fact automatically compiles the Python code to byte-code before execution (the byte-code  then may be saved to disk, just as automatically, so that compilation need not happen again until and unless the source gets changed). \n",
    "Other popular implementations of Python include *IronPython* and *Jython*.  IronPython creates CIL byte code for the dot net runtime environment, and thus can use dot net classes.  Jython compiles to Java Byte code and similarly can use Java Classes."
   ]
  },
  {
   "cell_type": "markdown",
   "metadata": {},
   "source": [
    "## Versions\n",
    "\n",
    "There are two current versions of Python - 2.7 and 3.3.  This is because Python 3x is not compatible with Python 2x.  Most software projects are still based on Python 2x.  The most obvious difference you will notice between Python 2x and Python 3x is that print is a statement in 2x and a function in 3x.   "
   ]
  },
  {
   "cell_type": "markdown",
   "metadata": {},
   "source": [
    "## Easy to learn\n",
    "\n",
    "Python supports reflection and introspection. The `dir()` function returns the list of the names of objects in the current scope. However, `dir(object)` will return the names of the attributes of the specified object. The `locals()` routine returns a dictionary in which the names in the local namespace are the keys and their values are the objects to which the names refer. Combined with the interactive interpreter, this provides a useful environment for exploration and prototyping.\n",
    "\n",
    "The  `help()` command also provides information on how to use objects.\n",
    "The most unusual aspect of Python is that whitespace is significant; instead of block delimiters (braces → \"`{}`\" in the C family of languages).  Indentation is used to indicate where blocks begin and end.\n",
    "For example, the following Python code can be interactively typed at an interpreter prompt, to display the beginning values in the Fibonacci series:"
   ]
  },
  {
   "cell_type": "code",
   "execution_count": 224,
   "metadata": {},
   "outputs": [
    {
     "name": "stdout",
     "output_type": "stream",
     "text": [
      "1\n",
      "1 2 3 5 8 13 21 34 55 89 144 "
     ]
    }
   ],
   "source": [
    ">>> a,b = 0,1\n",
    ">>> print(b)\n",
    "1\n",
    ">>> while b < 100:\n",
    "...   a,b = b,(a+b)\n",
    "...   print(b, end=\" \")\n",
    "... "
   ]
  },
  {
   "cell_type": "markdown",
   "metadata": {},
   "source": [
    "## Batteries included!\n",
    "Python provides a powerful assortment of built-in types (e.g., lists, dictionaries and strings), a number of built-in functions, and a few constructs, mostly statements. For example, loop constructs that can iterate over items in a collection instead of being limited to a simple range of integer values. Python also comes with a powerful standard library, which includes hundreds of modules to provide routines for a wide variety of services including regular expressions and TCP/IP sessions.\n",
    "\n",
    "## Open Source\n",
    "Python is used and supported by a large Python Community that exists on the Internet. The mailing lists and news groups like the tutor list actively support and help new python programmers. While they discourage doing homework for you, they are quite helpful and are populated by the authors of many of the Python textbooks currently available on the market. Python is named after *Monty Python's Flying Circus* comedy program and was created by Guido Van Rossum.\n",
    "Getting Python\n",
    "\n",
    "## Installation\n",
    "In order to program in Python you need the Python interpreter. If it is not already installed or if the version you are using is obsolete, you will need to obtain and install Python using the methods below:\n",
    "\n",
    "### Installing Python in Windows\n",
    "\n",
    "Go to the Python Homepage https://www.python.org/downloads/ or the ActiveState website and get the proper version for your platform. Download it, read the instructions and get it installed.\n",
    "\n",
    "In order to run Python from the command line, you will need to have the python directory in your PATH.  Alternatively, you could use an Integrated Development Environment (IDE) for Python.  Microsoft Visual Studio Code is currently the most popular, Pycharm, PyDEV(Eclipse), DrPython, eric, PyScripter, Spyder, or Python's own IDLE (which ships with every version of Python since 2.3).\n",
    "\n",
    "The PATH variable can be modified from the Window's System control panel.  The advanced tab will contain the button labeled Environment Variables, where you can append the newly created folder to the search path.\n",
    "If you prefer having a temporary environment, you can create a new command prompt shortcut that automatically executes the following statement:\n",
    "\n",
    "`PATH %PATH%;c:\\python26`\n",
    "\n",
    "Changing the \"26\" for the version of Python you have (26 is 2.6.x, the current version of Python 2)\n",
    "\n",
    "### Installing Python on Mac\n",
    "Users on Apple Mac OS X will find that it already ships with Python 2.3 (OS X 10.4 Tiger), but if you want the more recent version head to Python Download Page follow the instruction on the page and in the installers. As a bonus you will also install the Python IDE.\n",
    "\n",
    "### Installing Python on Unix environments\n",
    "Python is available as a package for some Linux distributions. In some cases, the distribution CD will contain the python package for installation, while other distributions require downloading the source code and using the compilation scripts.\n",
    "Gentoo GNU/Linux\n",
    "Gentoo is an example of a distribution that installs Python by default - the package system Portage depends on Python.\n",
    "Ubuntu GNU/Linux\n",
    "Users of Ubuntu 6.04 (Dapper Drake) and earlier will notice that Python comes installed by default, only it sometimes is not the latest version. If you would like to update it, just open a terminal and type at the prompt:\n",
    "\n",
    "```\n",
    "$ sudo apt-get update  # This will update the software repository\n",
    "$ sudo apt-get install python   # This one will actually install python\n",
    "```\n",
    "\n",
    "### Source code installations\n",
    "Some platforms do not have a version of Python installed, and do not have pre-compiled binaries. In these cases, you will need to download the source code from the official site. Once the download is complete, you will need to unpack the compressed archive into a folder.\n",
    "To build Python, simply run the configure script (requires the Bash shell) and compile using make.\n",
    "Interactive mode\n",
    "Python has two basic modes: The normal \"mode\" is the mode where the scripted and finished .py files are run in the python interpreter.  Interactive mode is a command line shell which gives immediate feedback for each statement, while running previously fed statements in active memory. As new lines are fed into the interpreter, the fed program is evaluated both in part and in whole."
   ]
  },
  {
   "cell_type": "markdown",
   "metadata": {},
   "source": [
    "To get into interactive mode, simply type \"python\" without any arguments. This is a good way to play around and try variations on syntax.  Python should print something like this:\n",
    "\n",
    "```\n",
    "$ python\n",
    "Python 3.0b3 (r30b3:66303, Sep  8 2008, 14:01:02) [MSC v.1500 32 bit (Intel)] on win32\n",
    "Type \"help\", \"copyright\", \"credits\" or \"license\" for more information.\n",
    ">>>\n",
    "```\n",
    "Python 3\n",
    "(If Python wouldn't run, make sure your path is set correctly. See Getting Python.)\n",
    "```\n",
    "$ python \n",
    "Python 2.7.4 (default, Apr 19 2013, 18:28:01) \n",
    "[GCC 4.7.3] on linux2 \n",
    "Type \"help\", \"copyright\", \"credits\" or \"license\" for more information. \n",
    ">>> \n",
    "```\n",
    "Python 2\n",
    "The `>>>` prompt, is Python's way of telling you that you are in interactive mode. In interactive mode what you type is immediately run. Try typing `1+1` in. Python will respond with 2. Interactive mode allows you to test out and see what Python will do. If you ever feel the need to play with new Python statements, go into interactive mode and try them out.\n",
    "A sample interactive session:"
   ]
  },
  {
   "cell_type": "code",
   "execution_count": 225,
   "metadata": {},
   "outputs": [
    {
     "data": {
      "text/plain": [
       "5"
      ]
     },
     "execution_count": 225,
     "metadata": {},
     "output_type": "execute_result"
    }
   ],
   "source": [
    ">>> 5"
   ]
  },
  {
   "cell_type": "code",
   "execution_count": 226,
   "metadata": {},
   "outputs": [
    {
     "name": "stdout",
     "output_type": "stream",
     "text": [
      "35\n"
     ]
    }
   ],
   "source": [
    ">>> print(5*7)"
   ]
  },
  {
   "cell_type": "code",
   "execution_count": 227,
   "metadata": {},
   "outputs": [
    {
     "data": {
      "text/plain": [
       "'hellohellohellohello'"
      ]
     },
     "execution_count": 227,
     "metadata": {},
     "output_type": "execute_result"
    }
   ],
   "source": [
    ">>> \"hello\" * 4"
   ]
  },
  {
   "cell_type": "code",
   "execution_count": 228,
   "metadata": {},
   "outputs": [
    {
     "data": {
      "text/plain": [
       "str"
      ]
     },
     "execution_count": 228,
     "metadata": {},
     "output_type": "execute_result"
    }
   ],
   "source": [
    ">>> \"hello\".__class__"
   ]
  },
  {
   "cell_type": "markdown",
   "metadata": {},
   "source": [
    "(The above code will work in both Python 2 and 3)\n",
    "However, you need to be careful in the interactive environment to avoid any confusion. For example, the following is a valid Python script:"
   ]
  },
  {
   "cell_type": "code",
   "execution_count": 229,
   "metadata": {},
   "outputs": [
    {
     "name": "stdout",
     "output_type": "stream",
     "text": [
      "True\n",
      "Done\n"
     ]
    }
   ],
   "source": [
    "#python 3\n",
    "if 1:\n",
    "  print(\"True\")\n",
    "print(\"Done\")"
   ]
  },
  {
   "cell_type": "code",
   "execution_count": null,
   "metadata": {},
   "outputs": [],
   "source": [
    "#python 2\n",
    "if 1:\n",
    "  print \"True\" \n",
    "print \"Done\" "
   ]
  },
  {
   "cell_type": "markdown",
   "metadata": {},
   "source": [
    "If you try to enter this as written in the interactive environment, you might be surprised by the result:"
   ]
  },
  {
   "cell_type": "code",
   "execution_count": 231,
   "metadata": {},
   "outputs": [
    {
     "name": "stdout",
     "output_type": "stream",
     "text": [
      "True\n",
      "Done\n"
     ]
    }
   ],
   "source": [
    ">>> if 1:\n",
    "...   print(\"True\")\n",
    "... print(\"Done\")"
   ]
  },
  {
   "cell_type": "markdown",
   "metadata": {},
   "source": [
    "  File \"<stdin>\", line 3\n",
    "    print(\"Done\")\n",
    "        ^\n",
    "SyntaxError: invalid syntax\n",
    "What the interpreter is saying is that the indentation of the second print was unexpected. What you should have entered was a blank line to end the first (i.e., \"if\") statement, before you started writing the next print statement. For example, you should have entered the statements as though they were written:"
   ]
  },
  {
   "cell_type": "code",
   "execution_count": 232,
   "metadata": {},
   "outputs": [
    {
     "name": "stdout",
     "output_type": "stream",
     "text": [
      "True\n",
      "Done\n"
     ]
    }
   ],
   "source": [
    "if 1:\n",
    "  print(\"True\")\n",
    " \n",
    "print(\"Done\")"
   ]
  },
  {
   "cell_type": "markdown",
   "metadata": {},
   "source": [
    "Which would have resulted in the following:"
   ]
  },
  {
   "cell_type": "code",
   "execution_count": 431,
   "metadata": {},
   "outputs": [
    {
     "name": "stdout",
     "output_type": "stream",
     "text": [
      "True\n"
     ]
    }
   ],
   "source": [
    ">>> if 1:\n",
    "...   print(\"True\")\n"
   ]
  },
  {
   "cell_type": "code",
   "execution_count": 432,
   "metadata": {},
   "outputs": [
    {
     "name": "stdout",
     "output_type": "stream",
     "text": [
      "Done\n"
     ]
    }
   ],
   "source": [
    ">>> print(\"Done\")"
   ]
  },
  {
   "cell_type": "markdown",
   "metadata": {},
   "source": [
    "Interactive mode\n",
    "Instead of Python exiting when the program is finished, you can use the -i flag to start an interactive session. This can be very useful for debugging and prototyping.\n",
    "`python -i hello.py`"
   ]
  },
  {
   "cell_type": "markdown",
   "metadata": {},
   "source": [
    "# Creating Python programs\n",
    "Welcome to Python! This tutorial will show you how to start writing programs.\n",
    "Python programs are nothing more than text files, and they may be edited with a standard text editor program.  What text editor you use will probably depend on your operating system; any text editor can create Python programs.  It is easier to use a text editor that includes Python syntax highlighting.\n",
    "\n",
    "## Hello, World!\n",
    "The first program that every programmer writes is called the \"Hello, World!\" program. This program simply outputs the phrase \"Hello, World!\" and then quits. Let's write \"Hello, World!\" in Python!\n",
    "Open up your text editor and create a new file called hello.py containing just this line (you can copy-paste if you want):\n",
    "For Python 3x"
   ]
  },
  {
   "cell_type": "code",
   "execution_count": null,
   "metadata": {},
   "outputs": [],
   "source": [
    "print(\"Hello, world!\") "
   ]
  },
  {
   "cell_type": "markdown",
   "metadata": {},
   "source": [
    "For Python 2x"
   ]
  },
  {
   "cell_type": "code",
   "execution_count": null,
   "metadata": {},
   "outputs": [],
   "source": [
    "print \"Hello, world!\"  "
   ]
  },
  {
   "cell_type": "markdown",
   "metadata": {},
   "source": [
    "This program uses the print function, which simply outputs its parameters to the terminal. print ends with a newline character, which simply moves the cursor to the next line.\n",
    "Now that you've written your first program, let's run it in Python! This process differs slightly depending on your operating system.\n",
    "NOTE:\n",
    "In Python 2.x, print is a statement rather than a function. As such, it printed everything until the end of the line, it did not utilize parenthesis and required using a stand alone comma after the final printed item to identify that the current line was not yet complete.\n",
    "Windows\n",
    "   - Create a folder on your computer to use for your Python programs, such as C:\\pythonpractice, and save your hello.py program in that folder. \n",
    "   - In the Start menu, select \"Run...\", and type in cmd. This is cause the Windows terminal to open. \n",
    "   - Type cd \\pythonpractice to change directory to your pythonpractice folder, and hit Enter. \n",
    "   - Type python hello.py to run your program! \n",
    "If it didn't work, make sure your PATH contains the python directory. See Getting Python.\n",
    "Mac\n",
    "   - Create a folder on your computer to use for your Python programs. A good suggestion would be to name it pythonpractice and place it in your Home folder (the one that contains folders for Documents, Movies, Music, Pictures, etc). Save your hello.py program into this folder. \n",
    "   - Open the Applications folder, go into the Utilities folder, and open the Terminal program. \n",
    "   - Type cd pythonpractice to change directory to your pythonpractice folder, and hit Enter. \n",
    "   - Type python hello.py to run your program! \n",
    "Linux\n",
    "   - Create a folder on your computer to use for your Python programs, such as ~/pythonpractice, and save your hello.py program in that folder. \n",
    "   - Open up the terminal program. In KDE, open the main menu and select \"Run Command...\" to open Konsole. In GNOME, open the main menu, open the Applications folder, open the Accessories folder, and select Terminal. \n",
    "   - Type cd ~/pythonpractice to change directory to your pythonpractice folder, and hit Enter. \n",
    "   - Type python hello.py to run your program! \n",
    "Result\n",
    "The program should print:\n",
    "Hello, world!\n",
    "Congratulations! You're well on your way to becoming a Python programmer.\n",
    "Exercises\n",
    "    1. Modify the hello.py program to say hello to a historical political leader (or to Ada Lovelace). \n",
    "    2. Change the program so that after the greeting, it asks, \"How did you get here?\". \n",
    "    3. Re-write the original program to use two print statements: one for \"Hello\" and one for \"world\". The program should still only print out on one line. \n",
    "        "
   ]
  },
  {
   "cell_type": "markdown",
   "metadata": {},
   "source": [
    "## Basic syntax\n",
    "There are four fundamental concepts affecting Python syntax.\n",
    "1. Case Sensitivity\n",
    "All variables are case-sensitive. Python treats 'number' and 'Number' as separate, unrelated entities.\n",
    "2. Logical lines\n",
    "Statements in Python occupy one logical line.  That is a newline normally terminates a Python statement.  A logical line can be extended by:\n",
    "    - a backslash (\\) at the end of the line\n",
    "    - opening a bracket, any of `(` `[` `{` will extend the logical line until the corresponding closing bracket.\n",
    "    - Opening a triple quoted string.  Either `'''` or `\"\"\"` will open as string literal and the logical line does not end until the string literal is closed.\n",
    "\n",
    "### Indentation \n",
    "A block of code starts with a colon (`:`) and ends with an un-indent.  Because whitespace is significant, remember that spaces and tabs don't mix, so use only one or the other when indenting your programs. A common error is to mix them. While they may look the same in editor, the interpreter will read them differently and it will result in either an error or unexpected behavior. Most decent text editors can be configured to let tab key emit spaces instead.\n",
    "Python's Style Guideline describes that the preferred way is using 4 spaces.\n",
    "\n",
    "Tips: If you invoked python from the command-line, you can give -t or -tt argument to python to make python issue a warning or error on inconsistent tab usage.\n",
    "pythonprogrammer@wikibook:~$ `python -tt myscript.py`\n",
    "This will issue an error if you mixed spaces and tabs."
   ]
  },
  {
   "cell_type": "markdown",
   "metadata": {},
   "source": [
    "### Objects\n",
    "\n",
    "In Python, like all object oriented languages, there are aggregations of code and data called Objects.  These typically represent the pieces in a conceptual model of a system.\n",
    "Objects in Python are created (i.e., instantiated) from templates called Classes (which are covered later, as much of the language can be used without understanding classes). They have \"attributes\", which represent the various pieces of code and data which comprise the object. To access attributes, one writes the name of the object followed by a period (henceforth called a dot), followed by the name of the attribute.\n",
    "An example is the 'upper' attribute of strings, which refers to the code that returns a copy of the string in which all the letters are uppercase. To get to this, it is necessary to have a way to refer to the object (in the following example, the way is the literal string that constructs the object).\n",
    "`'bob'.upper`\n",
    "Code attributes are called \"methods\". So in this example, upper is a method of 'bob' (as it is of all strings). To execute the code in a method, use a matched pair of parentheses surrounding a comma separated list of whatever arguments the method accepts (upper doesn't accept any arguments). So to find an uppercase version of the string 'bob', one could use the following:\n",
    "`'bob'.upper()`\n",
    "\n",
    "### Scope\n",
    "In a large system, it is important that one piece of code does not affect another in difficult to predict ways.  One of the simplest ways to further this goal is to prevent one programmer's choice of names from preventing another from choosing that name.  Because of this, the concept of scope was invented.  A scope is a \"region\" of code in which a name can be used and outside of which the name cannot be easily accessed.  There are two ways of delimiting regions in Python: with functions or with modules.  They each have different ways of accessing the useful data that was produced within the scope from outside the scope.  With functions, that way is to return the data.  The way to access names from other modules lead us to another concept.\n",
    "\n",
    "### Namespaces\n",
    "It would be possible to teach Python without the concept of namespaces because they are so similar to attributes, which we have already mentioned, but the concept of namespaces is one that transcends any particular programming language, and so it is important to teach. To begin with, there is a built-in function dir() that can be used to help one understand the concept of namespaces. When you first start the Python interpreter (i.e., in interactive mode), you can list the objects in the current (or default) namespace using this function.\n",
    "```python\n",
    "Python 2.3.4 (#53, Oct 18 2004, 20:35:07) [MSC v.1200 32 bit (Intel)] on win32\n",
    "Type \"help\", \"copyright\", \"credits\" or \"license\" for more information.\n",
    ">>> dir()\n",
    "['__builtins__', '__doc__', '__name__']\n",
    "```\n",
    "\n",
    "```python\n",
    "Python 3.3.1 (default, Sep 25 2013, 19:29:01) \n",
    "[GCC 4.7.3] on linux\n",
    "Type \"help\", \"copyright\", \"credits\" or \"license\" for more information.\n",
    ">>> dir()\n",
    "['__builtins__', '__doc__', '__loader__', '__name__', '__package__']\n",
    "```\n",
    "This function can also be used to show the names available within a module namespace. To demonstrate this, first we can use the `type()` function to show what `__builtins__` is:\n",
    "```python\n",
    ">>> type(__builtins__)\n",
    "<type 'module'>\n",
    "```\n",
    "\n",
    "Since it is a module, we can list the names within the __builtins__ namespace, again using the dir() function (note the complete list of names has been abbreviated):"
   ]
  },
  {
   "cell_type": "code",
   "execution_count": null,
   "metadata": {},
   "outputs": [],
   "source": [
    ">>> dir(__builtins__)"
   ]
  },
  {
   "cell_type": "markdown",
   "metadata": {},
   "source": [
    "Namespaces are a simple concept. A namespace is a place in which a name resides. Each name within a namespace is distinct from names outside of the namespace. This layering of namespaces is called scope. A name is placed within a namespace when that name is given a value. For example:"
   ]
  },
  {
   "cell_type": "code",
   "execution_count": null,
   "metadata": {},
   "outputs": [],
   "source": [
    ">>> dir()"
   ]
  },
  {
   "cell_type": "code",
   "execution_count": 430,
   "metadata": {},
   "outputs": [
    {
     "data": {
      "text/plain": [
       "['A',\n",
       " 'AlbumHandler',\n",
       " 'Bar',\n",
       " 'ClassicFoo',\n",
       " 'CustomException',\n",
       " 'Documented',\n",
       " 'Foo',\n",
       " 'Foo2',\n",
       " 'HiddenMembers',\n",
       " 'In']"
      ]
     },
     "execution_count": 430,
     "metadata": {},
     "output_type": "execute_result"
    }
   ],
   "source": [
    ">>> name = \"Bob\"\n",
    ">>> import math\n",
    ">>> dir()[:10]"
   ]
  },
  {
   "cell_type": "markdown",
   "metadata": {},
   "source": [
    "Note that I was able to add the \"name\" variable to the namespace using a simple assignment statement. The import statement was used to add the \"math\" name to the current namespace. To see what math is, we can simply:"
   ]
  },
  {
   "cell_type": "code",
   "execution_count": 419,
   "metadata": {},
   "outputs": [
    {
     "data": {
      "text/plain": [
       "<module 'math' (built-in)>"
      ]
     },
     "execution_count": 419,
     "metadata": {},
     "output_type": "execute_result"
    }
   ],
   "source": [
    ">>> math"
   ]
  },
  {
   "cell_type": "markdown",
   "metadata": {},
   "source": [
    "Since it is a module, it also has a namespace. To display the names within this namespace, we:"
   ]
  },
  {
   "cell_type": "code",
   "execution_count": null,
   "metadata": {},
   "outputs": [],
   "source": [
    ">>> dir(math)"
   ]
  },
  {
   "cell_type": "markdown",
   "metadata": {},
   "source": [
    "If you look closely, you will notice that both the default namespace, and the math module namespace have a `'__name__'` object. The fact that each layer can contain an object with the same name is what scope is all about.  To access objects inside a namespace, simply use the name of the module, followed by a dot, followed by the name of the object.  This allow us to differentiate between the `__name__` object within the current namespace, and that of the object with the same name within the math module.  For example:"
   ]
  },
  {
   "cell_type": "code",
   "execution_count": 420,
   "metadata": {},
   "outputs": [
    {
     "name": "stdout",
     "output_type": "stream",
     "text": [
      "__main__\n"
     ]
    }
   ],
   "source": [
    ">>> print(__name__)"
   ]
  },
  {
   "cell_type": "code",
   "execution_count": 421,
   "metadata": {},
   "outputs": [
    {
     "name": "stdout",
     "output_type": "stream",
     "text": [
      "math\n"
     ]
    }
   ],
   "source": [
    ">>> print(math.__name__)"
   ]
  },
  {
   "cell_type": "code",
   "execution_count": 422,
   "metadata": {},
   "outputs": [
    {
     "name": "stdout",
     "output_type": "stream",
     "text": [
      "This module is always available.  It provides access to the\n",
      "mathematical functions defined by the C standard.\n"
     ]
    }
   ],
   "source": [
    ">>> print(math.__doc__)"
   ]
  },
  {
   "cell_type": "code",
   "execution_count": 423,
   "metadata": {},
   "outputs": [
    {
     "data": {
      "text/plain": [
       "3.141592653589793"
      ]
     },
     "execution_count": 423,
     "metadata": {},
     "output_type": "execute_result"
    }
   ],
   "source": [
    ">>> math.pi"
   ]
  },
  {
   "cell_type": "markdown",
   "metadata": {},
   "source": [
    "# Data types\n",
    "Data types determine whether an object can do something, or whether it just would not make sense. Other programming languages often determine whether an operation makes sense for an object by making sure the object can never be stored somewhere where the operation will be performed on the object (this type system is called static typing). Python does not do that. Instead it stores the type of an object with the object, and checks when the operation is performed whether that operation makes sense for that object (this is called dynamic typing).\n",
    "Python's built-in datatypes are:\n",
    "+ Numbers\n",
    "   - Integers, equivalent to C longs \n",
    "   - Floating-Point numbers, equivalent to C doubles \n",
    "   - Long integers of non-limited length (Python 2x only) \n",
    "   - Complex Numbers.\n",
    "          \n",
    " + Interables\n",
    "   Objects that support iteration\n",
    "    - Sequences \n",
    "      Objects that are subscriptable  with a zero based index. Sequences also support slicing. \n",
    "      * Strings\n",
    "      * Bytes (Python 3)\n",
    "      * lists\n",
    "      * tuples\n",
    "     - Sets (frozen sets)\n",
    "     - dictionaries, also called  hashmaps, or associative arrays\n",
    "     - files\n",
    "     - generator objects\n",
    "  + functions, methods (callables)\n",
    "  + classes \n",
    " "
   ]
  },
  {
   "cell_type": "markdown",
   "metadata": {},
   "source": [
    "## Numbers\n",
    "Python supports 4 types of Numbers, the int, the long, the float and the complex. You don’t have to specify what type of variable you want; Python does that automatically.\n",
    "- Int: This is the basic integer type in python, it is equivalent to the hardware 'c long' for the platform you are using. \n",
    "- Long: This is a integer number that's length is non-limited. In Python 2.2 and later, Ints are automatically turned into long ints when they overflow.  In Python 3 longs have been unified\n",
    "- Float: This is a binary floating point number. Longs and Ints are automatically converted to floats when a float is used in an expression, and with the true-division // operator. \n",
    "- Complex: This is a complex number consisting of two floats. Complex literals are written as a + bj where a and b are floating-point numbers denoting the real and imaginary parts respectively. \n",
    "In general, the number types are automatically 'up cast' in this order:\n",
    "Int → Long → Float → Complex. The farther to the right you go, the higher the precedence.\n",
    "Number literals\n",
    "The type of the number is most often determined by assigning it to a literal.\n",
    "\n",
    "**Python 2**"
   ]
  },
  {
   "cell_type": "code",
   "execution_count": 234,
   "metadata": {},
   "outputs": [
    {
     "data": {
      "text/plain": [
       "int"
      ]
     },
     "execution_count": 234,
     "metadata": {},
     "output_type": "execute_result"
    }
   ],
   "source": [
    ">>> x = 5\n",
    ">>> type(x)"
   ]
  },
  {
   "cell_type": "code",
   "execution_count": 235,
   "metadata": {},
   "outputs": [
    {
     "data": {
      "text/plain": [
       "int"
      ]
     },
     "execution_count": 235,
     "metadata": {},
     "output_type": "execute_result"
    }
   ],
   "source": [
    ">>> x = 187687654564658970978909869576453\n",
    ">>> type(x)"
   ]
  },
  {
   "cell_type": "code",
   "execution_count": 236,
   "metadata": {},
   "outputs": [
    {
     "data": {
      "text/plain": [
       "float"
      ]
     },
     "execution_count": 236,
     "metadata": {},
     "output_type": "execute_result"
    }
   ],
   "source": [
    ">>> x = 1.34763\n",
    ">>> type(x)"
   ]
  },
  {
   "cell_type": "code",
   "execution_count": 237,
   "metadata": {},
   "outputs": [
    {
     "data": {
      "text/plain": [
       "float"
      ]
     },
     "execution_count": 237,
     "metadata": {},
     "output_type": "execute_result"
    }
   ],
   "source": [
    ">>> x=5E3\n",
    ">>> type(x)"
   ]
  },
  {
   "cell_type": "code",
   "execution_count": 238,
   "metadata": {},
   "outputs": [
    {
     "data": {
      "text/plain": [
       "complex"
      ]
     },
     "execution_count": 238,
     "metadata": {},
     "output_type": "execute_result"
    }
   ],
   "source": [
    ">>> x = 5 + 2j\n",
    ">>> type(x)"
   ]
  },
  {
   "cell_type": "markdown",
   "metadata": {},
   "source": [
    "**Python 3**"
   ]
  },
  {
   "cell_type": "code",
   "execution_count": 239,
   "metadata": {},
   "outputs": [
    {
     "data": {
      "text/plain": [
       "int"
      ]
     },
     "execution_count": 239,
     "metadata": {},
     "output_type": "execute_result"
    }
   ],
   "source": [
    ">>> x = 5\n",
    ">>> type(x)"
   ]
  },
  {
   "cell_type": "code",
   "execution_count": 240,
   "metadata": {},
   "outputs": [
    {
     "data": {
      "text/plain": [
       "int"
      ]
     },
     "execution_count": 240,
     "metadata": {},
     "output_type": "execute_result"
    }
   ],
   "source": [
    ">>> x = 187687654564658970978909869576453\n",
    ">>> type(x)"
   ]
  },
  {
   "cell_type": "code",
   "execution_count": 241,
   "metadata": {},
   "outputs": [
    {
     "data": {
      "text/plain": [
       "float"
      ]
     },
     "execution_count": 241,
     "metadata": {},
     "output_type": "execute_result"
    }
   ],
   "source": [
    ">>> x = 1.34763\n",
    ">>> type(x)"
   ]
  },
  {
   "cell_type": "code",
   "execution_count": 242,
   "metadata": {},
   "outputs": [
    {
     "data": {
      "text/plain": [
       "float"
      ]
     },
     "execution_count": 242,
     "metadata": {},
     "output_type": "execute_result"
    }
   ],
   "source": [
    ">>> x=5E3\n",
    ">>> type(x)"
   ]
  },
  {
   "cell_type": "code",
   "execution_count": 243,
   "metadata": {},
   "outputs": [
    {
     "data": {
      "text/plain": [
       "complex"
      ]
     },
     "execution_count": 243,
     "metadata": {},
     "output_type": "execute_result"
    }
   ],
   "source": [
    ">>> x = 5 + 2j\n",
    ">>> type(x)"
   ]
  },
  {
   "cell_type": "markdown",
   "metadata": {},
   "source": [
    "Int literals may include Octal and Hexadecimals."
   ]
  },
  {
   "cell_type": "code",
   "execution_count": 433,
   "metadata": {},
   "outputs": [],
   "source": [
    "#>>> x = 010  #octal 8 decimal Python 2 only\n",
    ">>> x = 0x10 #hex 15 decimal"
   ]
  },
  {
   "cell_type": "markdown",
   "metadata": {},
   "source": [
    "## Numerical Operators\n",
    "Basics\n",
    "Python math works like you would expect."
   ]
  },
  {
   "cell_type": "code",
   "execution_count": 434,
   "metadata": {},
   "outputs": [
    {
     "data": {
      "text/plain": [
       "6"
      ]
     },
     "execution_count": 434,
     "metadata": {},
     "output_type": "execute_result"
    }
   ],
   "source": [
    ">>> x = 2\n",
    ">>> y = 3\n",
    ">>> z = 5\n",
    ">>> x * y"
   ]
  },
  {
   "cell_type": "code",
   "execution_count": 435,
   "metadata": {},
   "outputs": [
    {
     "data": {
      "text/plain": [
       "5"
      ]
     },
     "execution_count": 435,
     "metadata": {},
     "output_type": "execute_result"
    }
   ],
   "source": [
    ">>> x + y"
   ]
  },
  {
   "cell_type": "code",
   "execution_count": 436,
   "metadata": {},
   "outputs": [
    {
     "data": {
      "text/plain": [
       "11"
      ]
     },
     "execution_count": 436,
     "metadata": {},
     "output_type": "execute_result"
    }
   ],
   "source": [
    ">>> x * y + z"
   ]
  },
  {
   "cell_type": "code",
   "execution_count": 437,
   "metadata": {},
   "outputs": [
    {
     "data": {
      "text/plain": [
       "25"
      ]
     },
     "execution_count": 437,
     "metadata": {},
     "output_type": "execute_result"
    }
   ],
   "source": [
    ">>> (x + y) * z"
   ]
  },
  {
   "cell_type": "markdown",
   "metadata": {},
   "source": [
    "Note that Python’s arithmetic adhere to the PEMDAS.  A full list of operators an their order of precedence is shown later.\n",
    "Powers (`**`)\n",
    "There is a builtin exponentiation operator '`**`', which can take either integers, floating point or complex numbers. This \n",
    "its proper place in the order of operations.\n",
    "Division and Type Conversion (`/ //`)\n",
    "For Python 2.x, dividing two integers or longs uses integer division, also known as \"floor division\" (applying the floor function after division. So, for example, `5 / 2` is 2. Using \"`/`\" to do division this way is deprecated; if you want floor division, use \"`//`\" (available in Python 2.2 and later).\n",
    "\"`/`\" does \"true division\" for floats and complex numbers; for example, `5.0/2.0` is 2.5.\n",
    "For Python 3.x, \"`/`\" does \"true division\" for all types.\n",
    "Dividing by or into a floating point number (there are no fractional types in Python) will cause Python to use true division. To coerce an integer to become a float, 'float()' with the integer as a parameter."
   ]
  },
  {
   "cell_type": "code",
   "execution_count": 438,
   "metadata": {},
   "outputs": [
    {
     "data": {
      "text/plain": [
       "5.0"
      ]
     },
     "execution_count": 438,
     "metadata": {},
     "output_type": "execute_result"
    }
   ],
   "source": [
    ">>> x = 5\n",
    ">>> float(x)"
   ]
  },
  {
   "cell_type": "markdown",
   "metadata": {},
   "source": [
    "This can be generalized for other numeric types: int(), complex(), long().\n",
    "Beware that due to the limitations of floating point arithmetic, rounding errors can cause unexpected results. \n",
    "For example:"
   ]
  },
  {
   "cell_type": "code",
   "execution_count": 439,
   "metadata": {},
   "outputs": [
    {
     "name": "stdout",
     "output_type": "stream",
     "text": [
      "2.9999999999999996\n"
     ]
    }
   ],
   "source": [
    ">>> print(0.6/0.2)"
   ]
  },
  {
   "cell_type": "code",
   "execution_count": 440,
   "metadata": {},
   "outputs": [
    {
     "name": "stdout",
     "output_type": "stream",
     "text": [
      "2.0\n"
     ]
    }
   ],
   "source": [
    ">>> print(0.6//0.2)"
   ]
  },
  {
   "cell_type": "markdown",
   "metadata": {},
   "source": [
    "Using:\n",
    "`from __future__ import division`\n",
    "Causes Python 2 to behave like Python 3 with respect to division.\n",
    "```Python\n",
    ">>> 5/2\n",
    "2\n",
    ">>>5/2.\n",
    "2.5\n",
    ">>>5./2\n",
    "2.5\n",
    ">>> from __future__ import division\n",
    ">>> 5/2\n",
    "2.5\n",
    ">>> 5//2\n",
    "2\n",
    "```"
   ]
  },
  {
   "cell_type": "markdown",
   "metadata": {},
   "source": [
    "**Modulo (%)**\n",
    "The modulus (remainder of the division of the two operands, rather than the quotient) can be found using the `%` operator, or by the divmod builtin function. The divmod function returns a tuple containing the quotient and remainder.\n",
    "\n",
    "**Negation**\n",
    "Unlike some other languages, variables can be negated directly:"
   ]
  },
  {
   "cell_type": "code",
   "execution_count": 424,
   "metadata": {},
   "outputs": [
    {
     "data": {
      "text/plain": [
       "-5"
      ]
     },
     "execution_count": 424,
     "metadata": {},
     "output_type": "execute_result"
    }
   ],
   "source": [
    ">>> x = 5\n",
    ">>> -x"
   ]
  },
  {
   "cell_type": "markdown",
   "metadata": {},
   "source": [
    "**Augmented Assignment**\n",
    "\n",
    "There is shorthand for assigning the output of an operation to one of the inputs:"
   ]
  },
  {
   "cell_type": "code",
   "execution_count": 425,
   "metadata": {},
   "outputs": [
    {
     "data": {
      "text/plain": [
       "2"
      ]
     },
     "execution_count": 425,
     "metadata": {},
     "output_type": "execute_result"
    }
   ],
   "source": [
    ">>> x = 2\n",
    ">>> x # 2"
   ]
  },
  {
   "cell_type": "code",
   "execution_count": 426,
   "metadata": {},
   "outputs": [
    {
     "data": {
      "text/plain": [
       "6"
      ]
     },
     "execution_count": 426,
     "metadata": {},
     "output_type": "execute_result"
    }
   ],
   "source": [
    ">>> x *= 3\n",
    ">>> x # 2 * 3"
   ]
  },
  {
   "cell_type": "code",
   "execution_count": 427,
   "metadata": {},
   "outputs": [
    {
     "data": {
      "text/plain": [
       "10"
      ]
     },
     "execution_count": 427,
     "metadata": {},
     "output_type": "execute_result"
    }
   ],
   "source": [
    ">>> x += 4\n",
    ">>> x # 2 * 3 + 4"
   ]
  },
  {
   "cell_type": "code",
   "execution_count": 428,
   "metadata": {},
   "outputs": [
    {
     "data": {
      "text/plain": [
       "2.0"
      ]
     },
     "execution_count": 428,
     "metadata": {},
     "output_type": "execute_result"
    }
   ],
   "source": [
    ">>> x /= 5\n",
    ">>> x # (2 * 3 + 4) / 5"
   ]
  },
  {
   "cell_type": "code",
   "execution_count": 246,
   "metadata": {},
   "outputs": [
    {
     "data": {
      "text/plain": [
       "(0.84+0.8j)"
      ]
     },
     "execution_count": 246,
     "metadata": {},
     "output_type": "execute_result"
    }
   ],
   "source": [
    ">>> x **= 2\n",
    ">>> x # ((2 * 3 + 4) / 5) ** 2"
   ]
  },
  {
   "cell_type": "code",
   "execution_count": 429,
   "metadata": {},
   "outputs": [
    {
     "data": {
      "text/plain": [
       "2.0"
      ]
     },
     "execution_count": 429,
     "metadata": {},
     "output_type": "execute_result"
    }
   ],
   "source": [
    ">>> x %= 3\n",
    ">>> x # ((2 * 3 + 4) / 5) ** 2 % 3"
   ]
  },
  {
   "cell_type": "markdown",
   "metadata": {},
   "source": [
    "**Boolean**\n",
    "\n",
    "Python supports dedicated boolean literals `True` and `False`, however any non zero number can be used to represent True.\n",
    "(*In fact only 0, \"empty\" containers and `None` are evaluated as `False`*)"
   ]
  },
  {
   "cell_type": "markdown",
   "metadata": {},
   "source": [
    "# Operators\n",
    "\n",
    "Operator | Description\n",
    " :---- | :------------- \n",
    "`x[index]`, `x.attribute`  |Subscription, slicing, call, attribute reference\n",
    "`** `|Exponentiation\n",
    "`+x`, `-x`, `~x` |Positive, negative, bitwise NOT\n",
    "`*`, `@`, `/`, `//`, `%` |Multiplication, matrix multiplication, division, floor division, remainder\n",
    "`+`, `-` | Addition and subtraction\n",
    "`<<`, `>>` | Shifts\n",
    "`& ^ |` | Bitwise AND XOR OR\n",
    "`in, not in, is, is not,  <, <=, >, >=, !=, ==` | Comparisons, including membership tests and identity tests\n",
    "`not x` | Boolean NOT\n",
    "`and` |  Boolean AND\n",
    "`or` | Boolean OR\n",
    "`if – else` | Conditional expression\n",
    "`lambda` | Lambda expression"
   ]
  },
  {
   "cell_type": "markdown",
   "metadata": {},
   "source": [
    "# Strings\n",
    "\n",
    "## String Literals\n",
    "Firstly lets look at string literals, that is how we create strings.\n",
    "We have single quoted strings:"
   ]
  },
  {
   "cell_type": "markdown",
   "metadata": {},
   "source": [
    "`str1 = 'hello world'`\n",
    "\n",
    "Double quoted strings\n",
    "\n",
    "`str1 = “hello world”`\n",
    "\n",
    "Triple quoted strings\n",
    "```Python\n",
    "str1 = '''\n",
    "           hello\n",
    "           world\n",
    "       '''\n",
    "str2 = \"\"\" \n",
    "              Hello\n",
    "              World\n",
    "        \"\"\"\n",
    " ```"
   ]
  },
  {
   "cell_type": "markdown",
   "metadata": {},
   "source": [
    "Triple quoted strings allow any characters between the sets of quotes including new lines. They are particularly useful if the output is HTML/XML or SQL, where newlines and quotes may be useful inside the string.\n",
    "\n",
    "### Escaping and Raw Strings\n",
    "Python strings support a number of ecsape codes including:\n",
    "\n",
    "Escape | Character\n",
    ":--- | :---\n",
    "`\\n` | Newline\n",
    "`\\r` | Carriage return\n",
    "`\\t` | Tab\n",
    "`\\\\` | A backslash"
   ]
  },
  {
   "cell_type": "code",
   "execution_count": 441,
   "metadata": {},
   "outputs": [
    {
     "name": "stdout",
     "output_type": "stream",
     "text": [
      "hello\n",
      "world\n"
     ]
    }
   ],
   "source": [
    ">>> print(\"hello\\nworld\")"
   ]
  },
  {
   "cell_type": "code",
   "execution_count": 442,
   "metadata": {},
   "outputs": [
    {
     "name": "stdout",
     "output_type": "stream",
     "text": [
      "hello\tworld\n"
     ]
    }
   ],
   "source": [
    ">>> print(\"hello\\tworld\")"
   ]
  },
  {
   "cell_type": "markdown",
   "metadata": {},
   "source": [
    "A raw string, which starts with an 'r' ingores escape sequences."
   ]
  },
  {
   "cell_type": "code",
   "execution_count": 443,
   "metadata": {},
   "outputs": [
    {
     "name": "stdout",
     "output_type": "stream",
     "text": [
      "hello\\tworld\n"
     ]
    }
   ],
   "source": [
    ">>> print(r\"hello\\tworld\")"
   ]
  },
  {
   "cell_type": "markdown",
   "metadata": {},
   "source": [
    "## String operations\n",
    "Strings in Python are part of a group of object types calles Sequences.  Much of the following operations work the same way for all sequences.\n",
    "\n",
    "### Equality\n",
    "Two strings are equal if and only if they have exactly the same contents, meaning that they are both the same length and each character has a one-to-one positional correspondence. Many other languages test strings only for identity; that is, they only test whether two strings occupy the same space in memory. This latter operation is possible in Python using the operator is.\n",
    "Example:"
   ]
  },
  {
   "cell_type": "code",
   "execution_count": null,
   "metadata": {},
   "outputs": [],
   "source": [
    ">>> a = 'hello'; b = 'hello' # Assign 'hello' to a and b.\n",
    ">>> print(a == b)             # True"
   ]
  },
  {
   "cell_type": "code",
   "execution_count": null,
   "metadata": {},
   "outputs": [],
   "source": [
    ">>> print(a == 'hello')       #"
   ]
  },
  {
   "cell_type": "code",
   "execution_count": null,
   "metadata": {},
   "outputs": [],
   "source": [
    ">>> print(a == \"hello\")       # (choice of delimiter is unimportant)"
   ]
  },
  {
   "cell_type": "code",
   "execution_count": null,
   "metadata": {},
   "outputs": [],
   "source": [
    ">>> print(a == 'hello ')      # (extra space)"
   ]
  },
  {
   "cell_type": "code",
   "execution_count": null,
   "metadata": {},
   "outputs": [],
   "source": [
    ">>> print(a == 'Hello')       # (wrong case)"
   ]
  },
  {
   "cell_type": "markdown",
   "metadata": {},
   "source": [
    "### Numerical\n",
    "There are two quasi-numerical operations which can be done on strings -- addition and multiplication. String addition is just another name for concatenation. String multiplication is repetitive addition, or concatenation. So:"
   ]
  },
  {
   "cell_type": "code",
   "execution_count": null,
   "metadata": {},
   "outputs": [],
   "source": [
    ">>> c = 'a'\n",
    ">>> c + 'b'"
   ]
  },
  {
   "cell_type": "code",
   "execution_count": null,
   "metadata": {},
   "outputs": [],
   "source": [
    ">>> c * 5"
   ]
  },
  {
   "cell_type": "markdown",
   "metadata": {},
   "source": [
    "## Formatting\n",
    "Strings cannot be concatenated with non-strings."
   ]
  },
  {
   "cell_type": "code",
   "execution_count": 444,
   "metadata": {},
   "outputs": [
    {
     "ename": "TypeError",
     "evalue": "can only concatenate str (not \"int\") to str",
     "output_type": "error",
     "traceback": [
      "\u001b[1;31m---------------------------------------------------------------------------\u001b[0m",
      "\u001b[1;31mTypeError\u001b[0m                                 Traceback (most recent call last)",
      "\u001b[1;32m<ipython-input-444-adc7d885322e>\u001b[0m in \u001b[0;36m<module>\u001b[1;34m\u001b[0m\n\u001b[0;32m      1\u001b[0m \u001b[0mchange\u001b[0m \u001b[1;33m=\u001b[0m \u001b[1;36m5\u001b[0m\u001b[1;33m\u001b[0m\u001b[1;33m\u001b[0m\u001b[0m\n\u001b[1;32m----> 2\u001b[1;33m \u001b[0mprint\u001b[0m\u001b[1;33m(\u001b[0m\u001b[1;34m'the change is '\u001b[0m \u001b[1;33m+\u001b[0m \u001b[0mchange\u001b[0m \u001b[1;33m+\u001b[0m \u001b[1;34m' cents'\u001b[0m\u001b[1;33m)\u001b[0m\u001b[1;33m\u001b[0m\u001b[1;33m\u001b[0m\u001b[0m\n\u001b[0m",
      "\u001b[1;31mTypeError\u001b[0m: can only concatenate str (not \"int\") to str"
     ]
    }
   ],
   "source": [
    ">>> change = 5\n",
    "print('the change is ' + change + ' cents')"
   ]
  },
  {
   "cell_type": "markdown",
   "metadata": {},
   "source": [
    "The `print()` function accepts multiple arguments and thus the problem could be solved as follows:"
   ]
  },
  {
   "cell_type": "code",
   "execution_count": 445,
   "metadata": {},
   "outputs": [
    {
     "name": "stdout",
     "output_type": "stream",
     "text": [
      "the change is  5  cents\n"
     ]
    }
   ],
   "source": [
    ">>> change = 5\n",
    "print('the change is ', change, ' cents')"
   ]
  },
  {
   "cell_type": "markdown",
   "metadata": {},
   "source": [
    "The above only works if you wish to print the output to the terminal.  A more general solution would be to use the string literal's support for variable interpolation.  That is we can place the value of a variable in the middle of a string as follows:"
   ]
  },
  {
   "cell_type": "code",
   "execution_count": 249,
   "metadata": {},
   "outputs": [
    {
     "name": "stdout",
     "output_type": "stream",
     "text": [
      "the change is 5 cents\n"
     ]
    }
   ],
   "source": [
    ">>> change = 5\n",
    ">>> print('the change is %d cents' %  change)"
   ]
  },
  {
   "cell_type": "markdown",
   "metadata": {},
   "source": [
    "One or more values or variables can be placed in the middle of a string, using the % operator.  The format method cand do the same thing.\n",
    "\n",
    "**The format method – The New Way**"
   ]
  },
  {
   "cell_type": "code",
   "execution_count": 250,
   "metadata": {},
   "outputs": [
    {
     "name": "stdout",
     "output_type": "stream",
     "text": [
      "the change is 5 cents\n"
     ]
    }
   ],
   "source": [
    ">>> change = 5\n",
    ">>> print('the change is {} cents'.format(change))"
   ]
  },
  {
   "cell_type": "markdown",
   "metadata": {},
   "source": [
    "By default values are formatted to take up only as many characters as needed to represent the content. It is however also possible to define that a value should be padded to a specific length.\n",
    "Unfortunately the default alignment differs between old and new style formatting. The old style defaults to right aligned while for new style it's left."
   ]
  },
  {
   "cell_type": "markdown",
   "metadata": {},
   "source": [
    "Format | Old Way | Format Method | Output\n",
    ":-----  | :----  | :---- | ---\n",
    "Align right | `'%10s' % ('test',)` | `'{:>10}'.format('test')` |`       test`\n",
    "Align left  | `'%-10s' % ('test',)` | `'{:10}'.format('test')` | `test      `"
   ]
  },
  {
   "cell_type": "markdown",
   "metadata": {},
   "source": [
    "Similar to strings numbers can also be constrained to a specific width.\n",
    "\n",
    "Format | Old Way | Format Method | Output\n",
    ":-----  | :----  | :---- | ---\n",
    "Field Width| `'%4d' % (42,)` | `'{:4d}'.format(42)` | `  42`"
   ]
  },
  {
   "cell_type": "markdown",
   "metadata": {},
   "source": [
    "Again similar to truncating strings the precision for floating point numbers limits the number of positions after the decimal point.\n",
    "For floating points the padding value represents the length of the complete output. In the example below we want our output to have at least 6 characters with 2 after the decimal point.\n",
    "\n",
    "Format | Old Way | Format Method | Output\n",
    ":-----  | :----  | :---- | ---\n",
    "Decimal Places | `'%06.2f' % (3.141592653589793,)` | `'{:06.2f}'.format(3.141592653589793)` | `003.14`\n",
    "\n",
    "For integer values providing a precision doesn't make much sense and is actually forbidden in the new style (it will result in a ValueError).\n",
    "\n",
    "Format | Old Way | Format Method | Output\n",
    ":-----  | :----  | :---- | ---\n",
    "Zero Padding | `'%04d' % (42,)` | `'{:04d}'.format(42)` | `0042`"
   ]
  },
  {
   "cell_type": "markdown",
   "metadata": {},
   "source": [
    "### Sequence Operators\n",
    "Strings, along with lists and tuples are part of a group of types called sequences.  All sequences support the in orator, indexing (ordinal subscripts) and slicing.\n",
    "Containment\n",
    "There is a simple operator `in` that returns True if the first operand is contained in the second. This also works on substrings"
   ]
  },
  {
   "cell_type": "code",
   "execution_count": 251,
   "metadata": {},
   "outputs": [
    {
     "data": {
      "text/plain": [
       "False"
      ]
     },
     "execution_count": 251,
     "metadata": {},
     "output_type": "execute_result"
    }
   ],
   "source": [
    ">>> x = 'hello'\n",
    ">>> y = 'll'\n",
    ">>> x in y"
   ]
  },
  {
   "cell_type": "code",
   "execution_count": 252,
   "metadata": {},
   "outputs": [
    {
     "data": {
      "text/plain": [
       "True"
      ]
     },
     "execution_count": 252,
     "metadata": {},
     "output_type": "execute_result"
    }
   ],
   "source": [
    ">>> y in x"
   ]
  },
  {
   "cell_type": "markdown",
   "metadata": {},
   "source": [
    "Note that `print(x in y)` would have also returned the same value.\n",
    "\n",
    "## Indexing and Slicing\n",
    "Much like arrays in other languages, the individual characters in a string can be accessed by an integer representing its position in the string. The first character in string s would be `s[0]` and the nth character would be at `s[n-1]`."
   ]
  },
  {
   "cell_type": "code",
   "execution_count": 253,
   "metadata": {},
   "outputs": [
    {
     "data": {
      "text/plain": [
       "'a'"
      ]
     },
     "execution_count": 253,
     "metadata": {},
     "output_type": "execute_result"
    }
   ],
   "source": [
    ">>> s = \"Xanadu\"\n",
    ">>> s[1]"
   ]
  },
  {
   "cell_type": "markdown",
   "metadata": {},
   "source": [
    "Unlike arrays in other languages, Python also indexes the arrays backwards, using negative numbers. The last character has index -1, the second to last character has index -2, and so on."
   ]
  },
  {
   "cell_type": "code",
   "execution_count": 254,
   "metadata": {},
   "outputs": [
    {
     "data": {
      "text/plain": [
       "'n'"
      ]
     },
     "execution_count": 254,
     "metadata": {},
     "output_type": "execute_result"
    }
   ],
   "source": [
    ">>> s[-4]"
   ]
  },
  {
   "cell_type": "markdown",
   "metadata": {},
   "source": [
    "We can also use \"slices\" to access a substring of s. s[a:b] will give us a string starting with s[a] and ending with s[b-1]."
   ]
  },
  {
   "cell_type": "code",
   "execution_count": 255,
   "metadata": {},
   "outputs": [
    {
     "data": {
      "text/plain": [
       "'ana'"
      ]
     },
     "execution_count": 255,
     "metadata": {},
     "output_type": "execute_result"
    }
   ],
   "source": [
    ">>> s[1:4]"
   ]
  },
  {
   "cell_type": "markdown",
   "metadata": {},
   "source": [
    "Neither of these is assignable."
   ]
  },
  {
   "cell_type": "code",
   "execution_count": 256,
   "metadata": {},
   "outputs": [
    {
     "name": "stdout",
     "output_type": "stream",
     "text": [
      "Xanadu\n"
     ]
    },
    {
     "ename": "TypeError",
     "evalue": "'str' object does not support item assignment",
     "output_type": "error",
     "traceback": [
      "\u001b[1;31m---------------------------------------------------------------------------\u001b[0m",
      "\u001b[1;31mTypeError\u001b[0m                                 Traceback (most recent call last)",
      "\u001b[1;32m<ipython-input-256-c61426e4393c>\u001b[0m in \u001b[0;36m<module>\u001b[1;34m\u001b[0m\n\u001b[0;32m      1\u001b[0m \u001b[0mprint\u001b[0m\u001b[1;33m(\u001b[0m\u001b[0ms\u001b[0m\u001b[1;33m)\u001b[0m\u001b[1;33m\u001b[0m\u001b[1;33m\u001b[0m\u001b[0m\n\u001b[1;32m----> 2\u001b[1;33m \u001b[0ms\u001b[0m\u001b[1;33m[\u001b[0m\u001b[1;36m0\u001b[0m\u001b[1;33m]\u001b[0m \u001b[1;33m=\u001b[0m \u001b[1;34m'J'\u001b[0m\u001b[1;33m\u001b[0m\u001b[1;33m\u001b[0m\u001b[0m\n\u001b[0m",
      "\u001b[1;31mTypeError\u001b[0m: 'str' object does not support item assignment"
     ]
    }
   ],
   "source": [
    ">>> print(s)\n",
    ">>> s[0] = 'J'"
   ]
  },
  {
   "cell_type": "code",
   "execution_count": null,
   "metadata": {},
   "outputs": [],
   "source": [
    ">>> s[1:3] = \"up\""
   ]
  },
  {
   "cell_type": "code",
   "execution_count": null,
   "metadata": {},
   "outputs": [],
   "source": [
    ">>> print(s)"
   ]
  },
  {
   "cell_type": "markdown",
   "metadata": {},
   "source": [
    "Another feature of slices is that if the beginning or end is left empty, it will default to the first or last index, depending on context:"
   ]
  },
  {
   "cell_type": "code",
   "execution_count": null,
   "metadata": {},
   "outputs": [],
   "source": [
    ">>> s[2:]"
   ]
  },
  {
   "cell_type": "code",
   "execution_count": null,
   "metadata": {},
   "outputs": [],
   "source": [
    ">>> s[:3]"
   ]
  },
  {
   "cell_type": "code",
   "execution_count": null,
   "metadata": {},
   "outputs": [],
   "source": [
    ">>> s[:]"
   ]
  },
  {
   "cell_type": "markdown",
   "metadata": {},
   "source": [
    "You can also use negative numbers in slices:"
   ]
  },
  {
   "cell_type": "code",
   "execution_count": null,
   "metadata": {},
   "outputs": [],
   "source": [
    ">>> s[-2:]"
   ]
  },
  {
   "cell_type": "markdown",
   "metadata": {},
   "source": [
    "To understand slices, it's easiest not to count the elements themselves. It is a bit like counting not on your fingers, but in the spaces between them. The list is indexed like this:\n",
    "```\n",
    "Element:     1     2     3     4\n",
    "Index:       0     1     2     3\n",
    "            -4    -3    -2    -1\n",
    "```"
   ]
  },
  {
   "cell_type": "markdown",
   "metadata": {},
   "source": [
    "So, when we ask for the `[1:3]` slice, that means we start at index 1, and end at index 3, and take everything in between them. If you are used to indexes in C or Java, this can be a bit disconcerting until you get used to it."
   ]
  },
  {
   "cell_type": "markdown",
   "metadata": {},
   "source": [
    "## String methods\n",
    "There are a number of methods of built-in string functions:"
   ]
  },
  {
   "cell_type": "markdown",
   "metadata": {},
   "source": [
    "\n",
    "    \n",
    "Method|Description\n",
    "---|---\n",
    "`capitalize()`|Return a copy of the string with only its first character capitalized.  \n",
    "`lower()`|Return a copy of the string converted to lowercase. For 8-bit strings, this method is locale-dependent. \n",
    "`swapcase()`|Return a copy of the string with uppercase characters converted to lowercase and vice versa. \n",
    "`title()`|Return a titlecased version of the string: words start with uppercase characters, all remaining cased characters are lowercase. \n",
    "`upper()`|Return a copy of the string converted to uppercase. \n",
    "\n",
    "\n",
    "Example:"
   ]
  },
  {
   "cell_type": "code",
   "execution_count": null,
   "metadata": {},
   "outputs": [],
   "source": [
    ">>> s = 'Hello, wOrLD'\n",
    ">>> s\n",
    "'Hello, wOrLD'\n",
    ">>> s.title()\n",
    "'Hello, World'\n",
    ">>> s.swapcase()\n",
    "'hELLO, WoRld'\n",
    ">>> s.upper()\n",
    "'HELLO, WORLD'\n",
    ">>> s.lower()\n",
    "'hello, world'\n",
    ">>> s.capitalize()\n",
    "'Hello, world'"
   ]
  },
  {
   "cell_type": "markdown",
   "metadata": {},
   "source": [
    "Method | Description\n",
    ":--- | :---\n",
    "`center(width[, fillchar])` | Return centered in a string of length width. Padding is done using the specified fillchar (default is a space). Changed in version 2.4: Support for the fillchar argument. \n",
    "`ljust(width[, fillchar])` | Return the string left justified in a string of length width. Padding is done using the specified fillchar (default is a space). The original string is returned if width is less than len(s). Changed in version 2.4: Support for the fillchar argument. \n",
    "`rjust(width[, fillchar])` | Return the string right justified in a string of length width. Padding is done using the specified fillchar (default is a space). The original string is returned if width is less than len(s). Changed in version 2.4: Support for the fillchar argument.\n",
    "\n",
    "Example:"
   ]
  },
  {
   "cell_type": "code",
   "execution_count": null,
   "metadata": {},
   "outputs": [],
   "source": [
    "'centered in 80 cols'.center(80)"
   ]
  },
  {
   "cell_type": "code",
   "execution_count": null,
   "metadata": {},
   "outputs": [],
   "source": [
    "'centered in 80 cols'.center(80, '-')"
   ]
  },
  {
   "cell_type": "code",
   "execution_count": null,
   "metadata": {},
   "outputs": [],
   "source": [
    "'left justified'.ljust(80, '-')"
   ]
  },
  {
   "cell_type": "code",
   "execution_count": null,
   "metadata": {},
   "outputs": [],
   "source": [
    "'right justified'.rjust(80)"
   ]
  },
  {
   "cell_type": "markdown",
   "metadata": {},
   "source": [
    "`count(sub[, start[, end]])` | Return the number of occurrences of substring sub in string `S[start:end]`. Optional arguments start and end are interpreted as in slice notation.\n",
    "\n",
    "Example:"
   ]
  },
  {
   "cell_type": "code",
   "execution_count": 257,
   "metadata": {},
   "outputs": [
    {
     "data": {
      "text/plain": [
       "3"
      ]
     },
     "execution_count": 257,
     "metadata": {},
     "output_type": "execute_result"
    }
   ],
   "source": [
    ">>> s = 'Hello, world'\n",
    ">>> s.count('l') # print the number of 'l's in 'Hello, World' (3)"
   ]
  },
  {
   "cell_type": "markdown",
   "metadata": {},
   "source": [
    "#### `decode([encoding[, errors]])`\n",
    "Decodes the string using the codec registered for encoding. encoding defaults to the default string encoding. errors may be given to set a different error handling scheme. The default is 'strict', meaning that encoding errors raise UnicodeError. Other possible values are 'ignore', 'replace' and any other name registered via codecs.register_error, see section 4.8.1. New in version 2.2. Changed in version 2.3: Support for other error handling schemes added. \n",
    "\n",
    "#### `encode([encoding[,errors]])`\n",
    "Return an encoded version of the string. Default encoding is the current default string encoding. errors may be given to set a different error handling scheme. The default for errors is 'strict', meaning that encoding errors raise a UnicodeError. Other possible values are 'ignore', 'replace', 'xmlcharrefreplace', 'backslashreplace' and any other name registered via codecs.register_error, see section 4.8.1. For a list of possible encodings, see section 4.8.3. New in version 2.0. Changed in version 2.3: Support for 'xmlcharrefreplace' and 'backslashreplace' and other error handling schemes added. \n",
    "\n",
    "#### `ndswith(suffix[, start[, end]])`\n",
    "Return True if the string ends with the specified suffix, otherwise return False. suffix can also be a tuple of suffixes to look for. With optional start, test beginning at that position. With optional end, stop comparing at that position. \n",
    "\n",
    "#### `expandtabs([tabsize])`\n",
    "Return a copy of the string where all tab characters are expanded using spaces. If tabsize is not given, a tab size of 8 characters is assumed. "
   ]
  },
  {
   "cell_type": "markdown",
   "metadata": {},
   "source": [
    "Method | Description\n",
    ":---- | :-----\n",
    "`find(sub[, start[, end]])` | Return the lowest index in the string where substring sub is found, such that sub is contained in the range `[start, end]`. Optional arguments start and end are interpreted as in slice notation. Return -1 if sub is not found. \n",
    "`index(sub[, start[, end]])` | Like find(), but raise ValueError when the substring is not found. \n",
    "`rfind(sub [,start [,end]])` | Return the highest index in the string where substring sub is found, such that sub is contained within `s[start,end]`. Optional arguments start and end are interpreted as in slice notation. Return -1 on failure. \n",
    "`rindex(sub[, start[, end]])` | Like rfind() but raises ValueError when the substring sub is not found. "
   ]
  },
  {
   "cell_type": "markdown",
   "metadata": {},
   "source": [
    "Method | Description\n",
    ":---- | :-----\n",
    "`isalnum()` | Return true if all characters in the string are alphanumeric and there is at least one character, false otherwise. \n",
    "`isalpha()` | Return true if all characters in the string are alphabetic and there is at least one character, false otherwise. \n",
    "`isdigit()` | Return true if all characters in the string are digits and there is at least one character, false otherwise. \n",
    "`islower()` | Return true if all cased characters in the string are lowercase and there is at least one cased character, false otherwise. \n",
    "`isspace()` | Return true if there are only whitespace characters in the string and there is at least one character, false otherwise. \n",
    "`istitle()` | Return true if the string is a titlecased string and there is at least one character, for example uppercase characters may only follow uncased characters and lowercase characters only cased ones. Return false otherwise. \n",
    "`isupper()` | Return true if all cased characters in the string are uppercase and there is at least one cased character, false otherwise. \n",
    "\n",
    "Example:"
   ]
  },
  {
   "cell_type": "code",
   "execution_count": 258,
   "metadata": {},
   "outputs": [
    {
     "data": {
      "text/plain": [
       "True"
      ]
     },
     "execution_count": 258,
     "metadata": {},
     "output_type": "execute_result"
    }
   ],
   "source": [
    ">>> '2YK'.istitle()\n",
    "False\n",
    ">>> '2Yk'.istitle()\n",
    "True\n",
    ">>> '2Y K'.istitle()"
   ]
  },
  {
   "cell_type": "markdown",
   "metadata": {},
   "source": [
    "#### `join(seq)`\n",
    "Return a string which is the concatenation of the strings in the sequence seq. The separator between elements is the string providing this method. \n",
    "\n",
    "\n",
    "#### `lstrip([chars])`\n",
    "Return a copy of the string with leading characters removed. The chars argument is a string specifying the set of characters to be removed. If omitted or None, the chars argument defaults to removing whitespace. The chars argument is not a prefix; rather, all combinations of its values are stripped: "
   ]
  },
  {
   "cell_type": "code",
   "execution_count": 259,
   "metadata": {},
   "outputs": [
    {
     "data": {
      "text/plain": [
       "'spacious   '"
      ]
     },
     "execution_count": 259,
     "metadata": {},
     "output_type": "execute_result"
    }
   ],
   "source": [
    "'   spacious   '.lstrip()"
   ]
  },
  {
   "cell_type": "code",
   "execution_count": 260,
   "metadata": {},
   "outputs": [
    {
     "data": {
      "text/plain": [
       "'example.com'"
      ]
     },
     "execution_count": 260,
     "metadata": {},
     "output_type": "execute_result"
    }
   ],
   "source": [
    "'www.example.com'.lstrip('cmowz.')"
   ]
  },
  {
   "cell_type": "markdown",
   "metadata": {},
   "source": [
    "#### `partition(sep)`\n",
    "Split the string at the first occurrence of sep, and return a 3-tuple containing the part before the separator, the separator itself, and the part after the separator. If the separator is not found, return a 3-tuple containing the string itself, followed by two empty strings. . \n",
    "\n",
    "#### `replace(\n",
    "old, new[, count])`\n",
    "Return a copy of the string with all occurrences of substring old replaced by new. If the optional argument count is given, only the first count occurrences are replaced. \n",
    "\n",
    "#### `rpartition(sep)`\n",
    "Split the string at the last occurrence of sep, and return a 3-tuple containing the part before the separator, the separator itself, and the part after the separator. If the separator is not found, return a 3-tuple containing two empty strings, followed by the string itself. New in version 2.5. \n",
    "\n",
    "#### `rsplit([sep [,maxsplit]])`\n",
    "Return a list of the words in the string, using sep as the delimiter string. If maxsplit is given, at most maxsplit splits are done, the rightmost ones. If sep is not specified or None, any whitespace string is a separator. Except for splitting from the right, `rsplit()` behaves like `split()` which is described in detail below. New in version 2.4. \n",
    "\n",
    "#### `rstrip([chars])`\n",
    "Return a copy of the string with trailing characters removed. The chars argument is a string specifying the set of characters to be removed. If omitted or None, the chars argument defaults to removing whitespace. The chars argument is not a suffix; rather, all combinations of its values are stripped: \n",
    "```python    \n",
    ">>> '   spacious   '.rstrip()\n",
    "'   spacious'\n",
    ">>> 'mississippi'.rstrip('ipz')\n",
    "'mississ'\n",
    "```\n",
    "\n",
    "#### `split([sep [,maxsplit]])`\n",
    "Return a list of the words in the string, using sep as the delimiter string. If maxsplit is given, at most maxsplit splits are done. (thus, the list will have at most maxsplit+1 elements). If maxsplit is not specified, then there is no limit on the number of splits (all possible splits are made). Consecutive delimiters are not grouped together and are deemed to delimit empty strings (for example, \"'1„2'.split(',')\"returns \"['1', '', '2']\"). The sep argument may consist of multiple characters (for example, \"'1, 2, 3'.split(', ')\" returns \"['1', '2', '3']\"). Splitting an empty string with a specified separator returns \"['']\". \n",
    "\n",
    "If sep is not specified or is None, a different splitting algorithm is applied. First, whitespace characters (spaces, tabs, newlines, returns, and formfeeds) are stripped from both ends. Then, words are separated by arbitrary length strings of whitespace characters. Consecutive whitespace delimiters are treated as a single delimiter (\"'1 2 3'.split()\" returns \"['1', '2', '3']\"). Splitting an empty string or a string consisting of just whitespace returns an empty list. \n",
    "\n",
    "#### `splitlines([keepends])`\n",
    "Return a list of the lines in the string, breaking at line boundaries. Line breaks are not included in the resulting list unless keepends is given and true. \n",
    "\n",
    "#### `startswith(prefix[, start[, end]])`\n",
    "Return True if string starts with the prefix, otherwise return False. prefix can also be a tuple of prefixes to look for. With optional start, test string beginning at that position. With optional end, stop comparing string at that position. \n",
    "\n",
    "#### `strip([chars])`\n",
    "Return a copy of the string with the leading and trailing characters removed. The chars argument is a string specifying the set of characters to be removed. If omitted or None, the chars argument defaults to removing whitespace. The chars argument is not a prefix or suffix; rather, all combinations of its values are stripped: \n",
    "   ```python\n",
    "    >>> '   spacious   '.strip()\n",
    "    'spacious'\n",
    "    >>> 'www.example.com'.strip('cmowz.')\n",
    "    'example'\n",
    "    ```\n",
    "\n",
    "#### `translate(table[, deletechars])`\n",
    "Return a copy of the string where all characters occurring in the optional argument deletechars are removed, and the remaining characters have been mapped through the given translation table, which must be a string of length 256. \n",
    "You can use the maketrans() helper function in the string module to create a translation table. \n",
    "\n",
    "#### `zfill(width)`\n",
    "Return the numeric string left filled with zeros in a string of length width. The original string is returned if width is less than len(s). \n",
    "\n",
    "#### `Format(  *args, **kwargs)`\n",
    "      Return a formatted version of the string, using substitutions from args and kwargs.\n",
    "      The substitutions are identified by braces ('{' and '}')."
   ]
  },
  {
   "cell_type": "markdown",
   "metadata": {},
   "source": [
    "# Lists\n",
    "About lists in Python\n",
    "A list in Python is an ordered group of items (or elements). It is a very general structure, and list elements don't have to be of the same type. For instance, you could put numbers, letters, strings and donkeys all on the same list.\n",
    "Like strings lists are sequences, however unlike strings lists are mutable that means you can actually change a list after creating it unlike a strings."
   ]
  },
  {
   "cell_type": "code",
   "execution_count": 261,
   "metadata": {},
   "outputs": [
    {
     "name": "stdout",
     "output_type": "stream",
     "text": [
      "hello there\n"
     ]
    }
   ],
   "source": [
    ">>> s = \"hello\" \n",
    ">>> z = s \n",
    ">>> s += \" there\" \n",
    ">>> print(s) "
   ]
  },
  {
   "cell_type": "code",
   "execution_count": 262,
   "metadata": {},
   "outputs": [
    {
     "name": "stdout",
     "output_type": "stream",
     "text": [
      "hello\n"
     ]
    }
   ],
   "source": [
    ">>> print(z) "
   ]
  },
  {
   "cell_type": "code",
   "execution_count": 263,
   "metadata": {},
   "outputs": [
    {
     "data": {
      "text/plain": [
       "[1, 2, 3, 4, 5, 6, 7]"
      ]
     },
     "execution_count": 263,
     "metadata": {},
     "output_type": "execute_result"
    }
   ],
   "source": [
    ">>> l = [1,2,3,4] \n",
    ">>> m = l \n",
    ">>> l += [5,6,7] \n",
    ">>> l "
   ]
  },
  {
   "cell_type": "code",
   "execution_count": 264,
   "metadata": {},
   "outputs": [
    {
     "data": {
      "text/plain": [
       "[1, 2, 3, 4, 5, 6, 7]"
      ]
     },
     "execution_count": 264,
     "metadata": {},
     "output_type": "execute_result"
    }
   ],
   "source": [
    ">>> m "
   ]
  },
  {
   "cell_type": "markdown",
   "metadata": {},
   "source": [
    "## List notation\n",
    "There are two different ways to make a list in python. The first is through assignment (\"statically\"), the second is using list comprehensions(\"actively\").\n",
    "\n",
    "To make a static list of items, write them between square brackets. For example:\n",
    "`[ 1,2,3,\"This is a list\",'c',Donkey(\"kong\") ]`\n",
    "\n",
    "A couple of things to look at.\n",
    "    1. There are different data types here. Lists in python may contain more than one data type. \n",
    "    2. Objects can be created 'on the fly' and added to lists. The last item is a new kind of Donkey. \n",
    "\n",
    "Writing lists this way is very quick (and obvious). However, it does not take into account the current state of anything else. The other way to make a list is to form it using list comprehension. That means you actually describe the process. To do that, the list is broken into two pieces. The first is a picture of what each element will look like, and the second is what you do to get it.\n",
    "For instance, lets say we have a list of words:\n",
    "`listOfWords = [\"this\",\"is\",\"a\",\"list\",\"of\",\"words\"]`\n",
    "\n",
    "We will take the first letter of each word and make a list out of it."
   ]
  },
  {
   "cell_type": "code",
   "execution_count": 265,
   "metadata": {},
   "outputs": [
    {
     "name": "stdout",
     "output_type": "stream",
     "text": [
      "['t', 'i', 'a', 'l', 'o', 'w']\n"
     ]
    }
   ],
   "source": [
    ">>> listOfWords = [\"this\",\"is\",\"a\",\"list\",\"of\",\"words\"]\n",
    ">>> items = [ word[0] for word in listOfWords ]\n",
    ">>> print(items)"
   ]
  },
  {
   "cell_type": "markdown",
   "metadata": {},
   "source": [
    "List comprehension allows you to use more than one for statement. It will evaluate the items in all of the objects sequentially and will loop over the shorter objects if one object is longer than the rest.\n",
    "```python\n",
    ">>> item = [x+y for x in 'flower' for y in 'pot']\n",
    ">>> print(item)\n",
    "['fp', 'fo', 'ft', 'lp', 'lo', 'lt', 'op', 'oo', 'ot', 'wp', 'wo', 'wt', 'ep', 'eo', 'et', 'rp', 'ro', 'rt']\n",
    "```\n",
    "\n",
    "Python's list comprehension does not define a scope. Any variables that are bound in an evaluation remain bound to whatever they were last bound to when the evaluation was completed:\n",
    "```python\n",
    ">>> print(x, y_\n",
    "r t\n",
    "```\n",
    "\n",
    "This is exactly the same as if the comprehension had been expanded into an explicitly-nested group of one or more 'for' statements and 0 or more 'if' statements.\n",
    "List creation shortcuts\n",
    "Python provides a shortcut to initialize a list to a particular size and with an initial value for each element:\n",
    "```python\n",
    ">>> zeros=[0]*5\n",
    ">>> print zeros\n",
    "[0, 0, 0, 0, 0]\n",
    "```\n",
    "\n",
    "This works for any data type:\n",
    "```python\n",
    ">>> foos=['foo']*8\n",
    ">>> print foos\n",
    "['foo', 'foo', 'foo', 'foo', 'foo', 'foo', 'foo', 'foo']\n",
    "```\n",
    "\n",
    "with a caveat. When building a new list by multiplying, Python copies each item by reference. This poses a problem for mutable items, for instance in a multidimensional array where each element is itself a list. You'd guess that the easy way to generate a two dimensional array would be:"
   ]
  },
  {
   "cell_type": "code",
   "execution_count": 266,
   "metadata": {},
   "outputs": [
    {
     "name": "stdout",
     "output_type": "stream",
     "text": [
      "[[0, 0, 0, 0], [0, 0, 0, 0], [0, 0, 0, 0], [0, 0, 0, 0], [0, 0, 0, 0]]\n"
     ]
    }
   ],
   "source": [
    "listoflists=[ [0]*4 ] *5\n",
    "print(listoflists)"
   ]
  },
  {
   "cell_type": "markdown",
   "metadata": {},
   "source": [
    "and this works, but probably doesn't do what you expect:"
   ]
  },
  {
   "cell_type": "code",
   "execution_count": 267,
   "metadata": {},
   "outputs": [
    {
     "name": "stdout",
     "output_type": "stream",
     "text": [
      "[[0, 0, 0, 0], [0, 0, 0, 0], [0, 0, 0, 0], [0, 0, 0, 0], [0, 0, 0, 0]]\n"
     ]
    }
   ],
   "source": [
    ">>> listoflists=[ [0]*4 ] *5\n",
    ">>> print(listoflists)"
   ]
  },
  {
   "cell_type": "code",
   "execution_count": 268,
   "metadata": {},
   "outputs": [
    {
     "name": "stdout",
     "output_type": "stream",
     "text": [
      "[[0, 0, 1, 0], [0, 0, 1, 0], [0, 0, 1, 0], [0, 0, 1, 0], [0, 0, 1, 0]]\n"
     ]
    }
   ],
   "source": [
    ">>> listoflists[0][2]=1\n",
    ">>> print(listoflists)"
   ]
  },
  {
   "cell_type": "markdown",
   "metadata": {},
   "source": [
    "What's happening here is that Python is using the same reference to the inner list as the elements of the outer list. Another way of looking at this issue is to examine how Python sees the above definition:"
   ]
  },
  {
   "cell_type": "code",
   "execution_count": 269,
   "metadata": {},
   "outputs": [
    {
     "name": "stdout",
     "output_type": "stream",
     "text": [
      "[[0, 0, 0, 0], [0, 0, 0, 0], [0, 0, 0, 0], [0, 0, 0, 0], [0, 0, 0, 0]]\n"
     ]
    }
   ],
   "source": [
    ">>> innerlist=[0]*4\n",
    ">>> listoflists=[innerlist]*5\n",
    ">>> print(listoflists)"
   ]
  },
  {
   "cell_type": "code",
   "execution_count": 270,
   "metadata": {},
   "outputs": [
    {
     "name": "stdout",
     "output_type": "stream",
     "text": [
      "[[0, 0, 0, 0], [0, 0, 0, 0], [0, 0, 0, 0], [0, 0, 0, 0], [0, 0, 0, 0]]\n"
     ]
    }
   ],
   "source": [
    ">>> print(listoflists)"
   ]
  },
  {
   "cell_type": "markdown",
   "metadata": {},
   "source": [
    "Assuming the above effect is not what you intend, one way around this issue is to use list comprehensions:"
   ]
  },
  {
   "cell_type": "code",
   "execution_count": 271,
   "metadata": {},
   "outputs": [
    {
     "name": "stdout",
     "output_type": "stream",
     "text": [
      "[[0, 0, 0, 0], [0, 0, 0, 0], [0, 0, 0, 0], [0, 0, 0, 0], [0, 0, 0, 0]]\n"
     ]
    }
   ],
   "source": [
    ">>> listoflists=[[0]*4 for i in range(5)]\n",
    ">>> print(listoflists)"
   ]
  },
  {
   "cell_type": "code",
   "execution_count": 272,
   "metadata": {},
   "outputs": [
    {
     "name": "stdout",
     "output_type": "stream",
     "text": [
      "[[0, 0, 1, 0], [0, 0, 0, 0], [0, 0, 0, 0], [0, 0, 0, 0], [0, 0, 0, 0]]\n"
     ]
    }
   ],
   "source": [
    ">>> listoflists[0][2]=1\n",
    ">>> print(listoflists)"
   ]
  },
  {
   "cell_type": "markdown",
   "metadata": {},
   "source": [
    "## `range()`\n",
    "The `range()` function can be used to create lists in Python2, and indirectly on Python3.  The range function in Python 3 is like the xrange() function of python 2, that is rather than returning a real list it returns an iterable object that in-turn can be iterated over to create a list."
   ]
  },
  {
   "cell_type": "markdown",
   "metadata": {},
   "source": [
    "```python\n",
    ">>> range(10)\n",
    "[0, 1, 2, 3, 4, 5, 6, 7, 8, 9]\n",
    "```"
   ]
  },
  {
   "cell_type": "markdown",
   "metadata": {},
   "source": [
    "Python 2"
   ]
  },
  {
   "cell_type": "code",
   "execution_count": 273,
   "metadata": {},
   "outputs": [
    {
     "ename": "TypeError",
     "evalue": "'list' object is not callable",
     "output_type": "error",
     "traceback": [
      "\u001b[1;31m---------------------------------------------------------------------------\u001b[0m",
      "\u001b[1;31mTypeError\u001b[0m                                 Traceback (most recent call last)",
      "\u001b[1;32m<ipython-input-273-1e702c11e83e>\u001b[0m in \u001b[0;36m<module>\u001b[1;34m\u001b[0m\n\u001b[1;32m----> 1\u001b[1;33m \u001b[0mlist\u001b[0m\u001b[1;33m(\u001b[0m\u001b[0mrange\u001b[0m\u001b[1;33m(\u001b[0m\u001b[1;36m10\u001b[0m\u001b[1;33m)\u001b[0m\u001b[1;33m)\u001b[0m\u001b[1;33m\u001b[0m\u001b[1;33m\u001b[0m\u001b[0m\n\u001b[0m",
      "\u001b[1;31mTypeError\u001b[0m: 'list' object is not callable"
     ]
    }
   ],
   "source": [
    ">>> list(range(10))"
   ]
  },
  {
   "cell_type": "markdown",
   "metadata": {},
   "source": [
    "Python 3\n",
    "range can accept up to three arguments, range(start, stop, step).  "
   ]
  },
  {
   "cell_type": "code",
   "execution_count": null,
   "metadata": {},
   "outputs": [],
   "source": [
    ">>> list(range(5,10))"
   ]
  },
  {
   "cell_type": "code",
   "execution_count": null,
   "metadata": {},
   "outputs": [],
   "source": [
    ">>> list(range(2,100,5))"
   ]
  },
  {
   "cell_type": "code",
   "execution_count": null,
   "metadata": {},
   "outputs": [],
   "source": [
    ">>> list(range(10,1,-1))"
   ]
  },
  {
   "cell_type": "markdown",
   "metadata": {},
   "source": [
    "Just as in with slices the start is inclusive and the stop is exclusive.\n",
    "Operations on lists\n",
    "List Attributes\n",
    "To find the length of a list use the built in len() method."
   ]
  },
  {
   "cell_type": "code",
   "execution_count": null,
   "metadata": {},
   "outputs": [],
   "source": [
    ">>> len([1,2,3])"
   ]
  },
  {
   "cell_type": "code",
   "execution_count": null,
   "metadata": {},
   "outputs": [],
   "source": [
    ">>> a = [1,2,3,4]\n",
    ">>> len( a )"
   ]
  },
  {
   "cell_type": "markdown",
   "metadata": {},
   "source": [
    "Combining lists\n",
    "Lists can be combined in several ways. The easiest is just to 'add' them. For instance:"
   ]
  },
  {
   "cell_type": "code",
   "execution_count": null,
   "metadata": {},
   "outputs": [],
   "source": [
    ">>> [1,2] + [3,4]"
   ]
  },
  {
   "cell_type": "markdown",
   "metadata": {},
   "source": [
    "The other way to append a value to a list is to use append. For example:"
   ]
  },
  {
   "cell_type": "code",
   "execution_count": 164,
   "metadata": {},
   "outputs": [
    {
     "data": {
      "text/plain": [
       "[1, 2, [3, 4]]"
      ]
     },
     "execution_count": 164,
     "metadata": {},
     "output_type": "execute_result"
    }
   ],
   "source": [
    ">>> p=[1,2]\n",
    ">>> p.append([3,4])\n",
    ">>> p"
   ]
  },
  {
   "cell_type": "code",
   "execution_count": 165,
   "metadata": {},
   "outputs": [
    {
     "name": "stdout",
     "output_type": "stream",
     "text": [
      "[1, 2, [3, 4]]\n"
     ]
    }
   ],
   "source": [
    "print(p)"
   ]
  },
  {
   "cell_type": "markdown",
   "metadata": {},
   "source": [
    "Getting pieces of lists (slices)\n",
    "Like strings, lists can be indexed and sliced."
   ]
  },
  {
   "cell_type": "code",
   "execution_count": 166,
   "metadata": {},
   "outputs": [
    {
     "data": {
      "text/plain": [
       "'usurp'"
      ]
     },
     "execution_count": 166,
     "metadata": {},
     "output_type": "execute_result"
    }
   ],
   "source": [
    ">>> my_list = [2, 4, \"usurp\", 9.0,\"n\"]\n",
    ">>> my_list[2]"
   ]
  },
  {
   "cell_type": "code",
   "execution_count": 167,
   "metadata": {},
   "outputs": [
    {
     "data": {
      "text/plain": [
       "[9.0, 'n']"
      ]
     },
     "execution_count": 167,
     "metadata": {},
     "output_type": "execute_result"
    }
   ],
   "source": [
    ">>> my_list[3:]"
   ]
  },
  {
   "cell_type": "markdown",
   "metadata": {},
   "source": [
    "Much like the slice of a string is a substring, the slice of a list is a list. However, lists differ from strings in that we can assign new values to the items in a list."
   ]
  },
  {
   "cell_type": "code",
   "execution_count": 168,
   "metadata": {},
   "outputs": [
    {
     "data": {
      "text/plain": [
       "[2, 17, 'usurp', 9.0, 'n']"
      ]
     },
     "execution_count": 168,
     "metadata": {},
     "output_type": "execute_result"
    }
   ],
   "source": [
    ">>> my_list[1] = 17\n",
    ">>> my_list"
   ]
  },
  {
   "cell_type": "markdown",
   "metadata": {},
   "source": [
    "We can even assign new values to slices of the lists, which don't even have to be the same length"
   ]
  },
  {
   "cell_type": "code",
   "execution_count": 169,
   "metadata": {},
   "outputs": [
    {
     "data": {
      "text/plain": [
       "[2, 'opportunistic', 'elk', 'n']"
      ]
     },
     "execution_count": 169,
     "metadata": {},
     "output_type": "execute_result"
    }
   ],
   "source": [
    ">>> my_list[1:4] = [\"opportunistic\", \"elk\"]\n",
    ">>> my_list"
   ]
  },
  {
   "cell_type": "markdown",
   "metadata": {},
   "source": [
    "It's even possible to append things onto the end of lists by assigning to an empty slice:"
   ]
  },
  {
   "cell_type": "code",
   "execution_count": 170,
   "metadata": {},
   "outputs": [
    {
     "data": {
      "text/plain": [
       "[3.14, 2.71, 2, 'opportunistic', 'elk', 'n']"
      ]
     },
     "execution_count": 170,
     "metadata": {},
     "output_type": "execute_result"
    }
   ],
   "source": [
    ">>> my_list[:0] = [3.14,2.71]\n",
    ">>> my_list"
   ]
  },
  {
   "cell_type": "markdown",
   "metadata": {},
   "source": [
    "You can also completely change contents of a list:"
   ]
  },
  {
   "cell_type": "code",
   "execution_count": 171,
   "metadata": {},
   "outputs": [
    {
     "data": {
      "text/plain": [
       "['new', 'list', 'contents']"
      ]
     },
     "execution_count": 171,
     "metadata": {},
     "output_type": "execute_result"
    }
   ],
   "source": [
    ">>> my_list[:] = ['new', 'list', 'contents']\n",
    ">>> my_list"
   ]
  },
  {
   "cell_type": "markdown",
   "metadata": {},
   "source": [
    "On the right site of assign statement can be any iterable type:"
   ]
  },
  {
   "cell_type": "code",
   "execution_count": 172,
   "metadata": {},
   "outputs": [
    {
     "data": {
      "text/plain": [
       "['element', ('t',), [], 'contents']"
      ]
     },
     "execution_count": 172,
     "metadata": {},
     "output_type": "execute_result"
    }
   ],
   "source": [
    ">>> my_list[:2] = ('element',('t',),[])\n",
    ">>> my_list"
   ]
  },
  {
   "cell_type": "markdown",
   "metadata": {},
   "source": [
    "With slicing you can create copy of list because slice returns a new list:"
   ]
  },
  {
   "cell_type": "code",
   "execution_count": 173,
   "metadata": {},
   "outputs": [
    {
     "data": {
      "text/plain": [
       "[1, 'element', []]"
      ]
     },
     "execution_count": 173,
     "metadata": {},
     "output_type": "execute_result"
    }
   ],
   "source": [
    ">>> original = [1, 'element', []]\n",
    ">>> list_copy = original[:]\n",
    ">>> list_copy"
   ]
  },
  {
   "cell_type": "code",
   "execution_count": 174,
   "metadata": {},
   "outputs": [
    {
     "data": {
      "text/plain": [
       "[1, 'element', [], 'new element']"
      ]
     },
     "execution_count": 174,
     "metadata": {},
     "output_type": "execute_result"
    }
   ],
   "source": [
    ">>> list_copy.append('new element')\n",
    ">>> list_copy"
   ]
  },
  {
   "cell_type": "code",
   "execution_count": 175,
   "metadata": {},
   "outputs": [
    {
     "data": {
      "text/plain": [
       "[1, 'element', []]"
      ]
     },
     "execution_count": 175,
     "metadata": {},
     "output_type": "execute_result"
    }
   ],
   "source": [
    ">>> original"
   ]
  },
  {
   "cell_type": "markdown",
   "metadata": {},
   "source": [
    "but this is shallow copy and contains references to elements from original list, so be careful with mutable types:"
   ]
  },
  {
   "cell_type": "code",
   "execution_count": 176,
   "metadata": {},
   "outputs": [
    {
     "data": {
      "text/plain": [
       "[1, 'element', ['something']]"
      ]
     },
     "execution_count": 176,
     "metadata": {},
     "output_type": "execute_result"
    }
   ],
   "source": [
    ">>> list_copy[2].append('something')\n",
    ">>> original"
   ]
  },
  {
   "cell_type": "markdown",
   "metadata": {},
   "source": [
    "Comparing lists\n",
    "Lists can be compared for equality."
   ]
  },
  {
   "cell_type": "code",
   "execution_count": 177,
   "metadata": {},
   "outputs": [
    {
     "data": {
      "text/plain": [
       "True"
      ]
     },
     "execution_count": 177,
     "metadata": {},
     "output_type": "execute_result"
    }
   ],
   "source": [
    ">>> [1,2] == [1,2]"
   ]
  },
  {
   "cell_type": "code",
   "execution_count": 178,
   "metadata": {},
   "outputs": [
    {
     "data": {
      "text/plain": [
       "False"
      ]
     },
     "execution_count": 178,
     "metadata": {},
     "output_type": "execute_result"
    }
   ],
   "source": [
    ">>> [1,2] == [3,4]"
   ]
  },
  {
   "cell_type": "markdown",
   "metadata": {},
   "source": [
    "## List methods\n",
    "### `count(value)`\n",
    "Return number of occurrences of value in the list\n",
    "extend(iterable)\n",
    "Extend list by appending elements from the iterable object"
   ]
  },
  {
   "cell_type": "code",
   "execution_count": 179,
   "metadata": {},
   "outputs": [
    {
     "data": {
      "text/plain": [
       "[1, 2, 3, 4, 5, 6]"
      ]
     },
     "execution_count": 179,
     "metadata": {},
     "output_type": "execute_result"
    }
   ],
   "source": [
    ">>> a = [1,2,3]\n",
    ">>> b = [4,5,6]\n",
    ">>> a.extend(b)\n",
    ">>> a"
   ]
  },
  {
   "cell_type": "markdown",
   "metadata": {},
   "source": [
    "###  `index(value, [start, [stop]])`\n",
    "Return first index of value. Raises ValueError if the value is not present.\n",
    "\n",
    "### `insert(index, object)`\n",
    "Insert object before index\n",
    "\n",
    "### `pop([index])`\n",
    "Remove and return item at index (default last).  Raises IndexError if list is empty or index is out of range.\n",
    "\n",
    "### `remove(value)`\n",
    "remove first occurrence of value.\n",
    "### `reverse()`\n",
    "Reverse does not return a value but reverses the order of the elements in the list.   \n",
    "### `sort()`\n",
    "Sort does not return a value but sorts the list that it is called from."
   ]
  },
  {
   "cell_type": "code",
   "execution_count": 180,
   "metadata": {},
   "outputs": [
    {
     "data": {
      "text/plain": [
       "[1, 2, 3]"
      ]
     },
     "execution_count": 180,
     "metadata": {},
     "output_type": "execute_result"
    }
   ],
   "source": [
    ">>> my_list = [2, 3, 1]\n",
    ">>> my_list.sort()\n",
    ">>> my_list"
   ]
  },
  {
   "cell_type": "markdown",
   "metadata": {},
   "source": [
    "Note that the list is sorted in place, and the sort() method returns None to emphasize this side effect.\n",
    "If you use Python 2.4 or higher there are some more sort parameters:\n",
    "\n",
    "`sort(cmp,key,reverse)`\n",
    "\n",
    "- cmp : method to be used for sorting\n",
    "- key : function to be executed with key element. List is sorted by return-value of the function\n",
    "- reverse : sort ascending y/n\n",
    "\n",
    "Like other sequences we can test membership using the in operator"
   ]
  },
  {
   "cell_type": "code",
   "execution_count": 181,
   "metadata": {},
   "outputs": [
    {
     "data": {
      "text/plain": [
       "True"
      ]
     },
     "execution_count": 181,
     "metadata": {},
     "output_type": "execute_result"
    }
   ],
   "source": [
    ">>> my_list = ['one', 'two', 'three', 4]\n",
    ">>> \"three\" in my_list"
   ]
  },
  {
   "cell_type": "markdown",
   "metadata": {},
   "source": [
    "List method examples:"
   ]
  },
  {
   "cell_type": "code",
   "execution_count": 182,
   "metadata": {},
   "outputs": [
    {
     "data": {
      "text/plain": [
       "['one', 'two', 'three', 4, 2]"
      ]
     },
     "execution_count": 182,
     "metadata": {},
     "output_type": "execute_result"
    }
   ],
   "source": [
    ">>> my_list.append(2)\n",
    ">>> my_list"
   ]
  },
  {
   "cell_type": "code",
   "execution_count": 183,
   "metadata": {},
   "outputs": [
    {
     "data": {
      "text/plain": [
       "1"
      ]
     },
     "execution_count": 183,
     "metadata": {},
     "output_type": "execute_result"
    }
   ],
   "source": [
    ">>> my_list.count(2)"
   ]
  },
  {
   "cell_type": "code",
   "execution_count": 184,
   "metadata": {},
   "outputs": [
    {
     "data": {
      "text/plain": [
       "2"
      ]
     },
     "execution_count": 184,
     "metadata": {},
     "output_type": "execute_result"
    }
   ],
   "source": [
    ">>> my_list.append(2)\n",
    ">>> my_list.count(2)"
   ]
  },
  {
   "cell_type": "code",
   "execution_count": 185,
   "metadata": {},
   "outputs": [
    {
     "data": {
      "text/plain": [
       "['one', 'two', 'three', 4, 2, 2, 3, 4]"
      ]
     },
     "execution_count": 185,
     "metadata": {},
     "output_type": "execute_result"
    }
   ],
   "source": [
    ">>> my_list.extend([3,4])\n",
    ">>> my_list"
   ]
  },
  {
   "cell_type": "code",
   "execution_count": 186,
   "metadata": {},
   "outputs": [
    {
     "data": {
      "text/plain": [
       "4"
      ]
     },
     "execution_count": 186,
     "metadata": {},
     "output_type": "execute_result"
    }
   ],
   "source": [
    ">>> my_list.index(2)"
   ]
  },
  {
   "cell_type": "code",
   "execution_count": 187,
   "metadata": {},
   "outputs": [
    {
     "data": {
      "text/plain": [
       "['one', 'new', 'two', 'three', 4, 2, 2, 3, 4]"
      ]
     },
     "execution_count": 187,
     "metadata": {},
     "output_type": "execute_result"
    }
   ],
   "source": [
    ">>> my_list.insert(1,\"new\")\n",
    ">>> my_list"
   ]
  },
  {
   "cell_type": "code",
   "execution_count": 188,
   "metadata": {},
   "outputs": [
    {
     "name": "stdout",
     "output_type": "stream",
     "text": [
      "4\n"
     ]
    }
   ],
   "source": [
    ">>> print(my_list.pop())"
   ]
  },
  {
   "cell_type": "code",
   "execution_count": 189,
   "metadata": {},
   "outputs": [
    {
     "data": {
      "text/plain": [
       "['one', 'new', 'two', 'three', 4, 2, 2, 3]"
      ]
     },
     "execution_count": 189,
     "metadata": {},
     "output_type": "execute_result"
    }
   ],
   "source": [
    ">>> my_list\n"
   ]
  },
  {
   "cell_type": "code",
   "execution_count": 190,
   "metadata": {},
   "outputs": [
    {
     "data": {
      "text/plain": [
       "['new', 'two', 'three', 4, 2, 2, 3]"
      ]
     },
     "execution_count": 190,
     "metadata": {},
     "output_type": "execute_result"
    }
   ],
   "source": [
    ">>> my_list.remove(\"one\")\n",
    ">>> my_list"
   ]
  },
  {
   "cell_type": "code",
   "execution_count": 191,
   "metadata": {},
   "outputs": [
    {
     "ename": "TypeError",
     "evalue": "'<' not supported between instances of 'int' and 'str'",
     "output_type": "error",
     "traceback": [
      "\u001b[1;31m---------------------------------------------------------------------------\u001b[0m",
      "\u001b[1;31mTypeError\u001b[0m                                 Traceback (most recent call last)",
      "\u001b[1;32m<ipython-input-191-495a2b2db0e5>\u001b[0m in \u001b[0;36m<module>\u001b[1;34m\u001b[0m\n\u001b[1;32m----> 1\u001b[1;33m \u001b[0mmy_list\u001b[0m\u001b[1;33m.\u001b[0m\u001b[0msort\u001b[0m\u001b[1;33m(\u001b[0m\u001b[1;33m)\u001b[0m\u001b[1;33m\u001b[0m\u001b[1;33m\u001b[0m\u001b[0m\n\u001b[0m\u001b[0;32m      2\u001b[0m \u001b[0mmy_list\u001b[0m\u001b[1;33m\u001b[0m\u001b[1;33m\u001b[0m\u001b[0m\n",
      "\u001b[1;31mTypeError\u001b[0m: '<' not supported between instances of 'int' and 'str'"
     ]
    }
   ],
   "source": [
    ">>> my_list.sort()\n",
    ">>> my_list"
   ]
  },
  {
   "cell_type": "code",
   "execution_count": 274,
   "metadata": {},
   "outputs": [
    {
     "data": {
      "text/plain": [
       "[3, 2, 2, 4, 'two', 'three', 'new']"
      ]
     },
     "execution_count": 274,
     "metadata": {},
     "output_type": "execute_result"
    }
   ],
   "source": [
    ">>> my_list.reverse()\n",
    ">>> my_list"
   ]
  },
  {
   "cell_type": "markdown",
   "metadata": {},
   "source": [
    "# Tuples\n",
    "Tuples like lists are ordered collections of objects of any types.  The difference between lists and tuples is fundamentally about mutability.  Lists are mutable and tuples are immutable.\n",
    "Tuple Notation\n",
    "Tuples are created in a similar manner to lits. Instead of surrounding a tuple literal with square brackets `[]`, use parentheses `()`."
   ]
  },
  {
   "cell_type": "code",
   "execution_count": 275,
   "metadata": {},
   "outputs": [],
   "source": [
    "t1 = (1,2,3,4)"
   ]
  },
  {
   "cell_type": "markdown",
   "metadata": {},
   "source": [
    " \n",
    "Other sequences can be cast as tuples using the tuple() function."
   ]
  },
  {
   "cell_type": "code",
   "execution_count": 276,
   "metadata": {},
   "outputs": [],
   "source": [
    "t2 = tuple([1,2,3,4])"
   ]
  },
  {
   "cell_type": "markdown",
   "metadata": {},
   "source": [
    "When defining a tuple with of one element: Use a trailing comma to avoid the confusion between the use of parentheses as an order of precedence control and a tuple."
   ]
  },
  {
   "cell_type": "code",
   "execution_count": 277,
   "metadata": {},
   "outputs": [],
   "source": [
    "i1 = (1)   # int\n",
    "t3 = (1,)  # tuple"
   ]
  },
  {
   "cell_type": "markdown",
   "metadata": {},
   "source": [
    "Tuple Operations\n",
    "Tuples support all the operations that apply to sequences including:\n",
    " - subscripts with a zero based index\n",
    " - slicing\n",
    " - concatenation with +\n",
    " - repetition with *\n",
    "Tuples can be assigned to lists:"
   ]
  },
  {
   "cell_type": "code",
   "execution_count": 278,
   "metadata": {},
   "outputs": [],
   "source": [
    "(a,b) = 'one two'.split(' ') # a='one' and b = 'two'"
   ]
  },
  {
   "cell_type": "markdown",
   "metadata": {},
   "source": [
    "If the context does not create ambiguity the parentheses of the tuple can be omitted, as below:"
   ]
  },
  {
   "cell_type": "code",
   "execution_count": 279,
   "metadata": {},
   "outputs": [],
   "source": [
    "a,b = 'one two'.split(' ') # a='one' and b = 'two'"
   ]
  },
  {
   "cell_type": "markdown",
   "metadata": {},
   "source": [
    "## Tuple Methods\n",
    "Tuples are immutable,  and therefore do not support methods that would change the object.  Methods provided by tuples include: count and index, which beghave identically to the equivalent list methods.\n",
    " "
   ]
  },
  {
   "cell_type": "markdown",
   "metadata": {},
   "source": [
    "# Dictionaries\n",
    "About dictionaries in Python\n",
    "A dictionary in python is a collection of unordered values which are accessed by key.\n",
    "Dictionary notation\n",
    "Dictionaries may be created directly or converted from sequences. Dictionaries are enclosed in curly braces, `{}`"
   ]
  },
  {
   "cell_type": "code",
   "execution_count": 280,
   "metadata": {},
   "outputs": [
    {
     "data": {
      "text/plain": [
       "{'city': 'Paris', 'age': 38, (102, 1650, 1601): 'A matrix coordinate'}"
      ]
     },
     "execution_count": 280,
     "metadata": {},
     "output_type": "execute_result"
    }
   ],
   "source": [
    ">>> d = {'city':'Paris', 'age':38, (102,1650,1601):'A matrix coordinate'}\n",
    ">>> seq = [('city','Paris'), ('age', 38), ((102,1650,1601),'A matrix coordinate')]\n",
    ">>> d"
   ]
  },
  {
   "cell_type": "code",
   "execution_count": 281,
   "metadata": {},
   "outputs": [
    {
     "data": {
      "text/plain": [
       "{'city': 'Paris', 'age': 38, (102, 1650, 1601): 'A matrix coordinate'}"
      ]
     },
     "execution_count": 281,
     "metadata": {},
     "output_type": "execute_result"
    }
   ],
   "source": [
    ">>> dict(seq)"
   ]
  },
  {
   "cell_type": "code",
   "execution_count": 282,
   "metadata": {},
   "outputs": [
    {
     "data": {
      "text/plain": [
       "True"
      ]
     },
     "execution_count": 282,
     "metadata": {},
     "output_type": "execute_result"
    }
   ],
   "source": [
    ">>> d == dict(seq)"
   ]
  },
  {
   "cell_type": "markdown",
   "metadata": {},
   "source": [
    "Also, dictionaries can be easily created by zipping two sequences."
   ]
  },
  {
   "cell_type": "code",
   "execution_count": 283,
   "metadata": {},
   "outputs": [
    {
     "data": {
      "text/plain": [
       "{'a': 1, 'b': 2, 'c': 3, 'd': 4}"
      ]
     },
     "execution_count": 283,
     "metadata": {},
     "output_type": "execute_result"
    }
   ],
   "source": [
    ">>> seq1 = ('a','b','c','d')\n",
    ">>> seq2 = [1,2,3,4]\n",
    ">>> d = dict(zip(seq1,seq2))\n",
    ">>> d"
   ]
  },
  {
   "cell_type": "markdown",
   "metadata": {},
   "source": [
    "## Operations on Dictionaries\n",
    "The operations on dictionaries are somewhat unique. Slicing is not supported, since the items have no intrinsic order."
   ]
  },
  {
   "cell_type": "code",
   "execution_count": 284,
   "metadata": {},
   "outputs": [
    {
     "data": {
      "text/plain": [
       "dict_keys(['a', 'b', 'cat'])"
      ]
     },
     "execution_count": 284,
     "metadata": {},
     "output_type": "execute_result"
    }
   ],
   "source": [
    ">>> d = {'a':1,'b':2, 'cat':'Fluffers'}\n",
    ">>> d.keys()"
   ]
  },
  {
   "cell_type": "code",
   "execution_count": 285,
   "metadata": {},
   "outputs": [
    {
     "data": {
      "text/plain": [
       "1"
      ]
     },
     "execution_count": 285,
     "metadata": {},
     "output_type": "execute_result"
    }
   ],
   "source": [
    ">>> d.values()\n",
    "[1, 2, 'Fluffers']\n",
    ">>> d['a']"
   ]
  },
  {
   "cell_type": "code",
   "execution_count": 286,
   "metadata": {},
   "outputs": [
    {
     "data": {
      "text/plain": [
       "'Mr. Whiskers'"
      ]
     },
     "execution_count": 286,
     "metadata": {},
     "output_type": "execute_result"
    }
   ],
   "source": [
    ">>> d['cat'] = 'Mr. Whiskers'\n",
    ">>> d['cat']"
   ]
  },
  {
   "cell_type": "code",
   "execution_count": 287,
   "metadata": {},
   "outputs": [
    {
     "data": {
      "text/plain": [
       "True"
      ]
     },
     "execution_count": 287,
     "metadata": {},
     "output_type": "execute_result"
    }
   ],
   "source": [
    ">>> 'cat' in d"
   ]
  },
  {
   "cell_type": "markdown",
   "metadata": {},
   "source": [
    "### Combining two Dictionaries\n",
    "You can combine two dictionaries by using the update method of the primary dictionary. Note that the update method will merge existing elements if they conflict."
   ]
  },
  {
   "cell_type": "code",
   "execution_count": 288,
   "metadata": {},
   "outputs": [
    {
     "data": {
      "text/plain": [
       "{'apples': 1, 'oranges': 3, 'pears': 4, 'grapes': 5, 'lemons': 6}"
      ]
     },
     "execution_count": 288,
     "metadata": {},
     "output_type": "execute_result"
    }
   ],
   "source": [
    ">>> d = {'apples': 1, 'oranges': 3, 'pears': 2}\n",
    ">>> ud = {'pears': 4, 'grapes': 5, 'lemons': 6}\n",
    ">>> d.update(ud)\n",
    ">>> d"
   ]
  },
  {
   "cell_type": "markdown",
   "metadata": {},
   "source": [
    "### Deleting from dictionary\n",
    "`del dictionaryName[membername]`\n",
    "\n",
    "## Dictionary Methods\n",
    "Dictionaries also support a number of methods.\n",
    "\n",
    "### `clear( ) `\n",
    "Remove all items from dictionary. \n",
    "### `copy( ) `\n",
    "A shallow copy of the dictionary, that is the dictionary itself is copied but its members still reference the same objects.\n",
    "### `get(key[,default] )`\n",
    "Returns the value referenced by key, unless key does not exist in which case: either the default value is returned if supplied or None.   Almost the same as:\n",
    " `d[key] if key in d else default`"
   ]
  },
  {
   "cell_type": "code",
   "execution_count": 289,
   "metadata": {},
   "outputs": [
    {
     "data": {
      "text/plain": [
       "'fred'"
      ]
     },
     "execution_count": 289,
     "metadata": {},
     "output_type": "execute_result"
    }
   ],
   "source": [
    ">>> d = {'age': '10', 'surname': 'basset', 'name': 'fred'}\n",
    ">>> d['name'] "
   ]
  },
  {
   "cell_type": "code",
   "execution_count": 290,
   "metadata": {},
   "outputs": [
    {
     "data": {
      "text/plain": [
       "'fred'"
      ]
     },
     "execution_count": 290,
     "metadata": {},
     "output_type": "execute_result"
    }
   ],
   "source": [
    ">>> d.get('name') "
   ]
  },
  {
   "cell_type": "code",
   "execution_count": 291,
   "metadata": {},
   "outputs": [
    {
     "ename": "KeyError",
     "evalue": "'foo'",
     "output_type": "error",
     "traceback": [
      "\u001b[1;31m---------------------------------------------------------------------------\u001b[0m",
      "\u001b[1;31mKeyError\u001b[0m                                  Traceback (most recent call last)",
      "\u001b[1;32m<ipython-input-291-96e03e4217d2>\u001b[0m in \u001b[0;36m<module>\u001b[1;34m\u001b[0m\n\u001b[1;32m----> 1\u001b[1;33m \u001b[0md\u001b[0m\u001b[1;33m[\u001b[0m\u001b[1;34m'foo'\u001b[0m\u001b[1;33m]\u001b[0m\u001b[1;33m\u001b[0m\u001b[1;33m\u001b[0m\u001b[0m\n\u001b[0m",
      "\u001b[1;31mKeyError\u001b[0m: 'foo'"
     ]
    }
   ],
   "source": [
    ">>> d['foo']"
   ]
  },
  {
   "cell_type": "code",
   "execution_count": 292,
   "metadata": {},
   "outputs": [
    {
     "data": {
      "text/plain": [
       "'default'"
      ]
     },
     "execution_count": 292,
     "metadata": {},
     "output_type": "execute_result"
    }
   ],
   "source": [
    ">>> d.get('foo') \n",
    ">>> d.get('foo','default') "
   ]
  },
  {
   "cell_type": "markdown",
   "metadata": {},
   "source": [
    "### `items( ) `\n",
    " A list of the dictionary's key, value pairs, as tuples. `[(k1,v1),(k2,v2),...] `\n",
    "In python 3 items returns an iterable object.\n",
    "### `keys( ) `\n",
    " A list of the dictionary's keys. In python 3 keys returns an iterable object.\n",
    "### `pop(key ) `\n",
    "Remove specified key and return the corresponding value. \n",
    "### `popitem( ) `\n",
    " remove and return a key, value  pair as a tuple.\n",
    "### `values( ) `\n",
    "A list of the dictionary's values."
   ]
  },
  {
   "cell_type": "code",
   "execution_count": 293,
   "metadata": {},
   "outputs": [
    {
     "data": {
      "text/plain": [
       "dict_values(['10', 'basset', 'fred'])"
      ]
     },
     "execution_count": 293,
     "metadata": {},
     "output_type": "execute_result"
    }
   ],
   "source": [
    ">>> d.values() "
   ]
  },
  {
   "cell_type": "markdown",
   "metadata": {},
   "source": [
    "In Python 3 values retuns an iterable objetc, to get the same result as above use the list function."
   ]
  },
  {
   "cell_type": "code",
   "execution_count": 296,
   "metadata": {},
   "outputs": [
    {
     "data": {
      "text/plain": [
       "['10', 'basset', 'fred']"
      ]
     },
     "execution_count": 296,
     "metadata": {},
     "output_type": "execute_result"
    }
   ],
   "source": [
    "list = __builtin__.list  #list assigned to a list above\n",
    ">>> list(d.values())"
   ]
  },
  {
   "cell_type": "markdown",
   "metadata": {},
   "source": [
    "The in operator cannot directly test the membership of values:"
   ]
  },
  {
   "cell_type": "code",
   "execution_count": 297,
   "metadata": {},
   "outputs": [
    {
     "data": {
      "text/plain": [
       "False"
      ]
     },
     "execution_count": 297,
     "metadata": {},
     "output_type": "execute_result"
    }
   ],
   "source": [
    ">>> 'fred' in d "
   ]
  },
  {
   "cell_type": "code",
   "execution_count": 298,
   "metadata": {},
   "outputs": [
    {
     "data": {
      "text/plain": [
       "True"
      ]
     },
     "execution_count": 298,
     "metadata": {},
     "output_type": "execute_result"
    }
   ],
   "source": [
    " \n",
    ">>> 'fred' in d.values() "
   ]
  },
  {
   "cell_type": "markdown",
   "metadata": {},
   "source": [
    "# Sets\n",
    "Python also has an implementation of the mathematical set. Unlike sequence objects such as lists and tuples, in which each element is indexed, a set is an unordered collection of objects. Sets also cannot have duplicate members - a given object appears in a set 0 or 1 times. For more information on sets, see the Set Theory wikibook. Sets also require that all members of the set be hashable. Any object that can be used as a dictionary key can be a set member. Integers, floating point numbers, tuples, and strings are hashable; dictionaries, lists, and other sets (except frozensets) are not.\n",
    "Constructing Sets\n",
    "One way to construct sets is by passing any sequential object to the `set` constructor."
   ]
  },
  {
   "cell_type": "code",
   "execution_count": 299,
   "metadata": {},
   "outputs": [
    {
     "data": {
      "text/plain": [
       "{0, 1, 2, 3}"
      ]
     },
     "execution_count": 299,
     "metadata": {},
     "output_type": "execute_result"
    }
   ],
   "source": [
    ">>> set([0, 1, 2, 3])"
   ]
  },
  {
   "cell_type": "code",
   "execution_count": 300,
   "metadata": {},
   "outputs": [
    {
     "data": {
      "text/plain": [
       "{1, 2, 3, 4}"
      ]
     },
     "execution_count": 300,
     "metadata": {},
     "output_type": "execute_result"
    }
   ],
   "source": [
    ">>> {1, 2, 3, 4}  #ONLY PYTHON 3"
   ]
  },
  {
   "cell_type": "code",
   "execution_count": 301,
   "metadata": {},
   "outputs": [
    {
     "data": {
      "text/plain": [
       "{'b', 'e', 'o', 's', 't', 'u'}"
      ]
     },
     "execution_count": 301,
     "metadata": {},
     "output_type": "execute_result"
    }
   ],
   "source": [
    ">>> set(\"obtuse\")"
   ]
  },
  {
   "cell_type": "markdown",
   "metadata": {},
   "source": [
    "We can also add elements to sets one by one, using the \"add\" function."
   ]
  },
  {
   "cell_type": "code",
   "execution_count": 302,
   "metadata": {},
   "outputs": [
    {
     "data": {
      "text/plain": [
       "{12, 26, 32, 54}"
      ]
     },
     "execution_count": 302,
     "metadata": {},
     "output_type": "execute_result"
    }
   ],
   "source": [
    ">>> s = set([12, 26, 54])\n",
    ">>> s.add(32)\n",
    ">>> s"
   ]
  },
  {
   "cell_type": "markdown",
   "metadata": {},
   "source": [
    "Note that since a set does not contain duplicate elements, if we add one of the members of s to s again, the add function will have no effect. This same behavior occurs in the \"update\" function, which adds a group of elements to a set."
   ]
  },
  {
   "cell_type": "code",
   "execution_count": 303,
   "metadata": {},
   "outputs": [
    {
     "data": {
      "text/plain": [
       "{9, 12, 14, 26, 32, 54}"
      ]
     },
     "execution_count": 303,
     "metadata": {},
     "output_type": "execute_result"
    }
   ],
   "source": [
    ">>> s.update([26, 12, 9, 14])\n",
    ">>> s"
   ]
  },
  {
   "cell_type": "markdown",
   "metadata": {},
   "source": [
    "Note that you can give any type of sequential structure, or even another set, to the update function, regardless of what structure was used to initialize the set.\n",
    "The set function also provides a copy constructor. However, remember that the copy constructor will copy the set, but not the individual elements."
   ]
  },
  {
   "cell_type": "code",
   "execution_count": 304,
   "metadata": {},
   "outputs": [
    {
     "data": {
      "text/plain": [
       "{9, 12, 14, 26, 32, 54}"
      ]
     },
     "execution_count": 304,
     "metadata": {},
     "output_type": "execute_result"
    }
   ],
   "source": [
    ">>> s2 = s.copy()\n",
    ">>> s2"
   ]
  },
  {
   "cell_type": "markdown",
   "metadata": {},
   "source": [
    "## Membership Testing\n",
    "We can check if an object is in the set using the same \"in\" operator as with sequential data types."
   ]
  },
  {
   "cell_type": "code",
   "execution_count": 305,
   "metadata": {},
   "outputs": [
    {
     "data": {
      "text/plain": [
       "True"
      ]
     },
     "execution_count": 305,
     "metadata": {},
     "output_type": "execute_result"
    }
   ],
   "source": [
    ">>> 32 in s"
   ]
  },
  {
   "cell_type": "code",
   "execution_count": 306,
   "metadata": {},
   "outputs": [
    {
     "data": {
      "text/plain": [
       "False"
      ]
     },
     "execution_count": 306,
     "metadata": {},
     "output_type": "execute_result"
    }
   ],
   "source": [
    ">>> 6 in s"
   ]
  },
  {
   "cell_type": "code",
   "execution_count": 307,
   "metadata": {},
   "outputs": [
    {
     "data": {
      "text/plain": [
       "True"
      ]
     },
     "execution_count": 307,
     "metadata": {},
     "output_type": "execute_result"
    }
   ],
   "source": [
    ">>> 6 not in s"
   ]
  },
  {
   "cell_type": "markdown",
   "metadata": {},
   "source": [
    "We can also test the membership of entire sets. Given two sets S1 and S2, we check if S1 is a subset or a superset of S2."
   ]
  },
  {
   "cell_type": "code",
   "execution_count": 308,
   "metadata": {},
   "outputs": [
    {
     "data": {
      "text/plain": [
       "True"
      ]
     },
     "execution_count": 308,
     "metadata": {},
     "output_type": "execute_result"
    }
   ],
   "source": [
    ">>> s.issubset(set([32, 8, 9, 12, 14, -4, 54, 26, 19]))"
   ]
  },
  {
   "cell_type": "code",
   "execution_count": 309,
   "metadata": {},
   "outputs": [
    {
     "data": {
      "text/plain": [
       "True"
      ]
     },
     "execution_count": 309,
     "metadata": {},
     "output_type": "execute_result"
    }
   ],
   "source": [
    ">>> s.issuperset(set([9, 12]))"
   ]
  },
  {
   "cell_type": "markdown",
   "metadata": {},
   "source": [
    "Note that \"issubset\" and \"issuperset\" can also accept sequential data types as arguments"
   ]
  },
  {
   "cell_type": "code",
   "execution_count": 310,
   "metadata": {},
   "outputs": [
    {
     "data": {
      "text/plain": [
       "True"
      ]
     },
     "execution_count": 310,
     "metadata": {},
     "output_type": "execute_result"
    }
   ],
   "source": [
    ">>> s.issuperset([32, 9])"
   ]
  },
  {
   "cell_type": "markdown",
   "metadata": {},
   "source": [
    "Note that the <= and >= operators also express the issubset and issuperset functions respectively."
   ]
  },
  {
   "cell_type": "code",
   "execution_count": 311,
   "metadata": {},
   "outputs": [
    {
     "data": {
      "text/plain": [
       "True"
      ]
     },
     "execution_count": 311,
     "metadata": {},
     "output_type": "execute_result"
    }
   ],
   "source": [
    ">>> set([4, 5, 7]) <= set([4, 5, 7, 9])"
   ]
  },
  {
   "cell_type": "code",
   "execution_count": 312,
   "metadata": {},
   "outputs": [
    {
     "data": {
      "text/plain": [
       "True"
      ]
     },
     "execution_count": 312,
     "metadata": {},
     "output_type": "execute_result"
    }
   ],
   "source": [
    ">>> set([9, 12, 15]) >= set([9, 12])"
   ]
  },
  {
   "cell_type": "markdown",
   "metadata": {},
   "source": [
    "Like lists, tuples, and string, we can use the \"len\" function to find the number of items in a set.\n",
    "\n",
    "## Removing Items\n",
    "There are three functions which remove individual items from a set, called pop, remove, and discard. The first, pop, simply removes an item from the set. Note that there is no defined behavior as to which element it chooses to remove."
   ]
  },
  {
   "cell_type": "code",
   "execution_count": 313,
   "metadata": {},
   "outputs": [
    {
     "data": {
      "text/plain": [
       "1"
      ]
     },
     "execution_count": 313,
     "metadata": {},
     "output_type": "execute_result"
    }
   ],
   "source": [
    ">>> s = set([1,2,3,4,5,6])\n",
    ">>> s.pop()"
   ]
  },
  {
   "cell_type": "code",
   "execution_count": 314,
   "metadata": {},
   "outputs": [
    {
     "data": {
      "text/plain": [
       "{2, 3, 4, 5, 6}"
      ]
     },
     "execution_count": 314,
     "metadata": {},
     "output_type": "execute_result"
    }
   ],
   "source": [
    ">>> s"
   ]
  },
  {
   "cell_type": "markdown",
   "metadata": {},
   "source": [
    "We also have the \"remove\" function to remove a specified element."
   ]
  },
  {
   "cell_type": "code",
   "execution_count": 315,
   "metadata": {},
   "outputs": [
    {
     "data": {
      "text/plain": [
       "{2, 4, 5, 6}"
      ]
     },
     "execution_count": 315,
     "metadata": {},
     "output_type": "execute_result"
    }
   ],
   "source": [
    ">>> s.remove(3)\n",
    ">>> s"
   ]
  },
  {
   "cell_type": "markdown",
   "metadata": {},
   "source": [
    "However, removing a item which isn't in the set causes an error."
   ]
  },
  {
   "cell_type": "code",
   "execution_count": 316,
   "metadata": {},
   "outputs": [
    {
     "ename": "KeyError",
     "evalue": "9",
     "output_type": "error",
     "traceback": [
      "\u001b[1;31m---------------------------------------------------------------------------\u001b[0m",
      "\u001b[1;31mKeyError\u001b[0m                                  Traceback (most recent call last)",
      "\u001b[1;32m<ipython-input-316-d6996fc5cb16>\u001b[0m in \u001b[0;36m<module>\u001b[1;34m\u001b[0m\n\u001b[1;32m----> 1\u001b[1;33m \u001b[0ms\u001b[0m\u001b[1;33m.\u001b[0m\u001b[0mremove\u001b[0m\u001b[1;33m(\u001b[0m\u001b[1;36m9\u001b[0m\u001b[1;33m)\u001b[0m\u001b[1;33m\u001b[0m\u001b[1;33m\u001b[0m\u001b[0m\n\u001b[0m",
      "\u001b[1;31mKeyError\u001b[0m: 9"
     ]
    }
   ],
   "source": [
    ">>> s.remove(9)"
   ]
  },
  {
   "cell_type": "markdown",
   "metadata": {},
   "source": [
    "If you wish to avoid this error, use \"discard.\" It has the same functionality as remove, but will simply do nothing if the element isn't in the set.\n",
    "We also have another operation for removing elements from a set, clear, which simply removes all elements from the set."
   ]
  },
  {
   "cell_type": "code",
   "execution_count": 317,
   "metadata": {},
   "outputs": [
    {
     "data": {
      "text/plain": [
       "set()"
      ]
     },
     "execution_count": 317,
     "metadata": {},
     "output_type": "execute_result"
    }
   ],
   "source": [
    ">>> s.clear()\n",
    ">>> s"
   ]
  },
  {
   "cell_type": "markdown",
   "metadata": {},
   "source": [
    "## Iteration Over Sets\n",
    "We can also have a loop move over each of the items in a set. However, since sets are unordered, it is undefined which order the iteration will follow."
   ]
  },
  {
   "cell_type": "code",
   "execution_count": 319,
   "metadata": {},
   "outputs": [
    {
     "name": "stdout",
     "output_type": "stream",
     "text": [
      "e, l, g, r, b, "
     ]
    }
   ],
   "source": [
    ">>> s = set(\"blerg\")\n",
    ">>> for n in s:\n",
    "...     print(n, end=', ')"
   ]
  },
  {
   "cell_type": "markdown",
   "metadata": {},
   "source": [
    "## Set Operations\n",
    "Python allows us to perform all the standard mathematical set operations, using members of set. Note that each of these set operations has several forms. One of these forms, s1.function(s2) will return another set which is created by \"function\" applied to S1 and S2. The other form, s1.function_update(s2), will change S1 to be the set created by \"function\" of S1 and S2. Finally, some functions have equivalent special operators. For example, s1 & s2 is equivalent to s1.intersection(s2)\n",
    "### Union\n",
    "The union is the merger of two sets. Any element in S1 or S2 will appear in their union."
   ]
  },
  {
   "cell_type": "code",
   "execution_count": 320,
   "metadata": {},
   "outputs": [
    {
     "data": {
      "text/plain": [
       "{1, 4, 6, 8, 9}"
      ]
     },
     "execution_count": 320,
     "metadata": {},
     "output_type": "execute_result"
    }
   ],
   "source": [
    ">>> s1 = set([4, 6, 9])\n",
    ">>> s2 = set([1, 6, 8])\n",
    ">>> s1.union(s2)"
   ]
  },
  {
   "cell_type": "code",
   "execution_count": 321,
   "metadata": {},
   "outputs": [
    {
     "data": {
      "text/plain": [
       "{1, 4, 6, 8, 9}"
      ]
     },
     "execution_count": 321,
     "metadata": {},
     "output_type": "execute_result"
    }
   ],
   "source": [
    ">>> s1 | s2"
   ]
  },
  {
   "cell_type": "markdown",
   "metadata": {},
   "source": [
    "Note that union's update function is simply \"update\" above.\n",
    "### Intersection\n",
    "Any element which is in both S1 and S2 will appear in their intersection."
   ]
  },
  {
   "cell_type": "code",
   "execution_count": 322,
   "metadata": {},
   "outputs": [
    {
     "data": {
      "text/plain": [
       "{6}"
      ]
     },
     "execution_count": 322,
     "metadata": {},
     "output_type": "execute_result"
    }
   ],
   "source": [
    ">>> s1 = set([4, 6, 9])\n",
    ">>> s2 = set([1, 6, 8])\n",
    ">>> s1.intersection(s2)"
   ]
  },
  {
   "cell_type": "code",
   "execution_count": 323,
   "metadata": {},
   "outputs": [
    {
     "data": {
      "text/plain": [
       "{6}"
      ]
     },
     "execution_count": 323,
     "metadata": {},
     "output_type": "execute_result"
    }
   ],
   "source": [
    ">>> s1 & s2"
   ]
  },
  {
   "cell_type": "code",
   "execution_count": 324,
   "metadata": {},
   "outputs": [
    {
     "data": {
      "text/plain": [
       "{6}"
      ]
     },
     "execution_count": 324,
     "metadata": {},
     "output_type": "execute_result"
    }
   ],
   "source": [
    ">>> s1.intersection_update(s2)\n",
    ">>> s1"
   ]
  },
  {
   "cell_type": "markdown",
   "metadata": {},
   "source": [
    "### Symmetric Difference\n",
    "The symmetric difference of two sets is the set of elements which are in one of either set, but not in both."
   ]
  },
  {
   "cell_type": "code",
   "execution_count": 325,
   "metadata": {},
   "outputs": [
    {
     "data": {
      "text/plain": [
       "{1, 4, 8, 9}"
      ]
     },
     "execution_count": 325,
     "metadata": {},
     "output_type": "execute_result"
    }
   ],
   "source": [
    ">>> s1 = set([4, 6, 9])\n",
    ">>> s2 = set([1, 6, 8])\n",
    ">>> s1.symmetric_difference(s2)"
   ]
  },
  {
   "cell_type": "code",
   "execution_count": 326,
   "metadata": {},
   "outputs": [
    {
     "data": {
      "text/plain": [
       "{1, 4, 8, 9}"
      ]
     },
     "execution_count": 326,
     "metadata": {},
     "output_type": "execute_result"
    }
   ],
   "source": [
    ">>> s1 ^ s2"
   ]
  },
  {
   "cell_type": "code",
   "execution_count": 327,
   "metadata": {},
   "outputs": [
    {
     "data": {
      "text/plain": [
       "{1, 4, 8, 9}"
      ]
     },
     "execution_count": 327,
     "metadata": {},
     "output_type": "execute_result"
    }
   ],
   "source": [
    ">>> s1.symmetric_difference_update(s2)\n",
    ">>> s1"
   ]
  },
  {
   "cell_type": "markdown",
   "metadata": {},
   "source": [
    "### Set Difference\n",
    "Python can also find the set difference of S1 and S2, which is the elements that are in S1 but not in S2."
   ]
  },
  {
   "cell_type": "code",
   "execution_count": 328,
   "metadata": {},
   "outputs": [
    {
     "data": {
      "text/plain": [
       "{4, 9}"
      ]
     },
     "execution_count": 328,
     "metadata": {},
     "output_type": "execute_result"
    }
   ],
   "source": [
    ">>> s1 = set([4, 6, 9])\n",
    ">>> s2 = set([1, 6, 8])\n",
    ">>> s1.difference(s2)"
   ]
  },
  {
   "cell_type": "code",
   "execution_count": 329,
   "metadata": {},
   "outputs": [
    {
     "data": {
      "text/plain": [
       "{4, 9}"
      ]
     },
     "execution_count": 329,
     "metadata": {},
     "output_type": "execute_result"
    }
   ],
   "source": [
    ">>> s1 - s2"
   ]
  },
  {
   "cell_type": "code",
   "execution_count": 330,
   "metadata": {},
   "outputs": [
    {
     "data": {
      "text/plain": [
       "{4, 9}"
      ]
     },
     "execution_count": 330,
     "metadata": {},
     "output_type": "execute_result"
    }
   ],
   "source": [
    ">>> s1.difference_update(s2)\n",
    ">>> s1"
   ]
  },
  {
   "cell_type": "markdown",
   "metadata": {},
   "source": [
    "## frozenset\n",
    "A frozenset is basically the same as a set, except that it is immutable - once it is created, its members cannot be changed. Since they are immutable, they are also hashable, which means that frozensets can be used as members in other sets and as dictionary keys. frozensets have the same functions as normal sets, except none of the functions that change the contents (update, remove, pop, etc.) are available."
   ]
  },
  {
   "cell_type": "code",
   "execution_count": 331,
   "metadata": {},
   "outputs": [
    {
     "data": {
      "text/plain": [
       "{4, 5, 6, frozenset({2, 3, 4})}"
      ]
     },
     "execution_count": 331,
     "metadata": {},
     "output_type": "execute_result"
    }
   ],
   "source": [
    ">>> fs = frozenset([2, 3, 4])\n",
    ">>> s1 = set([fs, 4, 5, 6])\n",
    ">>> s1"
   ]
  },
  {
   "cell_type": "code",
   "execution_count": 332,
   "metadata": {},
   "outputs": [
    {
     "data": {
      "text/plain": [
       "frozenset({4})"
      ]
     },
     "execution_count": 332,
     "metadata": {},
     "output_type": "execute_result"
    }
   ],
   "source": [
    ">>> fs.intersection(s1)"
   ]
  },
  {
   "cell_type": "code",
   "execution_count": 333,
   "metadata": {},
   "outputs": [
    {
     "ename": "AttributeError",
     "evalue": "'frozenset' object has no attribute 'add'",
     "output_type": "error",
     "traceback": [
      "\u001b[1;31m---------------------------------------------------------------------------\u001b[0m",
      "\u001b[1;31mAttributeError\u001b[0m                            Traceback (most recent call last)",
      "\u001b[1;32m<ipython-input-333-68f73a09ba57>\u001b[0m in \u001b[0;36m<module>\u001b[1;34m\u001b[0m\n\u001b[1;32m----> 1\u001b[1;33m \u001b[0mfs\u001b[0m\u001b[1;33m.\u001b[0m\u001b[0madd\u001b[0m\u001b[1;33m(\u001b[0m\u001b[1;36m6\u001b[0m\u001b[1;33m)\u001b[0m\u001b[1;33m\u001b[0m\u001b[1;33m\u001b[0m\u001b[0m\n\u001b[0m",
      "\u001b[1;31mAttributeError\u001b[0m: 'frozenset' object has no attribute 'add'"
     ]
    }
   ],
   "source": [
    ">>> fs.add(6)"
   ]
  },
  {
   "cell_type": "markdown",
   "metadata": {},
   "source": [
    "# Flow Control\n",
    "Flow control includes:\n",
    " - loops \n",
    " - branches \n",
    " - function calls \n",
    "\n",
    "Function calls are covered in a later section.\n",
    "\n",
    "Generators and list comprehensions are advanced forms of program flow control, but they are not covered here.\n",
    "\n",
    "## Branches\n",
    "\n",
    "`If …  elif … else`\n",
    "\n",
    "There is basically only one kind of branch in Python, the 'if' statement. The simplest form of the if statement simple executes a block of code only if a given predicate is true, and skips over it if the predicate is false\n",
    "For instance,"
   ]
  },
  {
   "cell_type": "code",
   "execution_count": null,
   "metadata": {},
   "outputs": [],
   "source": [
    ">>> x = 10\n",
    ">>> if x > 0:\n",
    "...    print(\"Positive\")\n",
    "..."
   ]
  },
  {
   "cell_type": "code",
   "execution_count": 192,
   "metadata": {},
   "outputs": [
    {
     "ename": "TypeError",
     "evalue": "'<' not supported between instances of 'complex' and 'int'",
     "output_type": "error",
     "traceback": [
      "\u001b[1;31m---------------------------------------------------------------------------\u001b[0m",
      "\u001b[1;31mTypeError\u001b[0m                                 Traceback (most recent call last)",
      "\u001b[1;32m<ipython-input-192-da66f4bca1a4>\u001b[0m in \u001b[0;36m<module>\u001b[1;34m\u001b[0m\n\u001b[1;32m----> 1\u001b[1;33m \u001b[1;32mif\u001b[0m \u001b[0mx\u001b[0m \u001b[1;33m<\u001b[0m \u001b[1;36m0\u001b[0m\u001b[1;33m:\u001b[0m\u001b[1;33m\u001b[0m\u001b[1;33m\u001b[0m\u001b[0m\n\u001b[0m\u001b[0;32m      2\u001b[0m    \u001b[0mprint\u001b[0m\u001b[1;33m(\u001b[0m\u001b[1;34m\"Negative\"\u001b[0m\u001b[1;33m)\u001b[0m\u001b[1;33m\u001b[0m\u001b[1;33m\u001b[0m\u001b[0m\n\u001b[0;32m      3\u001b[0m \u001b[1;33m\u001b[0m\u001b[0m\n",
      "\u001b[1;31mTypeError\u001b[0m: '<' not supported between instances of 'complex' and 'int'"
     ]
    }
   ],
   "source": [
    ">>> if x < 0:\n",
    "...    print(\"Negative\")\n",
    "..."
   ]
  },
  {
   "cell_type": "markdown",
   "metadata": {},
   "source": [
    "You can also add `elif` (short for \"else if\") branches onto the if statement. If the predicate on the first `if` is false, it will test the predicate on the first elif, and run that branch if it’s true. If the first elif is false, it tries the second one, and so on. Note, however, that it will stop checking branches as soon as it finds a true predicate, and skip the rest of the if statement. You can also end your if statements with an `else` branch. If none of the other branches are executed, then python will run this branch."
   ]
  },
  {
   "cell_type": "code",
   "execution_count": null,
   "metadata": {},
   "outputs": [],
   "source": [
    ">>> x = -6\n",
    ">>> if x > 0:\n",
    "...    print(\"Positive\")\n",
    "... elif x == 0:\n",
    "...    printr(\"Zero\")\n",
    "... else:\n",
    "...    print(\"Negative\")\n",
    "..."
   ]
  },
  {
   "cell_type": "markdown",
   "metadata": {},
   "source": [
    "## Boolean expressions\n",
    "In Python, any non zero number, and non empty string or any object that is not None; is evaluated as True.\n",
    "The following operators are used in dedicated boolean expressions:\n",
    "\n",
    "`<\t<= \t>\t>= \t== \t!=\tin`\n",
    "\n",
    "The key words `and`, `or` and `not` can be used to create compound with boolean expressions.\n",
    "\n",
    "A boolian expression can include the `if ... else` operator.  This looks similar to the `if` statement, but evalueates to a single value.  The expression below will resolve to `'greater'` or `'not greater'` depending on the value of `x`."
   ]
  },
  {
   "cell_type": "code",
   "execution_count": null,
   "metadata": {},
   "outputs": [],
   "source": [
    "print('greater' if x > 10 else 'not greater')"
   ]
  },
  {
   "cell_type": "markdown",
   "metadata": {},
   "source": [
    "# Loops\n",
    "\n",
    "In Python, there are two kinds of loops, `for` loops and `while` loops.\n",
    "\n",
    "## While loops\n",
    "A while loop repeats a sequence of statements until some condition becomes false. For example:"
   ]
  },
  {
   "cell_type": "code",
   "execution_count": null,
   "metadata": {},
   "outputs": [],
   "source": [
    "x = 5\n",
    "while x > 0:\n",
    "    print(x)\n",
    "    x -= 1"
   ]
  },
  {
   "cell_type": "markdown",
   "metadata": {},
   "source": [
    "## For loops\n",
    "A for loop iterates over elements of an iterable object. Which includes sequences (string, tuple or list). A variable is created in the loop to represent each object in the sequence. \n",
    "For example:"
   ]
  },
  {
   "cell_type": "code",
   "execution_count": null,
   "metadata": {},
   "outputs": [],
   "source": [
    "l = [100,200,300,400]\n",
    "for i in l:\n",
    "    print(i)"
   ]
  },
  {
   "cell_type": "markdown",
   "metadata": {},
   "source": [
    "The range function is often used to loop a fixed number of times."
   ]
  },
  {
   "cell_type": "code",
   "execution_count": null,
   "metadata": {},
   "outputs": [],
   "source": [
    "l = range(1, 6)\n",
    "for i in l:\n",
    "    print(i)"
   ]
  },
  {
   "cell_type": "markdown",
   "metadata": {},
   "source": [
    "or"
   ]
  },
  {
   "cell_type": "code",
   "execution_count": null,
   "metadata": {},
   "outputs": [],
   "source": [
    "for i in range(10, 0, -1):\n",
    "    print(i)"
   ]
  },
  {
   "cell_type": "markdown",
   "metadata": {},
   "source": [
    "or"
   ]
  },
  {
   "cell_type": "code",
   "execution_count": null,
   "metadata": {},
   "outputs": [],
   "source": [
    "for i in range(10, 0, -2):\n",
    "    print(i)"
   ]
  },
  {
   "cell_type": "markdown",
   "metadata": {},
   "source": [
    "If we want `print` the output on one line."
   ]
  },
  {
   "cell_type": "markdown",
   "metadata": {},
   "source": [
    "**Python 2**\n",
    "```python\n",
    "for i in range(10, 0, -1):\n",
    "    print i,\n",
    "```"
   ]
  },
  {
   "cell_type": "markdown",
   "metadata": {},
   "source": [
    "**Python3**"
   ]
  },
  {
   "cell_type": "code",
   "execution_count": null,
   "metadata": {},
   "outputs": [],
   "source": [
    "for i in range(10, 0, -1):\n",
    "    print(i, end='')"
   ]
  },
  {
   "cell_type": "markdown",
   "metadata": {},
   "source": [
    "In for loops as in other contexts we can assign a tuple directly to another tuple, if it loops over a sequence of tuples. For instance"
   ]
  },
  {
   "cell_type": "code",
   "execution_count": null,
   "metadata": {},
   "outputs": [],
   "source": [
    "l = [(1, 1), (2, 4), (3, 9), (4, 16), (5, 25)]\n",
    "for x, xsquared in l:\n",
    "    print (x, ':', xsquared)"
   ]
  },
  {
   "cell_type": "markdown",
   "metadata": {},
   "source": [
    "Breaking, continuing and the else clause of loops\n",
    "Python includes statements to exit a loop (either a for loop or a while loop) prematurely. To exit a loop, use the break statement"
   ]
  },
  {
   "cell_type": "code",
   "execution_count": null,
   "metadata": {},
   "outputs": [],
   "source": [
    "x = 5\n",
    "while x > 0:\n",
    "    print(x)\n",
    "    break\n",
    "    x -= 1\n",
    "    print(x)"
   ]
  },
  {
   "cell_type": "markdown",
   "metadata": {},
   "source": [
    "The statement to begin the next iteration of the loop without waiting for the end of the current loop is `continue`."
   ]
  },
  {
   "cell_type": "code",
   "execution_count": null,
   "metadata": {},
   "outputs": [],
   "source": [
    "l = [5,6,7]\n",
    "for x in l:\n",
    "    continue\n",
    "    print(x)"
   ]
  },
  {
   "cell_type": "markdown",
   "metadata": {},
   "source": [
    "This will not produce any output.\n",
    "The else clause of loops will be executed if no break statements are met in the loop."
   ]
  },
  {
   "cell_type": "code",
   "execution_count": null,
   "metadata": {},
   "outputs": [],
   "source": [
    "l = range(1,100)\n",
    "for x in l:\n",
    "    if x == 100:\n",
    "        print(x)\n",
    "        break\n",
    "    else:\n",
    "        print(x,\"not 100\", end = ', ')\n",
    "else:\n",
    "    print(\"\\n100 not found in range\")"
   ]
  },
  {
   "cell_type": "markdown",
   "metadata": {},
   "source": [
    "## Iterating over Dicts\n",
    "\n",
    "By default iterating over a dictionary will produce the keys.  Once you have the key of course is is easy to get the value:"
   ]
  },
  {
   "cell_type": "code",
   "execution_count": null,
   "metadata": {},
   "outputs": [],
   "source": [
    "d = {'name': 'fred', 'surname': 'bloggs', 'age': 10}\n",
    "for key in d:\n",
    "    print(key, d[key])"
   ]
  },
  {
   "cell_type": "markdown",
   "metadata": {},
   "source": [
    "It is often useful to iterate over the `items` of a dictionary. The items are a series of tuples."
   ]
  },
  {
   "cell_type": "code",
   "execution_count": 193,
   "metadata": {},
   "outputs": [
    {
     "name": "stdout",
     "output_type": "stream",
     "text": [
      "age 10\n",
      "surname basset\n",
      "name fred\n"
     ]
    }
   ],
   "source": [
    "for key, val in d.items():\n",
    "    print(key, val)"
   ]
  },
  {
   "cell_type": "markdown",
   "metadata": {},
   "source": [
    "# Functions\n",
    "\n",
    "## Function calls\n",
    "A callable object is an object that can accept some arguments (also called parameters) and possibly return an object (often a tuple containing multiple objects).\n",
    "A function is the simplest callable object in Python, but there are others, such as classes or certain class instances."
   ]
  },
  {
   "cell_type": "markdown",
   "metadata": {},
   "source": [
    "A function can be called by appending the arguments in parentheses to the function name, or an empty matched set of parentheses if the function takes no arguments.\n",
    "```python\n",
    "foo()\n",
    "square(3)\n",
    "bar(5, x)\n",
    "```\n",
    "A function's return value can be used by assigning it to a variable, like so:\n",
    "```python\n",
    "x = foo()\n",
    "y = bar(5,x)\n",
    "```\n",
    "As shown above, when calling a function you can specify the parameters by name and you can do so in any order"
   ]
  },
  {
   "cell_type": "markdown",
   "metadata": {},
   "source": [
    "## Defining functions\n",
    "A function is defined in Python by the following format:\n",
    "```python\n",
    "def functionname(arg1, arg2, ...):\n",
    "    statement1\n",
    "    statement2\n",
    "    ...\n",
    "```"
   ]
  },
  {
   "cell_type": "code",
   "execution_count": 194,
   "metadata": {},
   "outputs": [],
   "source": [
    ">>> def functionname(arg1,arg2):\n",
    "...     return arg1+arg2\n",
    "...\n",
    ">>> t = functionname(24,24) # Result: 48"
   ]
  },
  {
   "cell_type": "markdown",
   "metadata": {},
   "source": [
    "If a function takes no arguments, it must still include the parentheses, but without anything in them:\n",
    "```python\n",
    "def functionname():\n",
    "    statement1\n",
    "    statement2\n",
    "    ...\n",
    "```\n",
    "The arguments in the function definition bind the arguments passed at function invocation (i.e. when the function is called), which are called actual parameters, to the names given when the function is defined, which are called formal parameters. The interior of the function has no knowledge of the names given to the actual parameters; the names of the actual parameters may not even be accessible (they could be inside another function).\n",
    "A function can 'return' a value, like so"
   ]
  },
  {
   "cell_type": "code",
   "execution_count": 195,
   "metadata": {},
   "outputs": [],
   "source": [
    "def square(x):\n",
    "    return x*x"
   ]
  },
  {
   "cell_type": "markdown",
   "metadata": {},
   "source": [
    "A function can define variables within the function body, which are considered 'local' to the function. The locals together with the arguments comprise all the variables within the scope of the function. Any names within the function are unbound when the function returns or reaches the end of the function body."
   ]
  },
  {
   "cell_type": "markdown",
   "metadata": {},
   "source": [
    "## Declaring Arguments\n",
    "\n",
    "Default Argument Values\n",
    "If any of the formal parameters in the function definition are declared with the format \"arg = value,\" then you will have the option of not specifying a value for those arguments when calling the function. If you do not specify a value, then that parameter will have the default value given when the function executes."
   ]
  },
  {
   "cell_type": "code",
   "execution_count": 196,
   "metadata": {},
   "outputs": [
    {
     "name": "stdout",
     "output_type": "stream",
     "text": [
      "mess\n"
     ]
    },
    {
     "ename": "NameError",
     "evalue": "name 'mess' is not defined",
     "output_type": "error",
     "traceback": [
      "\u001b[1;31m---------------------------------------------------------------------------\u001b[0m",
      "\u001b[1;31mNameError\u001b[0m                                 Traceback (most recent call last)",
      "\u001b[1;32m<ipython-input-196-9adb595986bc>\u001b[0m in \u001b[0;36m<module>\u001b[1;34m\u001b[0m\n\u001b[0;32m      3\u001b[0m \u001b[1;33m\u001b[0m\u001b[0m\n\u001b[0;32m      4\u001b[0m \u001b[0mdisplay_message\u001b[0m\u001b[1;33m(\u001b[0m\u001b[1;34m\"message\"\u001b[0m\u001b[1;33m)\u001b[0m\u001b[1;33m\u001b[0m\u001b[1;33m\u001b[0m\u001b[0m\n\u001b[1;32m----> 5\u001b[1;33m \u001b[0mmess\u001b[0m\u001b[1;33m\u001b[0m\u001b[1;33m\u001b[0m\u001b[0m\n\u001b[0m\u001b[0;32m      6\u001b[0m \u001b[0mdisplay_message\u001b[0m\u001b[1;33m(\u001b[0m\u001b[1;34m\"message\"\u001b[0m\u001b[1;33m,\u001b[0m \u001b[1;36m6\u001b[0m\u001b[1;33m)\u001b[0m\u001b[1;33m\u001b[0m\u001b[1;33m\u001b[0m\u001b[0m\n\u001b[0;32m      7\u001b[0m \u001b[0mmessag\u001b[0m\u001b[1;33m\u001b[0m\u001b[1;33m\u001b[0m\u001b[0m\n",
      "\u001b[1;31mNameError\u001b[0m: name 'mess' is not defined"
     ]
    }
   ],
   "source": [
    ">>> def display_message(message, truncate_after = 4):\n",
    "...     print(message[:truncate_after])\n",
    "...\n",
    ">>> display_message(\"message\")\n",
    "mess\n",
    ">>> display_message(\"message\", 6)\n",
    "messag"
   ]
  },
  {
   "cell_type": "markdown",
   "metadata": {},
   "source": [
    "## Named Parameters\n",
    "Using named instead of positional parameters can be useful when there are many optional arguments.  In the example below start, end  are both optional and can be independently selected."
   ]
  },
  {
   "cell_type": "code",
   "execution_count": null,
   "metadata": {},
   "outputs": [],
   "source": [
    "def display_message(message, start=0, end=4):\n",
    "   print(message[start:end])\n",
    " \n",
    "display_message(\"message\", end=3)"
   ]
  },
  {
   "cell_type": "markdown",
   "metadata": {},
   "source": [
    "This above is valid and start will be the default value of 0. A restriction placed on this is after the first named argument then all arguments after it must also be named. The following is not valid\n",
    "display_message(end=5, start=1, \"my message\")\n",
    "\n",
    "because the third argument (\"my message\") is an unnamed argument."
   ]
  },
  {
   "cell_type": "markdown",
   "metadata": {},
   "source": [
    "## Variable-Length Argument Lists\n",
    "Python allows you to declare two special arguments which allow you to create arbitrary-length argument lists. This means that each time you call the function, you can specify any number of arguments above a certain number.\n",
    "```python\n",
    "def function(first,second,*remaining):\n",
    "    statement1\n",
    "    statement2\n",
    "    ...\n",
    "```\n",
    "When calling the above function, you must provide value for each of the first two arguments. However, since the third parameter is marked with an asterisk, any actual parameters after the first two will be packed into a tuple and bound to \"remaining.\""
   ]
  },
  {
   "cell_type": "code",
   "execution_count": null,
   "metadata": {},
   "outputs": [],
   "source": [
    ">>> def print_tail(first,*tail):\n",
    "...        print(tail)\n",
    "...\n",
    ">>> print_tail(1, 5, 2, \"omega\")"
   ]
  },
  {
   "cell_type": "markdown",
   "metadata": {},
   "source": [
    "If we declare a formal parameter prefixed with two asterisks, then it will be bound to a dictionary containing any keyword arguments in the actual parameters which do not correspond to any formal parameters. For example, consider the function:"
   ]
  },
  {
   "cell_type": "code",
   "execution_count": null,
   "metadata": {},
   "outputs": [],
   "source": [
    "def show_args(*args, **kwargs):\n",
    "    print(args)\n",
    "    print(kwargs)\n",
    "\n",
    "show_args(1,2,3)\n",
    "show_args(name='fred', age=10)"
   ]
  },
  {
   "cell_type": "markdown",
   "metadata": {},
   "source": [
    "## Closure\n",
    "Closure, also known as nested function definition, is a function defined inside another function. Perhaps best described with an example:"
   ]
  },
  {
   "cell_type": "code",
   "execution_count": null,
   "metadata": {},
   "outputs": [],
   "source": [
    ">>> def outer(outer_argument):\n",
    "...     def inner(inner_argument):\n",
    "...         return outer_argument + inner_argument\n",
    "...     return inner\n",
    "...\n",
    ">>> f = outer(5)\n",
    ">>> f(3)"
   ]
  },
  {
   "cell_type": "code",
   "execution_count": null,
   "metadata": {},
   "outputs": [],
   "source": [
    ">>> f(4)"
   ]
  },
  {
   "cell_type": "markdown",
   "metadata": {},
   "source": [
    "Closure is possible in python because function is a first-class object, that means a function is merely an object of type function. Being an object means it is possible to pass function object (an uncalled function) around as argument or as return value or to assign another name to the function object. A unique feature that makes closure useful is that the enclosed function may use the names defined in the parent function's scope."
   ]
  },
  {
   "cell_type": "markdown",
   "metadata": {},
   "source": [
    "## lambda\n",
    "lambda is an anonymous (unnamed) function, it is used primarily to write very short functions that is a hassle to define in the normal way. A function like this:"
   ]
  },
  {
   "cell_type": "code",
   "execution_count": null,
   "metadata": {},
   "outputs": [],
   "source": [
    ">>> def add(a, b):\n",
    "...    return a + b\n",
    "...\n",
    ">>> add(4, 3)"
   ]
  },
  {
   "cell_type": "markdown",
   "metadata": {},
   "source": [
    "may also be defined using lambda"
   ]
  },
  {
   "cell_type": "code",
   "execution_count": null,
   "metadata": {},
   "outputs": [],
   "source": [
    ">>> print((lambda a, b: a + b)(4, 3))"
   ]
  },
  {
   "cell_type": "markdown",
   "metadata": {},
   "source": [
    "Lambda is often used as an argument to other functions that expects a function object, such as `sorted()`'s 'key' argument."
   ]
  },
  {
   "cell_type": "code",
   "execution_count": null,
   "metadata": {},
   "outputs": [],
   "source": [
    ">>> sorted([[3, 4], [3, 5], [1, 2], [7, 3]], key=lambda x: x[1])"
   ]
  },
  {
   "cell_type": "markdown",
   "metadata": {},
   "source": [
    "The lambda form is often useful to be used as closure, such as illustrated in the following example:"
   ]
  },
  {
   "cell_type": "code",
   "execution_count": null,
   "metadata": {},
   "outputs": [],
   "source": [
    ">>> def attribution(name):\n",
    "...    return lambda x: x + ' -- ' + name\n",
    "...\n",
    ">>> pp = attribution('John')\n",
    ">>> pp('Dinner is in the fridge')"
   ]
  },
  {
   "cell_type": "markdown",
   "metadata": {},
   "source": [
    "note that the lambda function can use the values of variables from the scope in which it was created (like pre and post). This is the essence of closure."
   ]
  },
  {
   "cell_type": "markdown",
   "metadata": {},
   "source": [
    "## Scoping Variables\n",
    "Variables in Python are automatically declared by assignment. Variables are always references to objects, and are never typed. Variables exist only in the current scope or global scope. When they go out of scope, the variables are destroyed, but the objects to which they refer are not (unless the number of references to the object drops to zero).\n",
    "Scope is delineated by function and class blocks. Both functions and their scopes can be nested. So therefore"
   ]
  },
  {
   "cell_type": "code",
   "execution_count": null,
   "metadata": {},
   "outputs": [],
   "source": [
    "def foo():\n",
    "    def bar():\n",
    "        x = 5 # x is now in scope\n",
    "        return x + y # y is defined in the enclosing scope later\n",
    "    y = 10\n",
    "    return bar() # now that y is defined, bar's scope includes y"
   ]
  },
  {
   "cell_type": "markdown",
   "metadata": {},
   "source": [
    "Now when this code is tested,"
   ]
  },
  {
   "cell_type": "code",
   "execution_count": null,
   "metadata": {},
   "outputs": [],
   "source": [
    ">>> foo()\n",
    "15\n",
    ">>> bar()"
   ]
  },
  {
   "cell_type": "markdown",
   "metadata": {},
   "source": [
    "The name `bar` is not found because a higher scope does not have access to the names lower in the hierarchy.\n",
    "It is a common pitfall to fail to lookup an attribute (such as a method) of an object (such as a container) referenced by a variable before the variable is assigned the object. In its most common form:"
   ]
  },
  {
   "cell_type": "code",
   "execution_count": null,
   "metadata": {},
   "outputs": [],
   "source": [
    ">>> for x in range(10):\n",
    "         y.append(x) # append is an attribute of lists"
   ]
  },
  {
   "cell_type": "markdown",
   "metadata": {},
   "source": [
    "add `y=[]` before the loop"
   ]
  },
  {
   "cell_type": "markdown",
   "metadata": {},
   "source": [
    "## Functional Programming\n",
    "### List Comprehensions\n",
    "\n",
    "A list comprehensions creates a list based on an iteration as follows:"
   ]
  },
  {
   "cell_type": "code",
   "execution_count": null,
   "metadata": {},
   "outputs": [],
   "source": [
    ">>> [x**2 for x in range(5)]"
   ]
  },
  {
   "cell_type": "markdown",
   "metadata": {},
   "source": [
    "Any variable can be used in place of x.  The output of the comprehensions is a list whose elements are the first term of the comprehensions (in this case x2).  The variable x is assigned in the for loop."
   ]
  },
  {
   "cell_type": "markdown",
   "metadata": {},
   "source": [
    "## Generator expressions\n",
    "A generators expression is similar to a list comprehensions and is created in exactly the same manner, except that the brackets - [] are replaced with parentheses - ().  The output of the generator expression is no a list, but an iterable object that will iteratively return the same elements that the corresponding list comprehension would have returned as a list."
   ]
  },
  {
   "cell_type": "code",
   "execution_count": 197,
   "metadata": {},
   "outputs": [
    {
     "data": {
      "text/plain": [
       "<generator object <genexpr> at 0x01415CB0>"
      ]
     },
     "execution_count": 197,
     "metadata": {},
     "output_type": "execute_result"
    }
   ],
   "source": [
    ">>> (x**2 for x in range(5))"
   ]
  },
  {
   "cell_type": "code",
   "execution_count": 198,
   "metadata": {},
   "outputs": [
    {
     "name": "stdout",
     "output_type": "stream",
     "text": [
      "0\n",
      "1\n",
      "4\n",
      "9\n",
      "16\n"
     ]
    }
   ],
   "source": [
    ">>> for i in (x**2 for x in range(5)):\n",
    "...     print(i)\n",
    "... "
   ]
  },
  {
   "cell_type": "markdown",
   "metadata": {},
   "source": [
    "The generator expression has the advantage that the entire list is never stored in memory, and is therefore more efficient for a large number of elements.\n",
    "\n",
    "**`map()`**\n",
    "\n",
    "The `map()` function accepts two arguments, a function and a sequence.  In Python2 a list is returned whose members are the result of the function applied to each member of the list supplied.  In Python3 an iterable map object is returned instead, which could easily be transformed into a sequence"
   ]
  },
  {
   "cell_type": "markdown",
   "metadata": {},
   "source": [
    "```python\n",
    "map(lambda x:x**2, range(5))\n",
    "[0, 1, 4, 9, 16].  \n",
    "#Python2\n",
    "```"
   ]
  },
  {
   "cell_type": "code",
   "execution_count": 199,
   "metadata": {},
   "outputs": [
    {
     "ename": "TypeError",
     "evalue": "'list' object is not callable",
     "output_type": "error",
     "traceback": [
      "\u001b[1;31m---------------------------------------------------------------------------\u001b[0m",
      "\u001b[1;31mTypeError\u001b[0m                                 Traceback (most recent call last)",
      "\u001b[1;32m<ipython-input-199-deae91a5af09>\u001b[0m in \u001b[0;36m<module>\u001b[1;34m\u001b[0m\n\u001b[0;32m      1\u001b[0m \u001b[1;31m#Python3\u001b[0m\u001b[1;33m\u001b[0m\u001b[1;33m\u001b[0m\u001b[1;33m\u001b[0m\u001b[0m\n\u001b[1;32m----> 2\u001b[1;33m \u001b[0mlist\u001b[0m\u001b[1;33m(\u001b[0m\u001b[0mmap\u001b[0m\u001b[1;33m(\u001b[0m\u001b[1;32mlambda\u001b[0m \u001b[0mx\u001b[0m\u001b[1;33m:\u001b[0m\u001b[0mx\u001b[0m\u001b[1;33m**\u001b[0m\u001b[1;36m2\u001b[0m\u001b[1;33m,\u001b[0m \u001b[0mrange\u001b[0m\u001b[1;33m(\u001b[0m\u001b[1;36m5\u001b[0m\u001b[1;33m)\u001b[0m\u001b[1;33m)\u001b[0m\u001b[1;33m)\u001b[0m\u001b[1;33m\u001b[0m\u001b[1;33m\u001b[0m\u001b[0m\n\u001b[0m",
      "\u001b[1;31mTypeError\u001b[0m: 'list' object is not callable"
     ]
    }
   ],
   "source": [
    "#Python3\n",
    "list(map(lambda x:x**2, range(5)))"
   ]
  },
  {
   "cell_type": "markdown",
   "metadata": {},
   "source": [
    "In the following example map is used to convert each member of a `list` to a string using the `str` function.  A list of int cannot be joined, we need a `list` of `str`."
   ]
  },
  {
   "cell_type": "code",
   "execution_count": null,
   "metadata": {},
   "outputs": [],
   "source": [
    ">>> l = [1,2,3,4,5]\n",
    ">>> ','.join(l)"
   ]
  },
  {
   "cell_type": "code",
   "execution_count": null,
   "metadata": {},
   "outputs": [],
   "source": [
    ">>> ','.join(map(str,l))"
   ]
  },
  {
   "cell_type": "markdown",
   "metadata": {},
   "source": [
    "## Generator Functions\n",
    "A generator function returns a generator object, similar to that returned by generator expressions,  `map`, and `dict` `keys` / `items` / `values`.  Generator functions always make use of the key word `yield`.\n",
    "\n",
    "The object returned by the generator function has a `__next__` method  which make iteration possible.  Each time the `__next__`  method is called, the function executes up until a yield statement and returns the yield value.\n",
    "\n",
    "Generator functions are best understood by referring to an example."
   ]
  },
  {
   "cell_type": "code",
   "execution_count": null,
   "metadata": {},
   "outputs": [],
   "source": [
    "def updown(n):\n",
    "    for i in range(n): yield i\n",
    "    for i in range(n,0,-1): yield i\n",
    "\n",
    "for x in updown(5) : print(x, end='')"
   ]
  },
  {
   "cell_type": "markdown",
   "metadata": {},
   "source": [
    "# Modules\n",
    "Modules are a simple way to structure a program. Mostly, there are modules in the standard library and there are other Python files, or directories containing Python files, in the current directory (each of which constitute a module). You can also instruct Python to search other directories for modules by placing their paths in the `PYTHONPATH` environment variable.\n",
    "Modules in Python are used by importing them. For example,\n",
    "```python\n",
    "import math\n",
    "```\n",
    "This imports the `math` standard module. All of the functions in that module are namespaced by the module name, i.e."
   ]
  },
  {
   "cell_type": "code",
   "execution_count": null,
   "metadata": {},
   "outputs": [],
   "source": [
    "import math\n",
    "print(math.sqrt(10))"
   ]
  },
  {
   "cell_type": "markdown",
   "metadata": {},
   "source": [
    "This is often a nuisance, so other syntaxes are available to simplify this,"
   ]
  },
  {
   "cell_type": "code",
   "execution_count": null,
   "metadata": {},
   "outputs": [],
   "source": [
    "from string import whitespace\n",
    "from math import *\n",
    "from math import sin as SIN\n",
    "from math import cos as COS\n",
    "from ftplib import FTP as ftp_connection\n",
    "print(sqrt(10))"
   ]
  },
  {
   "cell_type": "markdown",
   "metadata": {},
   "source": [
    "The first statement means whitespace is added to the current scope (but nothing else is). The second statement means that all the elements in the math namespace is added to the current scope.\n",
    "Modules can be three different kinds of things:\n",
    " -  Python files \n",
    " -  Shared Objects (under Unix and Linux) with the .so suffix \n",
    " -  DLL's (under Windows) with the .pyd suffix \n",
    " -  directories \n",
    "Modules are loaded in the order they're found, which is controlled by sys.path. The current directory is always on the path.\n",
    "Directories should include a file in them called `__init__.py`, which should probably include the other files in the directory.\n",
    "\n",
    "Creating a DLL that interfaces with Python is covered in the advanced course."
   ]
  },
  {
   "cell_type": "markdown",
   "metadata": {},
   "source": [
    "# Classes\n",
    "Classes are a way of aggregating similar data and functions. A class is basically a scope inside which various code (especially function definitions) is executed, and the locals to this scope become attributes of the class, and of any objects constructed by this class. An object constructed by a class is called an instance of that class.\n",
    "Defining a Class\n",
    "To define a class, use the following format:\n",
    "```python\n",
    "class ClassName:\n",
    "    ...\n",
    "    ...\n",
    "```\n",
    "The capitalization in this class definition is the convention, but is not required by the language."
   ]
  },
  {
   "cell_type": "markdown",
   "metadata": {},
   "source": [
    "## Instance Construction\n",
    "The class is a callable object that constructs an instance of the class when called. To construct an instance of a class, \"call\" the class object:\n",
    "```python\n",
    "f = Foo()\n",
    "```\n",
    "This constructs an instance of class Foo and creates a reference to it in f."
   ]
  },
  {
   "cell_type": "markdown",
   "metadata": {},
   "source": [
    "## Class Members\n",
    "\n",
    "In order to access the member of an instance of a class, use the syntax `<class instance>.<member>`. It is also possible to access the members of the class definition with `<class name>.<member>`.\n",
    "Methods\n",
    "\n",
    "A method is a function within a class. The first argument (methods must always take at least one argument) is always the instance of the class on which the function is invoked. For example"
   ]
  },
  {
   "cell_type": "code",
   "execution_count": 334,
   "metadata": {},
   "outputs": [],
   "source": [
    ">>> class Foo:\n",
    "...     def setx(self, x):\n",
    "...         self.x = x\n",
    "...     def bar(self):\n",
    "...         print(self.x)"
   ]
  },
  {
   "cell_type": "markdown",
   "metadata": {},
   "source": [
    "If this code were executed, nothing would happen, at least until an instance of Foo were constructed, and then bar were called on that instance.\n",
    "Invoking Methods\n",
    "Calling a method is much like calling a function, but instead of passing the instance as the first parameter like the list of formal parameters suggests, use the function as an attribute of the instance."
   ]
  },
  {
   "cell_type": "code",
   "execution_count": 335,
   "metadata": {},
   "outputs": [
    {
     "name": "stdout",
     "output_type": "stream",
     "text": [
      "5\n"
     ]
    }
   ],
   "source": [
    ">>> f = Foo()\n",
    ">>> f.setx(5)\n",
    ">>> f.bar()"
   ]
  },
  {
   "cell_type": "markdown",
   "metadata": {},
   "source": [
    "It is possible to call the method on an arbitrary object, by using it as an attribute of the defining class instead of an instance of that class, like so:"
   ]
  },
  {
   "cell_type": "code",
   "execution_count": 336,
   "metadata": {},
   "outputs": [
    {
     "name": "stdout",
     "output_type": "stream",
     "text": [
      "5\n"
     ]
    }
   ],
   "source": [
    ">>> Foo.setx(f,5)\n",
    ">>> Foo.bar(f)"
   ]
  },
  {
   "cell_type": "markdown",
   "metadata": {},
   "source": [
    "## Dynamic Class Structure\n",
    "As shown by the method setx above, the members of a Python class can change during runtime, not just their values, unlike classes in languages like C or Java. We can even delete f.x after running the code above."
   ]
  },
  {
   "cell_type": "code",
   "execution_count": 337,
   "metadata": {},
   "outputs": [
    {
     "ename": "AttributeError",
     "evalue": "'Foo' object has no attribute 'x'",
     "output_type": "error",
     "traceback": [
      "\u001b[1;31m---------------------------------------------------------------------------\u001b[0m",
      "\u001b[1;31mAttributeError\u001b[0m                            Traceback (most recent call last)",
      "\u001b[1;32m<ipython-input-337-19e8b73e2928>\u001b[0m in \u001b[0;36m<module>\u001b[1;34m\u001b[0m\n\u001b[0;32m      1\u001b[0m \u001b[1;32mdel\u001b[0m \u001b[0mf\u001b[0m\u001b[1;33m.\u001b[0m\u001b[0mx\u001b[0m\u001b[1;33m\u001b[0m\u001b[1;33m\u001b[0m\u001b[0m\n\u001b[1;32m----> 2\u001b[1;33m \u001b[0mf\u001b[0m\u001b[1;33m.\u001b[0m\u001b[0mbar\u001b[0m\u001b[1;33m(\u001b[0m\u001b[1;33m)\u001b[0m\u001b[1;33m\u001b[0m\u001b[1;33m\u001b[0m\u001b[0m\n\u001b[0m",
      "\u001b[1;32m<ipython-input-334-b77b28f4d11d>\u001b[0m in \u001b[0;36mbar\u001b[1;34m(self)\u001b[0m\n\u001b[0;32m      3\u001b[0m         \u001b[0mself\u001b[0m\u001b[1;33m.\u001b[0m\u001b[0mx\u001b[0m \u001b[1;33m=\u001b[0m \u001b[0mx\u001b[0m\u001b[1;33m\u001b[0m\u001b[1;33m\u001b[0m\u001b[0m\n\u001b[0;32m      4\u001b[0m     \u001b[1;32mdef\u001b[0m \u001b[0mbar\u001b[0m\u001b[1;33m(\u001b[0m\u001b[0mself\u001b[0m\u001b[1;33m)\u001b[0m\u001b[1;33m:\u001b[0m\u001b[1;33m\u001b[0m\u001b[1;33m\u001b[0m\u001b[0m\n\u001b[1;32m----> 5\u001b[1;33m         \u001b[0mprint\u001b[0m\u001b[1;33m(\u001b[0m\u001b[0mself\u001b[0m\u001b[1;33m.\u001b[0m\u001b[0mx\u001b[0m\u001b[1;33m)\u001b[0m\u001b[1;33m\u001b[0m\u001b[1;33m\u001b[0m\u001b[0m\n\u001b[0m",
      "\u001b[1;31mAttributeError\u001b[0m: 'Foo' object has no attribute 'x'"
     ]
    }
   ],
   "source": [
    ">>> del f.x\n",
    ">>> f.bar()"
   ]
  },
  {
   "cell_type": "markdown",
   "metadata": {},
   "source": [
    "Another effect of this is that we can change the definition of the Foo class during program execution. In the code below, we create a member of the Foo class definition named y. If we then create a new instance of Foo, it will now have this new member."
   ]
  },
  {
   "cell_type": "code",
   "execution_count": 338,
   "metadata": {},
   "outputs": [
    {
     "data": {
      "text/plain": [
       "10"
      ]
     },
     "execution_count": 338,
     "metadata": {},
     "output_type": "execute_result"
    }
   ],
   "source": [
    ">>> Foo.y = 10\n",
    ">>> g = Foo()\n",
    ">>> g.y"
   ]
  },
  {
   "cell_type": "markdown",
   "metadata": {},
   "source": [
    "### Viewing Class Dictionaries\n",
    "At the heart of all this is a dictionary that can be accessed by \"vars(ClassName)\""
   ]
  },
  {
   "cell_type": "code",
   "execution_count": 339,
   "metadata": {},
   "outputs": [
    {
     "data": {
      "text/plain": [
       "{}"
      ]
     },
     "execution_count": 339,
     "metadata": {},
     "output_type": "execute_result"
    }
   ],
   "source": [
    ">>> vars(g)"
   ]
  },
  {
   "cell_type": "markdown",
   "metadata": {},
   "source": [
    "At first, this output makes no sense. We just saw that `g` had the member `y`, so why isn't it in the member dictionary? If you remember, though, we put `y` in the class definition, `Foo`, not `g`."
   ]
  },
  {
   "cell_type": "code",
   "execution_count": 340,
   "metadata": {},
   "outputs": [
    {
     "data": {
      "text/plain": [
       "mappingproxy({'__module__': '__main__',\n",
       "              'setx': <function __main__.Foo.setx(self, x)>,\n",
       "              'bar': <function __main__.Foo.bar(self)>,\n",
       "              '__dict__': <attribute '__dict__' of 'Foo' objects>,\n",
       "              '__weakref__': <attribute '__weakref__' of 'Foo' objects>,\n",
       "              '__doc__': None,\n",
       "              'y': 10})"
      ]
     },
     "execution_count": 340,
     "metadata": {},
     "output_type": "execute_result"
    }
   ],
   "source": [
    ">>> vars(Foo)"
   ]
  },
  {
   "cell_type": "markdown",
   "metadata": {},
   "source": [
    "And there we have all the members of the Foo class definition. When Python checks for g.member, it first checks g's vars dictionary for \"member,\" then Foo. If we create a new member of g, it will be added to g's dictionary, but not Foo's."
   ]
  },
  {
   "cell_type": "code",
   "execution_count": 341,
   "metadata": {},
   "outputs": [
    {
     "data": {
      "text/plain": [
       "{'x': 5}"
      ]
     },
     "execution_count": 341,
     "metadata": {},
     "output_type": "execute_result"
    }
   ],
   "source": [
    ">>> g.setx(5)\n",
    ">>> vars(g)"
   ]
  },
  {
   "cell_type": "markdown",
   "metadata": {},
   "source": [
    "Note that if we now assign a value to g.y, we are not assigning that value to Foo.y. Foo.y will still be 10, but g.y will now override Foo.y"
   ]
  },
  {
   "cell_type": "code",
   "execution_count": 342,
   "metadata": {},
   "outputs": [
    {
     "data": {
      "text/plain": [
       "{'x': 5, 'y': 9}"
      ]
     },
     "execution_count": 342,
     "metadata": {},
     "output_type": "execute_result"
    }
   ],
   "source": [
    ">>> g.y = 9\n",
    ">>> vars(g)"
   ]
  },
  {
   "cell_type": "code",
   "execution_count": 343,
   "metadata": {},
   "outputs": [
    {
     "data": {
      "text/plain": [
       "mappingproxy({'__module__': '__main__',\n",
       "              'setx': <function __main__.Foo.setx(self, x)>,\n",
       "              'bar': <function __main__.Foo.bar(self)>,\n",
       "              '__dict__': <attribute '__dict__' of 'Foo' objects>,\n",
       "              '__weakref__': <attribute '__weakref__' of 'Foo' objects>,\n",
       "              '__doc__': None,\n",
       "              'y': 10})"
      ]
     },
     "execution_count": 343,
     "metadata": {},
     "output_type": "execute_result"
    }
   ],
   "source": [
    ">>> vars(Foo)"
   ]
  },
  {
   "cell_type": "markdown",
   "metadata": {},
   "source": [
    "Sure enough, if we check the values:"
   ]
  },
  {
   "cell_type": "code",
   "execution_count": 344,
   "metadata": {},
   "outputs": [
    {
     "data": {
      "text/plain": [
       "9"
      ]
     },
     "execution_count": 344,
     "metadata": {},
     "output_type": "execute_result"
    }
   ],
   "source": [
    ">>> g.y"
   ]
  },
  {
   "cell_type": "code",
   "execution_count": 345,
   "metadata": {},
   "outputs": [
    {
     "data": {
      "text/plain": [
       "10"
      ]
     },
     "execution_count": 345,
     "metadata": {},
     "output_type": "execute_result"
    }
   ],
   "source": [
    ">>> Foo.y"
   ]
  },
  {
   "cell_type": "markdown",
   "metadata": {},
   "source": [
    "Note that `f.y` will also be 10, as Python won't find `y` in `vars(f)`, so it will get the value of `y` from `vars(Foo)`.\n",
    "\n",
    "Some may have also noticed that the methods in Foo appear in the class dictionary along with the `x` and `y`. If you remember from the section on lambda forms, we can treat functions just like variables. This means that we can assign methods to a class during runtime in the same way we assigned variables. If you do this, though, remember that if we call a method of a class instance, the first parameter passed to the method will always be the class instance itself."
   ]
  },
  {
   "cell_type": "markdown",
   "metadata": {},
   "source": [
    "## Changing Class Dictionaries\n",
    "We can also access the members dictionary of a class using the `__dict__` member of the class."
   ]
  },
  {
   "cell_type": "code",
   "execution_count": 346,
   "metadata": {},
   "outputs": [
    {
     "data": {
      "text/plain": [
       "{'x': 5, 'y': 9}"
      ]
     },
     "execution_count": 346,
     "metadata": {},
     "output_type": "execute_result"
    }
   ],
   "source": [
    ">>> g.__dict__"
   ]
  },
  {
   "cell_type": "markdown",
   "metadata": {},
   "source": [
    "If we add, remove, or change key-value pairs from `g.__dict__`, this has the same effect as if we had made those changes to the members of `g`."
   ]
  },
  {
   "cell_type": "code",
   "execution_count": 347,
   "metadata": {},
   "outputs": [
    {
     "data": {
      "text/plain": [
       "-4"
      ]
     },
     "execution_count": 347,
     "metadata": {},
     "output_type": "execute_result"
    }
   ],
   "source": [
    ">>> g.__dict__['z'] = -4\n",
    ">>> g.z"
   ]
  },
  {
   "cell_type": "markdown",
   "metadata": {},
   "source": [
    "## New Style Classes\n",
    "New style classes were introduced in python 2.2. A new-style class is a class that has a `built-in` as its base, most commonly object. At a low level, a major difference between old and new classes is their type. Old class instances were all of type instance. New style class instances will return the same thing as `x.__class__` for their instance. This puts user defined classes on a level playing field with built-ins. Old/Classic classes are slated to disappear in Python 3000. With this in mind all development should use new style classes. New Style classes also add constructs like properties and static methods familiar to Java programmers."
   ]
  },
  {
   "cell_type": "code",
   "execution_count": 348,
   "metadata": {},
   "outputs": [],
   "source": [
    "#Old/Classic Class\n",
    ">>> class ClassicFoo:\n",
    "...     def __init__(self):\n",
    "...         pass"
   ]
  },
  {
   "cell_type": "code",
   "execution_count": 349,
   "metadata": {},
   "outputs": [],
   "source": [
    "#New Style Class\n",
    ">>> class NewStyleFoo(object):\n",
    "...     def __init__(self):\n",
    "...         pass"
   ]
  },
  {
   "cell_type": "markdown",
   "metadata": {},
   "source": [
    "## Properties\n",
    "\n",
    "Properties are attributes with getter and setter methods."
   ]
  },
  {
   "cell_type": "code",
   "execution_count": 350,
   "metadata": {},
   "outputs": [],
   "source": [
    ">>> class SpamWithProperties(object):\n",
    "...     def __init__(self):\n",
    "...         self.__egg = \"MyEgg\"\n",
    "...     def getEgg(self):\n",
    "...         return self.__egg\n",
    "...     def setEgg(self,egg):\n",
    "...         self.__egg = egg\n",
    "...     egg = property(getEgg,setEgg)"
   ]
  },
  {
   "cell_type": "code",
   "execution_count": 351,
   "metadata": {},
   "outputs": [
    {
     "data": {
      "text/plain": [
       "'MyEgg'"
      ]
     },
     "execution_count": 351,
     "metadata": {},
     "output_type": "execute_result"
    }
   ],
   "source": [
    " \n",
    ">>> sp = SpamWithProperties()\n",
    ">>> sp.egg"
   ]
  },
  {
   "cell_type": "code",
   "execution_count": 352,
   "metadata": {},
   "outputs": [
    {
     "data": {
      "text/plain": [
       "'Eggs With Spam'"
      ]
     },
     "execution_count": 352,
     "metadata": {},
     "output_type": "execute_result"
    }
   ],
   "source": [
    ">>> sp.egg = \"Eggs With Spam\"\n",
    ">>> sp.egg"
   ]
  },
  {
   "cell_type": "markdown",
   "metadata": {},
   "source": [
    "## Static Methods\n",
    "Static methods in Python are just like their counterparts in C++ or Java. Static methods have no `self` argument and don't require you to instantiate the class before using them. They can be defined using `staticmethod()`"
   ]
  },
  {
   "cell_type": "code",
   "execution_count": 353,
   "metadata": {},
   "outputs": [],
   "source": [
    ">>> class StaticSpam(object):\n",
    "...     def StaticNoSpam():\n",
    "...         print (\"You can't have have the spam, spam, eggs and spam without any spam... that's disgusting\")\n",
    "...     NoSpam = staticmethod(StaticNoSpam)\n",
    " "
   ]
  },
  {
   "cell_type": "code",
   "execution_count": 354,
   "metadata": {},
   "outputs": [
    {
     "name": "stdout",
     "output_type": "stream",
     "text": [
      "You can't have have the spam, spam, eggs and spam without any spam... that's disgusting\n"
     ]
    }
   ],
   "source": [
    ">>> StaticSpam.NoSpam()"
   ]
  },
  {
   "cell_type": "markdown",
   "metadata": {},
   "source": [
    "They can also be defined using the function decorator @staticmethod."
   ]
  },
  {
   "cell_type": "code",
   "execution_count": 355,
   "metadata": {},
   "outputs": [],
   "source": [
    ">>> class StaticSpam(object):\n",
    "...     @staticmethod\n",
    "...     def StaticNoSpam():\n",
    "...         print(\"You can't have have the spam, spam, eggs and spam without any spam... that's disgusting\")"
   ]
  },
  {
   "cell_type": "markdown",
   "metadata": {},
   "source": [
    "Similarly we have class methods, which have their class implicitly passed to them when called.  Class methods can also be defined using the function decorator `@classmethod`."
   ]
  },
  {
   "cell_type": "code",
   "execution_count": 357,
   "metadata": {},
   "outputs": [],
   "source": [
    ">>> class StaticSpam(object):\n",
    "...     @classmethod\n",
    "...     def ClassNoSpam(cls):\n",
    "...         print(\"No spam in %s class either\" % cls)"
   ]
  },
  {
   "cell_type": "markdown",
   "metadata": {},
   "source": [
    "## Inheritance\n",
    "Like all object oriented languages, Python provides for inheritance. Inheritance is a simple concept by which a class can extend the facilities of another class, or in Python's case, multiple other classes. Use the following format for this:\n",
    "```python\n",
    "class ClassName(superclass1,superclass2,superclass3,...):\n",
    "    ...\n",
    "```\n",
    "\n",
    "The subclass will then have all the members of its superclasses. If a method is defined in the subclass and in the superclass, the member in the subclass will override the one in the superclass. In order to use the method defined in the superclass, it is necessary to call the method as an attribute on the defining class, as in `Foo.setx(f,5)` above:"
   ]
  },
  {
   "cell_type": "code",
   "execution_count": 358,
   "metadata": {},
   "outputs": [
    {
     "name": "stdout",
     "output_type": "stream",
     "text": [
      "I'm doing Bar.bar()\n",
      "I'm doing Foo.bar()\n"
     ]
    }
   ],
   "source": [
    ">>> class Foo:\n",
    "...     def bar(self):\n",
    "...         print(\"I'm doing Foo.bar()\")\n",
    "...     x = 10\n",
    "...\n",
    ">>> class Bar(Foo):\n",
    "...     def bar(self):\n",
    "...         print(\"I'm doing Bar.bar()\")\n",
    "...         Foo.bar(self)\n",
    "...     y = 9\n",
    "...\n",
    ">>> g = Bar()\n",
    ">>> Bar.bar(g)"
   ]
  },
  {
   "cell_type": "code",
   "execution_count": 359,
   "metadata": {},
   "outputs": [
    {
     "data": {
      "text/plain": [
       "9"
      ]
     },
     "execution_count": 359,
     "metadata": {},
     "output_type": "execute_result"
    }
   ],
   "source": [
    ">>> g.y"
   ]
  },
  {
   "cell_type": "code",
   "execution_count": 360,
   "metadata": {},
   "outputs": [
    {
     "data": {
      "text/plain": [
       "10"
      ]
     },
     "execution_count": 360,
     "metadata": {},
     "output_type": "execute_result"
    }
   ],
   "source": [
    ">>> g.x"
   ]
  },
  {
   "cell_type": "markdown",
   "metadata": {},
   "source": [
    "Once again, we can see what's going on under the hood by looking at the class dictionaries."
   ]
  },
  {
   "cell_type": "code",
   "execution_count": 361,
   "metadata": {},
   "outputs": [
    {
     "data": {
      "text/plain": [
       "{}"
      ]
     },
     "execution_count": 361,
     "metadata": {},
     "output_type": "execute_result"
    }
   ],
   "source": [
    ">>> vars(g)"
   ]
  },
  {
   "cell_type": "code",
   "execution_count": 362,
   "metadata": {},
   "outputs": [
    {
     "data": {
      "text/plain": [
       "mappingproxy({'__module__': '__main__',\n",
       "              'bar': <function __main__.Bar.bar(self)>,\n",
       "              'y': 9,\n",
       "              '__doc__': None})"
      ]
     },
     "execution_count": 362,
     "metadata": {},
     "output_type": "execute_result"
    }
   ],
   "source": [
    ">>> vars(Bar)"
   ]
  },
  {
   "cell_type": "code",
   "execution_count": 363,
   "metadata": {},
   "outputs": [
    {
     "data": {
      "text/plain": [
       "mappingproxy({'__module__': '__main__',\n",
       "              'bar': <function __main__.Foo.bar(self)>,\n",
       "              'x': 10,\n",
       "              '__dict__': <attribute '__dict__' of 'Foo' objects>,\n",
       "              '__weakref__': <attribute '__weakref__' of 'Foo' objects>,\n",
       "              '__doc__': None})"
      ]
     },
     "execution_count": 363,
     "metadata": {},
     "output_type": "execute_result"
    }
   ],
   "source": [
    ">>> vars(Foo)"
   ]
  },
  {
   "cell_type": "markdown",
   "metadata": {},
   "source": [
    "When we call `g.x`, it first looks in the `vars(g)` dictionary, as usual. Also as above, it checks `vars(Bar)` next, since `g` is an instance of `Bar`. However, thanks to inheritance, Python will check `vars(Foo)` if it doesn't find `x` in `vars(Bar)`."
   ]
  },
  {
   "cell_type": "markdown",
   "metadata": {},
   "source": [
    "## Special Methods\n",
    "There are a number of methods which have reserved names which are used for special purposes like mimicking numerical or container operations, among other things. All of these names begin and end with two underscores. It is convention that methods beginning with a single underscore are 'private' to the scope they are introduced within.\n",
    "\n",
    "### Initialization\n",
    "`__init__`\n",
    "\n",
    "One of these purposes is constructing an instance, and the special name for this is `__init__`. `__init__()` is called before an instance is returned (it is not necessary to return the instance manually). \n",
    "\n",
    "As an example,"
   ]
  },
  {
   "cell_type": "code",
   "execution_count": 364,
   "metadata": {},
   "outputs": [
    {
     "name": "stdout",
     "output_type": "stream",
     "text": [
      "A.__init__()\n"
     ]
    }
   ],
   "source": [
    "class A:\n",
    "    def __init__(self):\n",
    "        print('A.__init__()')\n",
    "a = A()"
   ]
  },
  {
   "cell_type": "code",
   "execution_count": 365,
   "metadata": {},
   "outputs": [
    {
     "name": "stdout",
     "output_type": "stream",
     "text": [
      "A.__init__()\n"
     ]
    }
   ],
   "source": [
    "A.__init__(a)"
   ]
  },
  {
   "cell_type": "markdown",
   "metadata": {},
   "source": [
    "`__init__()` can take arguments, in which case it is necessary to pass arguments to the class in order to create an instance. For example,"
   ]
  },
  {
   "cell_type": "code",
   "execution_count": 366,
   "metadata": {},
   "outputs": [
    {
     "name": "stdout",
     "output_type": "stream",
     "text": [
      "Hi!\n"
     ]
    }
   ],
   "source": [
    "class Foo:\n",
    "    def __init__ (self, printme):\n",
    "        print(printme)\n",
    "foo = Foo('Hi!')"
   ]
  },
  {
   "cell_type": "markdown",
   "metadata": {},
   "source": [
    "Here is an example showing the difference between using `__init__()` and not using `__init__()`:"
   ]
  },
  {
   "cell_type": "code",
   "execution_count": 367,
   "metadata": {},
   "outputs": [
    {
     "name": "stdout",
     "output_type": "stream",
     "text": [
      "Hi!\n",
      "Hi!\n"
     ]
    }
   ],
   "source": [
    "class Foo:\n",
    "    def __init__ (self, x):\n",
    "         print(x)\n",
    "foo = Foo('Hi!')\n",
    "\n",
    "class Foo2:\n",
    "    def setx(self, x):\n",
    "        print(x)\n",
    "f = Foo2()\n",
    "Foo2.setx(f,'Hi!')"
   ]
  },
  {
   "cell_type": "markdown",
   "metadata": {},
   "source": [
    "## Representation\n",
    "\n",
    "`__str__`\n",
    "\n",
    "Converting an object to a string, as with the print statement or with the str() conversion function, can be overridden by overriding `__str__`. Usually, `__str__` returns a formatted version of the objects content. This will NOT usually be something that can be executed.\n",
    "\n",
    "For example:"
   ]
  },
  {
   "cell_type": "code",
   "execution_count": 368,
   "metadata": {},
   "outputs": [
    {
     "name": "stdout",
     "output_type": "stream",
     "text": [
      "apple\n"
     ]
    }
   ],
   "source": [
    "class Bar:\n",
    "    def __init__ (self, iamthis):\n",
    "        self.iamthis = iamthis\n",
    "    def __str__ (self):\n",
    "        return self.iamthis\n",
    "bar = Bar('apple')\n",
    "print(bar)"
   ]
  },
  {
   "cell_type": "markdown",
   "metadata": {},
   "source": [
    "`__repr__`\n",
    "\n",
    "This function is much like `__str__()`. If `__str__` is not present but this one is, this function's output is used instead for printing. `__repr__` is used to return a representation of the object in string form. In general, it can be executed to get back the original object.\n",
    "For example:"
   ]
  },
  {
   "cell_type": "code",
   "execution_count": 369,
   "metadata": {},
   "outputs": [
    {
     "data": {
      "text/plain": [
       "Bar('apple')"
      ]
     },
     "execution_count": 369,
     "metadata": {},
     "output_type": "execute_result"
    }
   ],
   "source": [
    "class Bar:\n",
    "    def __init__ (self, iamthis):\n",
    "        self.iamthis = iamthis\n",
    "    def __repr__(self):\n",
    "        return \"Bar('%s')\" % self.iamthis\n",
    "bar = Bar('apple')\n",
    "bar"
   ]
  },
  {
   "cell_type": "markdown",
   "metadata": {},
   "source": [
    "(note the difference: now is not necessary to put it inside a print)\n",
    "\n",
    "## Attributes\n",
    "`__setattr__`\n",
    "\n",
    "This is the function which is in charge of setting attributes of a class. It is provided with the name and value of the variables being assigned. Each class, of course, comes with a default `__setattr__` which simply sets the value of the variable, but we can override it."
   ]
  },
  {
   "cell_type": "code",
   "execution_count": 370,
   "metadata": {},
   "outputs": [
    {
     "name": "stdout",
     "output_type": "stream",
     "text": [
      "Nice try\n"
     ]
    }
   ],
   "source": [
    ">>> class Unchangable:\n",
    "...    def __setattr__(self, name, value):\n",
    "...        print(\"Nice try\")\n",
    "...\n",
    ">>> u = Unchangable()\n",
    ">>> u.x = 9"
   ]
  },
  {
   "cell_type": "code",
   "execution_count": 371,
   "metadata": {},
   "outputs": [
    {
     "ename": "AttributeError",
     "evalue": "'Unchangable' object has no attribute 'x'",
     "output_type": "error",
     "traceback": [
      "\u001b[1;31m---------------------------------------------------------------------------\u001b[0m",
      "\u001b[1;31mAttributeError\u001b[0m                            Traceback (most recent call last)",
      "\u001b[1;32m<ipython-input-371-1996226eebb4>\u001b[0m in \u001b[0;36m<module>\u001b[1;34m\u001b[0m\n\u001b[1;32m----> 1\u001b[1;33m \u001b[0mu\u001b[0m\u001b[1;33m.\u001b[0m\u001b[0mx\u001b[0m\u001b[1;33m\u001b[0m\u001b[1;33m\u001b[0m\u001b[0m\n\u001b[0m",
      "\u001b[1;31mAttributeError\u001b[0m: 'Unchangable' object has no attribute 'x'"
     ]
    }
   ],
   "source": [
    ">>> u.x"
   ]
  },
  {
   "cell_type": "markdown",
   "metadata": {},
   "source": [
    "`__getattribute__`\n",
    "\n",
    "This method intercepts any attempt ro access a class member.\n",
    "\n",
    "`__getattr___`\n",
    "\n",
    "Similar to `__getattribute__`, except this function is called when we try to access a non-existant class member, and the default simply returns the value."
   ]
  },
  {
   "cell_type": "code",
   "execution_count": 372,
   "metadata": {},
   "outputs": [
    {
     "data": {
      "text/plain": [
       "\"You don't get to see anything\""
      ]
     },
     "execution_count": 372,
     "metadata": {},
     "output_type": "execute_result"
    }
   ],
   "source": [
    ">>> class HiddenMembers:\n",
    "...     def __getattr__(self, name):\n",
    "...         return \"You don't get to see \" + name\n",
    "...\n",
    ">>> h = HiddenMembers()\n",
    ">>> h.anything"
   ]
  },
  {
   "cell_type": "markdown",
   "metadata": {},
   "source": [
    "`__delattr__`\n",
    "\n",
    "This function is called to delete an attribute."
   ]
  },
  {
   "cell_type": "code",
   "execution_count": 373,
   "metadata": {},
   "outputs": [
    {
     "name": "stdout",
     "output_type": "stream",
     "text": [
      "x cannot be deleted\n"
     ]
    }
   ],
   "source": [
    ">>> class Permanent:\n",
    "...     def __delattr__(self, name):\n",
    "...         print (name, \"cannot be deleted\")\n",
    "...\n",
    ">>> p = Permanent()\n",
    ">>> p.x = 9\n",
    ">>> del p.x"
   ]
  },
  {
   "cell_type": "code",
   "execution_count": 374,
   "metadata": {},
   "outputs": [
    {
     "data": {
      "text/plain": [
       "9"
      ]
     },
     "execution_count": 374,
     "metadata": {},
     "output_type": "execute_result"
    }
   ],
   "source": [
    ">>> p.x"
   ]
  },
  {
   "cell_type": "markdown",
   "metadata": {},
   "source": [
    "## Programming Practices\n",
    "The flexibility of python classes means that classes can adopt a varied set of behaviors. For the sake of understandability, however, it's best to use many of Python's tools sparingly. Try to declare all methods in the class definition, and always use the `<class>.<member>` syntax instead of `__dict__` whenever possible. Look at classes in C++ and Java to see what most programmers will expect from a class."
   ]
  },
  {
   "cell_type": "markdown",
   "metadata": {},
   "source": [
    "## Encapsulation\n",
    "Since all python members of a python class are accessible by functions/methods outside the class, there is no way to enforce encapsulation short of overriding `__getattr__`, `__setattr__` and `__delattr__`. General practice, however, is for the creator of a class or module to simply trust that users will use only the intended interface and avoid limiting access to the workings of the module for the sake of users who do need to access it. When using parts of a class or module other than the intended interface, keep in mind that the those parts may change in later versions of the module, and you may even cause errors or undefined behaviors in the module."
   ]
  },
  {
   "cell_type": "markdown",
   "metadata": {},
   "source": [
    "## Doc Strings\n",
    "When defining a class, it is convention to document the class using a string literal at the start of the class definition. This string will then be placed in the `__doc__` attribute of the class definition."
   ]
  },
  {
   "cell_type": "code",
   "execution_count": 375,
   "metadata": {},
   "outputs": [
    {
     "data": {
      "text/plain": [
       "'This is a docstring'"
      ]
     },
     "execution_count": 375,
     "metadata": {},
     "output_type": "execute_result"
    }
   ],
   "source": [
    ">>> class Documented:\n",
    "...     \"\"\"This is a docstring\"\"\"\n",
    "...     def explode(self):\n",
    "...         \"\"\"\n",
    "...         This method is documented, too! The coder is really serious about\n",
    "...         making this class usable by others who don't know the code as well\n",
    "...         as he does.\n",
    "...\n",
    "...         \"\"\"\n",
    "...         print(\"boom\")\n",
    ">>> d = Documented()\n",
    ">>> d.__doc__"
   ]
  },
  {
   "cell_type": "markdown",
   "metadata": {},
   "source": [
    "Docstrings are a very useful way to document your code. Even if you never write a single piece of separate documentation (and let's admit it, doing so is the lowest priority for many coders), including informative docstrings in your classes will go a long way toward making them usable.\n",
    "Several tools exist for turning the docstrings in Python code into readable API documentation, e.g., EpyDoc.\n",
    "Don't just stop at documenting the class definition, either. Each method in the class should have its own docstring as well. Note that the docstring for the method explode in the example class Documented above has a fairly lengthy docstring that spans several lines. Its formatting is in accordance with the style suggestions of Python's creator, Guido van Rossum."
   ]
  },
  {
   "cell_type": "markdown",
   "metadata": {},
   "source": [
    "# Exceptions\n",
    "\n",
    "Python handles all errors with exceptions.\n",
    "An exception is a signal that an error or other unusual condition has occurred. There are a number of built-in exceptions, which indicate conditions like reading past the end of a file, or dividing by zero. You can also define your own exceptions.\n",
    "\n",
    "Whenever your program attempts to do something erroneous or meaningless, Python raises exception to such conduct:"
   ]
  },
  {
   "cell_type": "code",
   "execution_count": 376,
   "metadata": {},
   "outputs": [
    {
     "ename": "ZeroDivisionError",
     "evalue": "division by zero",
     "output_type": "error",
     "traceback": [
      "\u001b[1;31m---------------------------------------------------------------------------\u001b[0m",
      "\u001b[1;31mZeroDivisionError\u001b[0m                         Traceback (most recent call last)",
      "\u001b[1;32m<ipython-input-376-bc757c3fda29>\u001b[0m in \u001b[0;36m<module>\u001b[1;34m\u001b[0m\n\u001b[1;32m----> 1\u001b[1;33m \u001b[1;36m1\u001b[0m \u001b[1;33m/\u001b[0m \u001b[1;36m0\u001b[0m\u001b[1;33m\u001b[0m\u001b[1;33m\u001b[0m\u001b[0m\n\u001b[0m",
      "\u001b[1;31mZeroDivisionError\u001b[0m: division by zero"
     ]
    }
   ],
   "source": [
    " >>> 1 / 0"
   ]
  },
  {
   "cell_type": "markdown",
   "metadata": {},
   "source": [
    "This traceback indicates that the `ZeroDivisionError` exception is being raised. This is a `built-in` exception \n",
    "\n",
    "-- see below for a list of all the other ones."
   ]
  },
  {
   "cell_type": "markdown",
   "metadata": {},
   "source": [
    "## Catching exceptions\n",
    "In order to handle errors, you can set up exception handling blocks in your code. The keywords try and except are used to catch exceptions. When an error occurs within the try block, Python looks for a matching except block to handle it. If there is one, execution jumps there.\n",
    "If you execute this code:"
   ]
  },
  {
   "cell_type": "code",
   "execution_count": 202,
   "metadata": {},
   "outputs": [
    {
     "name": "stdout",
     "output_type": "stream",
     "text": [
      "You can't divide by zero, you silly.\n"
     ]
    }
   ],
   "source": [
    "try:\n",
    "    print(1/0)\n",
    "except ZeroDivisionError:\n",
    "     print(\"You can't divide by zero, you silly.\")"
   ]
  },
  {
   "cell_type": "markdown",
   "metadata": {},
   "source": [
    "If you don't specify an exception type on the except line, it will cheerfully catch all exceptions. This is generally a bad idea in production code, since it means your program will blissfully ignore unexpected errors as well as ones which the except block is actually prepared to handle.\n",
    "\n",
    "Exceptions can propagate up the call stack:"
   ]
  },
  {
   "cell_type": "code",
   "execution_count": 203,
   "metadata": {},
   "outputs": [
    {
     "name": "stdout",
     "output_type": "stream",
     "text": [
      "That value was invalid.\n"
     ]
    }
   ],
   "source": [
    "def f(x):\n",
    "     return g(x) + 1\n",
    "    \n",
    "def g(x):\n",
    "    if x < 0: raise ValueError(\"I can't cope with a negative number here.\")\n",
    "    else: return 5\n",
    "\n",
    "try:\n",
    "    print(f(-6))\n",
    "except ValueError:\n",
    "    print(\"That value was invalid.\")"
   ]
  },
  {
   "cell_type": "markdown",
   "metadata": {},
   "source": [
    "In this code, the print statement calls the function `f`. That function calls the function `g`, which will raise an exception of type `ValueError`. Neither `f` nor g has a try/except block to handle ValueError. So the exception raised propagates out to the main code, where there is an exception-handling block waiting for it. This code prints:\n",
    "That value was invalid.\n",
    "\n",
    "Sometimes it is useful to find out exactly what went wrong, or to print the python error text yourself. For example:\n",
    " "
   ]
  },
  {
   "cell_type": "code",
   "execution_count": 204,
   "metadata": {},
   "outputs": [],
   "source": [
    "filename = 'data.csv'\n",
    "try:\n",
    "    the_file = open(filename)\n",
    "except FileNotFoundError as e:\n",
    "    print(e)\n",
    "except IOError as e:\n",
    "    if e.ErrorNumber == 2: # file not found\n",
    "        print(\"Sorry, %s has apparently joined the choir invisible.\" % filename)\n",
    "    else:\n",
    "        print(\"Congratulation! you have managed to trip a #%d error\" % e.ErrorNumber)  \n",
    "        # String concatenation is slow, use % formatting whenever possible"
   ]
  },
  {
   "cell_type": "markdown",
   "metadata": {},
   "source": [
    " ## Custom Exceptions\n",
    "Code similar to that seen above can be used to create custom exceptions and pass information along with them. This can be extremely useful when trying to debug complicated projects. Here is how that code would look; first creating the custom exception class:"
   ]
  },
  {
   "cell_type": "code",
   "execution_count": 205,
   "metadata": {},
   "outputs": [],
   "source": [
    "   class CustomException(Exception):\n",
    "        pass\n",
    "      "
   ]
  },
  {
   "cell_type": "markdown",
   "metadata": {},
   "source": [
    "And then using that exception:"
   ]
  },
  {
   "cell_type": "code",
   "execution_count": 206,
   "metadata": {},
   "outputs": [
    {
     "ename": "NameError",
     "evalue": "name 'instance' is not defined",
     "output_type": "error",
     "traceback": [
      "\u001b[1;31m---------------------------------------------------------------------------\u001b[0m",
      "\u001b[1;31mCustomException\u001b[0m                           Traceback (most recent call last)",
      "\u001b[1;32m<ipython-input-206-f209e0073c4a>\u001b[0m in \u001b[0;36m<module>\u001b[1;34m\u001b[0m\n\u001b[0;32m      1\u001b[0m \u001b[1;32mtry\u001b[0m\u001b[1;33m:\u001b[0m\u001b[1;33m\u001b[0m\u001b[1;33m\u001b[0m\u001b[0m\n\u001b[1;32m----> 2\u001b[1;33m     \u001b[1;32mraise\u001b[0m \u001b[0mCustomException\u001b[0m\u001b[1;33m(\u001b[0m\u001b[1;34m\"My Useful Error Message\"\u001b[0m\u001b[1;33m)\u001b[0m\u001b[1;33m\u001b[0m\u001b[1;33m\u001b[0m\u001b[0m\n\u001b[0m\u001b[0;32m      3\u001b[0m \u001b[1;32mexcept\u001b[0m \u001b[1;33m(\u001b[0m\u001b[0mCustomException\u001b[0m\u001b[1;33m,\u001b[0m \u001b[0minstance\u001b[0m\u001b[1;33m)\u001b[0m\u001b[1;33m:\u001b[0m\u001b[1;33m\u001b[0m\u001b[1;33m\u001b[0m\u001b[0m\n",
      "\u001b[1;31mCustomException\u001b[0m: My Useful Error Message",
      "\nDuring handling of the above exception, another exception occurred:\n",
      "\u001b[1;31mNameError\u001b[0m                                 Traceback (most recent call last)",
      "\u001b[1;32m<ipython-input-206-f209e0073c4a>\u001b[0m in \u001b[0;36m<module>\u001b[1;34m\u001b[0m\n\u001b[0;32m      1\u001b[0m \u001b[1;32mtry\u001b[0m\u001b[1;33m:\u001b[0m\u001b[1;33m\u001b[0m\u001b[1;33m\u001b[0m\u001b[0m\n\u001b[0;32m      2\u001b[0m     \u001b[1;32mraise\u001b[0m \u001b[0mCustomException\u001b[0m\u001b[1;33m(\u001b[0m\u001b[1;34m\"My Useful Error Message\"\u001b[0m\u001b[1;33m)\u001b[0m\u001b[1;33m\u001b[0m\u001b[1;33m\u001b[0m\u001b[0m\n\u001b[1;32m----> 3\u001b[1;33m \u001b[1;32mexcept\u001b[0m \u001b[1;33m(\u001b[0m\u001b[0mCustomException\u001b[0m\u001b[1;33m,\u001b[0m \u001b[0minstance\u001b[0m\u001b[1;33m)\u001b[0m\u001b[1;33m:\u001b[0m\u001b[1;33m\u001b[0m\u001b[1;33m\u001b[0m\u001b[0m\n\u001b[0m\u001b[0;32m      4\u001b[0m     \u001b[0mprint\u001b[0m\u001b[1;33m(\u001b[0m\u001b[1;34m\"Caught: \"\u001b[0m \u001b[1;33m+\u001b[0m \u001b[0minstance\u001b[0m\u001b[1;33m.\u001b[0m\u001b[0mparameter\u001b[0m\u001b[1;33m)\u001b[0m\u001b[1;33m\u001b[0m\u001b[1;33m\u001b[0m\u001b[0m\n",
      "\u001b[1;31mNameError\u001b[0m: name 'instance' is not defined"
     ]
    }
   ],
   "source": [
    "try:\n",
    "    raise CustomException(\"My Useful Error Message\")\n",
    "except (CustomException, instance):\n",
    "    print(\"Caught: \" + instance.parameter)"
   ]
  },
  {
   "cell_type": "markdown",
   "metadata": {},
   "source": [
    "### Recovering and continuing with finally\n",
    "Exceptions could lead to a situation where, after raising an exception, the code block where the exception occurred might not be revisited. In some cases this might leave external resources used by the program in an unknown state.\n",
    "finally clause allows programmers to close such resources in case of an exception. Between 2.4 and 2.5 version of python there is change of syntax for finally clause.\n",
    "    • Python 2.4 "
   ]
  },
  {
   "cell_type": "code",
   "execution_count": 381,
   "metadata": {},
   "outputs": [
    {
     "name": "stdout",
     "output_type": "stream",
     "text": [
      "executing finally clause\n"
     ]
    },
    {
     "ename": "TypeError",
     "evalue": "unsupported operand type(s) for /: 'str' and 'str'",
     "output_type": "error",
     "traceback": [
      "\u001b[1;31m---------------------------------------------------------------------------\u001b[0m",
      "\u001b[1;31mTypeError\u001b[0m                                 Traceback (most recent call last)",
      "\u001b[1;32m<ipython-input-381-12c1b791735c>\u001b[0m in \u001b[0;36m<module>\u001b[1;34m\u001b[0m\n\u001b[0;32m      2\u001b[0m     \u001b[0mresult\u001b[0m \u001b[1;33m=\u001b[0m \u001b[1;32mNone\u001b[0m\u001b[1;33m\u001b[0m\u001b[1;33m\u001b[0m\u001b[0m\n\u001b[0;32m      3\u001b[0m     \u001b[1;32mtry\u001b[0m\u001b[1;33m:\u001b[0m\u001b[1;33m\u001b[0m\u001b[1;33m\u001b[0m\u001b[0m\n\u001b[1;32m----> 4\u001b[1;33m        \u001b[0mresult\u001b[0m \u001b[1;33m=\u001b[0m \u001b[0mx\u001b[0m\u001b[1;33m/\u001b[0m\u001b[0my\u001b[0m\u001b[1;33m\u001b[0m\u001b[1;33m\u001b[0m\u001b[0m\n\u001b[0m\u001b[0;32m      5\u001b[0m     \u001b[1;32mexcept\u001b[0m \u001b[0mZeroDivisionError\u001b[0m\u001b[1;33m:\u001b[0m\u001b[1;33m\u001b[0m\u001b[1;33m\u001b[0m\u001b[0m\n\u001b[0;32m      6\u001b[0m        \u001b[0mprint\u001b[0m\u001b[1;33m(\u001b[0m\u001b[1;34m\"division by zero!\"\u001b[0m\u001b[1;33m)\u001b[0m\u001b[1;33m\u001b[0m\u001b[1;33m\u001b[0m\u001b[0m\n",
      "\u001b[1;31mTypeError\u001b[0m: unsupported operand type(s) for /: 'str' and 'str'"
     ]
    }
   ],
   "source": [
    "try:\n",
    "    result = None\n",
    "    try:\n",
    "       result = x/y\n",
    "    except ZeroDivisionError:\n",
    "       print(\"division by zero!\")\n",
    "    print(\"result is \", result)\n",
    "finally:\n",
    "     print(\"executing finally clause\")"
   ]
  },
  {
   "cell_type": "markdown",
   "metadata": {},
   "source": [
    "    • Python 2.5 "
   ]
  },
  {
   "cell_type": "code",
   "execution_count": null,
   "metadata": {},
   "outputs": [],
   "source": [
    "try:\n",
    "     result = x / y\n",
    "except ZeroDivisionError:\n",
    "     print \"division by zero!\"\n",
    "else:\n",
    "     print \"result is\", result\n",
    "finally:\n",
    "     print \"executing finally clause\""
   ]
  },
  {
   "cell_type": "markdown",
   "metadata": {},
   "source": [
    "### Built-in exception classes\n",
    "```\n",
    "BaseException\n",
    " +-- SystemExit\n",
    " +-- KeyboardInterrupt\n",
    " +-- GeneratorExit\n",
    " +-- Exception\n",
    "      +-- StopIteration\n",
    "      +-- StopAsyncIteration\n",
    "      +-- ArithmeticError\n",
    "      |    +-- FloatingPointError\n",
    "      |    +-- OverflowError\n",
    "      |    +-- ZeroDivisionError\n",
    "      +-- AssertionError\n",
    "      +-- AttributeError\n",
    "      +-- BufferError\n",
    "      +-- EOFError\n",
    "      +-- ImportError\n",
    "      |    +-- ModuleNotFoundError\n",
    "      +-- LookupError\n",
    "      |    +-- IndexError\n",
    "      |    +-- KeyError\n",
    "      +-- MemoryError\n",
    "      +-- NameError\n",
    "      |    +-- UnboundLocalError\n",
    "      +-- OSError\n",
    "      |    +-- BlockingIOError\n",
    "      |    +-- ChildProcessError\n",
    "      |    +-- ConnectionError\n",
    "      |    |    +-- BrokenPipeError\n",
    "      |    |    +-- ConnectionAbortedError\n",
    "      |    |    +-- ConnectionRefusedError\n",
    "      |    |    +-- ConnectionResetError\n",
    "      |    +-- FileExistsError\n",
    "      |    +-- FileNotFoundError\n",
    "      |    +-- InterruptedError\n",
    "      |    +-- IsADirectoryError\n",
    "      |    +-- NotADirectoryError\n",
    "      |    +-- PermissionError\n",
    "      |    +-- ProcessLookupError\n",
    "      |    +-- TimeoutError\n",
    "      +-- ReferenceError\n",
    "      +-- RuntimeError\n",
    "      |    +-- NotImplementedError\n",
    "      |    +-- RecursionError\n",
    "      +-- SyntaxError\n",
    "      |    +-- IndentationError\n",
    "      |         +-- TabError\n",
    "      +-- SystemError\n",
    "      +-- TypeError\n",
    "      +-- ValueError\n",
    "      |    +-- UnicodeError\n",
    "      |         +-- UnicodeDecodeError\n",
    "      |         +-- UnicodeEncodeError\n",
    "      |         +-- UnicodeTranslateError\n",
    "      +-- Warning\n",
    "           +-- DeprecationWarning\n",
    "           +-- PendingDeprecationWarning\n",
    "           +-- RuntimeWarning\n",
    "           +-- SyntaxWarning\n",
    "           +-- UserWarning\n",
    "           +-- FutureWarning\n",
    "           +-- ImportWarning\n",
    "           +-- UnicodeWarning\n",
    "           +-- BytesWarning\n",
    "           +-- ResourceWarning\n",
    "```           "
   ]
  },
  {
   "cell_type": "markdown",
   "metadata": {},
   "source": [
    "# Input and output\n",
    "## Input\n",
    "Python2 has two functions designed for accepting data directly from the user:\n",
    " - `input()` \n",
    " - `raw_input()` \n",
    "\n",
    "In Python 3 `raw_input` has been renamed `input` and the original input function has been deprecated.  \n",
    "There are also very simple ways of reading a file, and for stricter control over input, reading from stdin is necessary.\n",
    "\n",
    "`raw_input()` -> `input()` Python3\n",
    "`input()` asks the user for a string of data (ended with a newline), and simply returns the string. It can also take an \n",
    "\n",
    "argument, which is displayed as a prompt before the user enters the data. E.g."
   ]
  },
  {
   "cell_type": "code",
   "execution_count": null,
   "metadata": {},
   "outputs": [],
   "source": [
    "print(input('What is your name?'))"
   ]
  },
  {
   "cell_type": "markdown",
   "metadata": {},
   "source": [
    "Strings returned from `input()` can be converted to python types using an idiom such as:"
   ]
  },
  {
   "cell_type": "code",
   "execution_count": null,
   "metadata": {},
   "outputs": [],
   "source": [
    "x = None\n",
    "while not x:\n",
    "    try:\n",
    "        x = int(input('Enter a number:' ))\n",
    "    except ValueError:\n",
    "        print('Invalid Number')"
   ]
  },
  {
   "cell_type": "markdown",
   "metadata": {},
   "source": [
    "# File Input\n",
    "\n",
    "## os Module\n",
    "\n",
    "Before we work with files it will be usefult to intriduce the `os` module.  This module contains functions that call Operating System (OS) routines - *system calls*.  Any direct harfware interaction has to be done via the OS, this includes file operations."
   ]
  },
  {
   "cell_type": "code",
   "execution_count": null,
   "metadata": {},
   "outputs": [],
   "source": [
    "import os\n",
    "print(os.__doc__[:800]) #first 800 lines of the docstring - same as what you see in help(os)"
   ]
  },
  {
   "cell_type": "markdown",
   "metadata": {},
   "source": [
    "### using os.access"
   ]
  },
  {
   "cell_type": "code",
   "execution_count": null,
   "metadata": {},
   "outputs": [],
   "source": [
    "os.access('.', os.R_OK) #test if we can read the current dir"
   ]
  },
  {
   "cell_type": "code",
   "execution_count": null,
   "metadata": {},
   "outputs": [],
   "source": [
    "os.path.abspath('.')"
   ]
  },
  {
   "cell_type": "code",
   "execution_count": null,
   "metadata": {},
   "outputs": [],
   "source": [
    "os.chdir('OneDrive/Documents/course/python/')"
   ]
  },
  {
   "cell_type": "code",
   "execution_count": null,
   "metadata": {},
   "outputs": [],
   "source": [
    "os.access('test.log', os.W_OK) #test if we can write test.log file"
   ]
  },
  {
   "cell_type": "code",
   "execution_count": null,
   "metadata": {},
   "outputs": [],
   "source": [
    "os.access('/', os.R_OK) #test if we can read the ROOT dir"
   ]
  },
  {
   "cell_type": "code",
   "execution_count": null,
   "metadata": {},
   "outputs": [],
   "source": [
    "os.access('/', os.W_OK) #test if we can read the ROOT dir i.e. C:\\ in windows"
   ]
  },
  {
   "cell_type": "markdown",
   "metadata": {},
   "source": [
    "### Using os.path"
   ]
  },
  {
   "cell_type": "code",
   "execution_count": null,
   "metadata": {},
   "outputs": [],
   "source": [
    "os.path.exists('OneDrive/Documents/course/python/test.log') #does this path exist"
   ]
  },
  {
   "cell_type": "code",
   "execution_count": null,
   "metadata": {},
   "outputs": [],
   "source": [
    "os.path.isfile('OneDrive/Documents/course/python/test.log')  # is this a plain file i.e. not a dir, link etc."
   ]
  },
  {
   "cell_type": "code",
   "execution_count": null,
   "metadata": {},
   "outputs": [],
   "source": [
    "os.path.isdir('OneDrive')  # is OneDrive a directory"
   ]
  },
  {
   "cell_type": "markdown",
   "metadata": {},
   "source": [
    "### os.listdir"
   ]
  },
  {
   "cell_type": "code",
   "execution_count": null,
   "metadata": {},
   "outputs": [],
   "source": [
    "os.listdir('.')  # list the current directory"
   ]
  },
  {
   "cell_type": "markdown",
   "metadata": {},
   "source": [
    "## File Objects\n",
    "Python includes a built-in file type. Files can be opened by using open function:\n",
    "```python\n",
    "f = open('test.txt', 'r')\n",
    "```\n",
    "This means `f` is open for reading. The first argument is the filename and the second parameter is the mode, which can be 'r', 'w', or 'rw', among some others.\n",
    "\n",
    "There are a number of ways to read the contents of the file:\n",
    "  - The most common way to read from a file is simply to iterate over the lines of the file object:\n",
    "  - The `read([bytes])` method of the file object takes an optional argument `bytes`.  Read at most `bytes` characters from stream.  Read from underlying buffer until we have `bytes` characters or we hit the end of the file (EOF). If `bytes` is negative or omitted, read until EOF. Retunrs a string.\n",
    "  - The `readline([bytes])` method, Read until newline or EOF.Returns a string.\n",
    "  - The `readlines([bytes])` method, Read until EOF.Returns a list of strings each string containing one line.\n",
    "  \n",
    "  The file methods all read from the file pointer which tracks how much of the file has been read thus far.  The method `seek([position])` can be used to control the file pointer.  `f.seek(0)` will reset the pointer to the beginning of the file."
   ]
  },
  {
   "cell_type": "code",
   "execution_count": null,
   "metadata": {},
   "outputs": [],
   "source": [
    "filename = 'OneDrive/Documents/course/python/data.csv'\n",
    "f = open(filename, 'r')\n",
    "for line in f:\n",
    "    print(line, end='')\n",
    "f.close()"
   ]
  },
  {
   "cell_type": "markdown",
   "metadata": {},
   "source": [
    "This will print each line of the file. Note that a newline is attached to the end of each line read this way, and hence the newline is suppressed in the `print` function.\n",
    "\n",
    "Because files are automatically closed when the file object goes out of scope, there is no real need to close them explicitly. So, the loop in the previous code can also be written as:"
   ]
  },
  {
   "cell_type": "code",
   "execution_count": null,
   "metadata": {},
   "outputs": [],
   "source": [
    "for line in open(filename, 'r'):\n",
    "    print(line[0], end=',')"
   ]
  },
  {
   "cell_type": "markdown",
   "metadata": {},
   "source": [
    "It is also possible to read limited numbers of characters at a time, like so:"
   ]
  },
  {
   "cell_type": "code",
   "execution_count": null,
   "metadata": {},
   "outputs": [],
   "source": [
    "f = open(filename)\n",
    "c = f.read(1)\n",
    "while len(c) > 0:\n",
    "    if len(c.strip()) > 0: print(c, end=', '),\n",
    "    c = f.read(1)"
   ]
  },
  {
   "cell_type": "markdown",
   "metadata": {},
   "source": [
    "This will read the characters from f one at a time, and then print them if they're not whitespace.\n",
    "A file object implicitly contains a marker to represent the current position. If the file marker should be moved back to the beginning, one can either close the file object and reopen it or just move the marker back to the beginning with:\n",
    "`f.seek(0)`"
   ]
  },
  {
   "cell_type": "markdown",
   "metadata": {},
   "source": [
    "## With\n",
    "Using the `with` statement on file objects ensures that the file object will be closed under all circumstances.\n",
    "```python\n",
    "with open(filename) as f:\n",
    "    do_stuff_file()\n",
    "```\n",
    "Is the equivalent to:\n",
    "```python\n",
    "try:\n",
    "    f = open(filename)\n",
    "    do_stuff_file()\n",
    "finally:\n",
    "    f.close()\n",
    "```    "
   ]
  },
  {
   "cell_type": "markdown",
   "metadata": {},
   "source": [
    "## Standard File Objects\n",
    "Like many other languages, there are built-in file objects representing standard input, output, and error. These are in the sys module and are called `stdin`, `stdout`, and `stderr`. There are also immutable copies of these in `__stdin__`, `__stdout__`, and `__stderr__`. This is for IDLE and other tools in which the standard files have been changed.\n",
    "\n",
    "You must import the sys module to use the special stdin, stdout, stderr I/O handles.\n",
    "```python\n",
    "import sys\n",
    "```\n",
    "For finer control over input, use sys.stdin.read(). In order to implement the UNIX 'cat' program in Python, you could do something like this:"
   ]
  },
  {
   "cell_type": "code",
   "execution_count": 207,
   "metadata": {},
   "outputs": [],
   "source": [
    "import sys\n",
    "for line in sys.stdin:\n",
    "    print(line, end='')"
   ]
  },
  {
   "cell_type": "markdown",
   "metadata": {},
   "source": [
    "Also important is the `sys.argv` list. `sys.argv` is a list that contains the command-line arguments passed to the program.\n",
    "python program.py hello there programmer!\n",
    "\n",
    "This list can be indexed, and the arguments evaluated. In the above example, `sys.argv[2]` would contain the string \"there\", because the name of the program (\"program.py\") is stored in `argv[0]`. For more complicated command-line argument processing, see also( getopt module)"
   ]
  },
  {
   "cell_type": "markdown",
   "metadata": {},
   "source": [
    "## Output\n",
    "The basic way to do output is the `print` statement."
   ]
  },
  {
   "cell_type": "code",
   "execution_count": 382,
   "metadata": {},
   "outputs": [
    {
     "name": "stdout",
     "output_type": "stream",
     "text": [
      "Hello, world\n"
     ]
    }
   ],
   "source": [
    "# print 'Hello, world' py2\n",
    "\n",
    "print('Hello, world')"
   ]
  },
  {
   "cell_type": "markdown",
   "metadata": {},
   "source": [
    "### write\n",
    "you can make a shorthand for sys.stdout.write and use that for output."
   ]
  },
  {
   "cell_type": "code",
   "execution_count": 383,
   "metadata": {},
   "outputs": [
    {
     "name": "stdout",
     "output_type": "stream",
     "text": [
      "2005\n"
     ]
    }
   ],
   "source": [
    "import sys\n",
    "write = sys.stdout.write\n",
    "write('20')\n",
    "write('05\\n')"
   ]
  },
  {
   "cell_type": "markdown",
   "metadata": {},
   "source": [
    "You may need `sys.stdout.flush()` to get that text on the screen quickly."
   ]
  },
  {
   "cell_type": "markdown",
   "metadata": {},
   "source": [
    "# Regular Expressions\n",
    "\n",
    "Python includes a module for working with regular expressions on strings. For more information about writing regular expressions and syntax not specific to Python, see the regular expressions wikibook. Python's regular expression syntax is similar to Perl's\n",
    "To start using regular expressions in your Python scripts, just import the `re` module:\n",
    "\n",
    "`import re`\n",
    "\n",
    "### Pattern objects\n",
    "If you're going to be using the same regexp more than once in a program, or if you just want to keep the regexps separated somehow, you should create a pattern object, and refer to it later when searching/replacing.\n",
    "To create a pattern object, use the compile function."
   ]
  },
  {
   "cell_type": "code",
   "execution_count": null,
   "metadata": {},
   "outputs": [],
   "source": [
    "import re\n",
    "foo = re.compile(r'foo(.{,5})bar', re.I+re.S)"
   ]
  },
  {
   "cell_type": "markdown",
   "metadata": {},
   "source": [
    "The first argument is the pattern, which matches the string \"foo\", followed by up to 5 of any character, then the string \"bar\", storing the middle characters to a group, which will be discussed later. The second, optional, argument is the flag or flags to modify the regexp's behavior. The flags themselves are simply variables referring to an integer used by the regular expression engine. In other languages, these would be constants, but Python does not have constants. Some of the regular expression functions do not support adding flags as a parameter when defining the pattern directly in the function, if you need any of the flags, it is best to use the compile function to create a pattern object.\n",
    "The r preceding the expression string indicates that it should be treated as a raw string. This should normally be used when writing regexps, so that backslashes are interpreted literally rather than having to be escaped.\n",
    "Regular expressions consist of: literal characters that match themselves, metacharacters that act as “wild cards”, and quantifiers specify how many times to match the preceding atom (literal, metacharacter or group)"
   ]
  },
  {
   "cell_type": "markdown",
   "metadata": {},
   "source": [
    "### Metacharacters\n",
    "\n",
    "Metacharacter | Meaning | Regex | Matches\n",
    ":--- | :--- | :--- | :---\n",
    "`.` | Match any character | `foo.bar` | foodbar\n",
    "`^` | Match the beginning of line | `^hi` | lines starting “hi”\n",
    "`$` | Match the end of line | `hi$` |lines ending “hi” \n",
    "`[ABC]` | Match A or B or C | `h[ae]ll` | hall, hell\n",
    "`[^DEF]` |Any character except D or E or F|`h[^ae]ll`|h9ll but not hall\n",
    "`[A-Z]` | A character in the range A-Z | `A[A-Z]T` | ANT, but not AnT"
   ]
  },
  {
   "cell_type": "code",
   "execution_count": null,
   "metadata": {},
   "outputs": [],
   "source": []
  },
  {
   "cell_type": "markdown",
   "metadata": {},
   "source": [
    "### Special Character Sets\n",
    "\n",
    "Char | Meaning\n",
    ":--- | :---\n",
    "`\\w` | Word characters, same as `[A-Za-z0-9_]`\n",
    "`\\W` | Not word characters, same as `[^A-Za-z0-9_]`\n",
    "`\\d` | Digit same as `[0-9]`\n",
    "`\\D` | Not Digit, same as `[^0-9]`\n",
    "`\\s` | White space, that is space, tab, newline, vspace, hspace etc.\n",
    "`\\S` | Not whitespace\n",
    "`\\b` |Word break. Matches a word character to non word character transition or vice versa"
   ]
  },
  {
   "cell_type": "markdown",
   "metadata": {},
   "source": [
    "### Quantifiers\n",
    "\n",
    "Quantifier | Meaning\n",
    ":--- | :---\n",
    "`*` | any no. of times (including O)\n",
    "`+` | 1 or more times\n",
    "`?` | 0 or 1 times\n",
    "`{N}` | N times\n",
    "`{N,}` | N or more times\n",
    "`{N,M}` | At least N times at most M times"
   ]
  },
  {
   "cell_type": "markdown",
   "metadata": {},
   "source": [
    "### Grouping and Alternation\n",
    "\n",
    "Parenthesis `()` define a group in regular expressions. A group is treated a a single entity and can be repeated with a quantifier.  Groups can also be matched separately.  See the `group` method and `groups` tuple of the `match` object/\n",
    "\n",
    "A `|` symbol is called *alternation* in regular expressions and means match one or two alternate regular expressions. For example `car|bike` means match car or bike.\n",
    "\n",
    "### Flags\n",
    "The different flags are:\n",
    "\n",
    "Flag | Full name | Description\n",
    ":--- | :--- | :---\n",
    "re.I | re.IGNORECASE |Makes the regexp case-insensitive\n",
    "re.L | re.LOCALE | Makes the behavior of some special sequences `(\\w, \\W, \\b, \\B, \\s, \\S)` dependent on the current locale\n",
    "re.M | re.MULTILINE | Makes the `^` and `$` characters match at the beginning and end of each line, rather than just the beginning and end of the string\n",
    "re.S | re.DOTALL | Makes the . character match every character including newlines.\n",
    "re.U | re.UNICODE | Makes `\\w, \\W, \\b, \\B, \\d, \\D, \\s, \\S` dependent on Unicode character properties"
   ]
  },
  {
   "cell_type": "markdown",
   "metadata": {},
   "source": [
    "## Matching and searching\n",
    "One of the most common uses for regular expressions is extracting a part of a string or testing for the existence of a pattern in a string. Python offers several functions to do this.\n",
    "The match and search functions do mostly the same thing, except that the match function will only return a result if the pattern matches at the beginning of the string being searched, while search will find a match anywhere in the string."
   ]
  },
  {
   "cell_type": "code",
   "execution_count": 384,
   "metadata": {},
   "outputs": [],
   "source": [
    ">>> import re\n",
    ">>> foo = re.compile(r'foo(.{,5})bar', re.I+re.S)\n",
    ">>> st1 = 'Foo, Bar, Baz'\n",
    ">>> st2 = '2. foo is bar'\n",
    ">>> search1 = foo.search(st1)\n",
    ">>> search2 = foo.search(st2)\n",
    ">>> match1 = foo.match(st1)\n",
    ">>> match2 = foo.match(st2)"
   ]
  },
  {
   "cell_type": "markdown",
   "metadata": {},
   "source": [
    "In this example, match2 will be None, because the string st2 does not start with the given pattern. The other 3 results will be Match objects (see below).\n",
    "You can also match and search without compiling a regexp:"
   ]
  },
  {
   "cell_type": "code",
   "execution_count": 385,
   "metadata": {},
   "outputs": [],
   "source": [
    ">>> search3 = re.search('oo.*ba', st1, re.I)"
   ]
  },
  {
   "cell_type": "markdown",
   "metadata": {},
   "source": [
    "Here we use the search function of the re module, rather than of the pattern object. For most cases, its best to compile the expression first. Not all of the re module functions support the flags argument and if the expression is used more than once, compiling first is more efficient and leads to cleaner looking code.\n",
    "The compiled pattern object functions also have parameters for starting and ending the search, to search in a substring of the given string. In the first example in this section, match2 returns no result because the pattern does not start at the beginning of the string, but if we do:"
   ]
  },
  {
   "cell_type": "code",
   "execution_count": 386,
   "metadata": {},
   "outputs": [],
   "source": [
    ">>> match3 = foo.match(st2, 3)"
   ]
  },
  {
   "cell_type": "markdown",
   "metadata": {},
   "source": [
    "it works, because we tell it to start searching at character number 3 in the string.\n",
    "What if we want to search for multiple instances of the pattern? Then we have two options. We can use the start and end position parameters of the search and match function in a loop, getting the position to start at from the previous match object (see below) or we can use the findall and finditer functions. The findall function returns a list of matching strings, useful for simple searching. For anything slightly complex, the finditer function should be used. This returns an iterator object, that when used in a loop, yields Match objects. For example:"
   ]
  },
  {
   "cell_type": "code",
   "execution_count": 387,
   "metadata": {},
   "outputs": [
    {
     "data": {
      "text/plain": [
       "[', ', '. ', ': ']"
      ]
     },
     "execution_count": 387,
     "metadata": {},
     "output_type": "execute_result"
    }
   ],
   "source": [
    ">>> str3 = 'foo, Bar Foo. BAR FoO: bar'\n",
    ">>> foo.findall(str3)"
   ]
  },
  {
   "cell_type": "code",
   "execution_count": 388,
   "metadata": {},
   "outputs": [],
   "source": [
    ">>> for match in foo.finditer(str3):\n",
    "...     match.group(1)"
   ]
  },
  {
   "cell_type": "markdown",
   "metadata": {},
   "source": [
    "If you're going to be iterating over the results of the search, using the finditer function is almost always a better choice.\n",
    "Match objects\n",
    "Match objects are returned by the search and match functions, and include information about the pattern match.\n",
    "The group function returns a string corresponding to a capture group (part of a regexp wrapped in ()) of the expression, or if no group number is given, the entire match. Using the search1 variable we defined above:"
   ]
  },
  {
   "cell_type": "code",
   "execution_count": 389,
   "metadata": {},
   "outputs": [
    {
     "data": {
      "text/plain": [
       "'Foo, Bar'"
      ]
     },
     "execution_count": 389,
     "metadata": {},
     "output_type": "execute_result"
    }
   ],
   "source": [
    ">>> search1.group()"
   ]
  },
  {
   "cell_type": "code",
   "execution_count": 390,
   "metadata": {},
   "outputs": [
    {
     "data": {
      "text/plain": [
       "', '"
      ]
     },
     "execution_count": 390,
     "metadata": {},
     "output_type": "execute_result"
    }
   ],
   "source": [
    ">>> search1.group(1)"
   ]
  },
  {
   "cell_type": "markdown",
   "metadata": {},
   "source": [
    "### Capture Groups\n",
    "Capture groups can also be given string names using a special syntax and referred to by matchobj.group('name'). For simple expressions this is unnecessary, but for more complex expressions it can be very useful.\n",
    "\n",
    "You can also get the position of a match or a group in a string, using the start and end functions:"
   ]
  },
  {
   "cell_type": "code",
   "execution_count": 391,
   "metadata": {},
   "outputs": [
    {
     "data": {
      "text/plain": [
       "0"
      ]
     },
     "execution_count": 391,
     "metadata": {},
     "output_type": "execute_result"
    }
   ],
   "source": [
    ">>> search1.start()"
   ]
  },
  {
   "cell_type": "code",
   "execution_count": 392,
   "metadata": {},
   "outputs": [
    {
     "data": {
      "text/plain": [
       "8"
      ]
     },
     "execution_count": 392,
     "metadata": {},
     "output_type": "execute_result"
    }
   ],
   "source": [
    ">>> search1.end()"
   ]
  },
  {
   "cell_type": "code",
   "execution_count": 393,
   "metadata": {},
   "outputs": [
    {
     "data": {
      "text/plain": [
       "3"
      ]
     },
     "execution_count": 393,
     "metadata": {},
     "output_type": "execute_result"
    }
   ],
   "source": [
    ">>> search1.start(1)"
   ]
  },
  {
   "cell_type": "code",
   "execution_count": 394,
   "metadata": {},
   "outputs": [
    {
     "data": {
      "text/plain": [
       "5"
      ]
     },
     "execution_count": 394,
     "metadata": {},
     "output_type": "execute_result"
    }
   ],
   "source": [
    ">>> search1.end(1)"
   ]
  },
  {
   "cell_type": "markdown",
   "metadata": {},
   "source": [
    "This returns the start and end locations of the entire match, and the start and end of the first (and in this case only) capture group, respectively.\n",
    "## Replacing\n",
    "Another use for regular expressions is replacing text in a string. To do this in Python, use the sub function.\n",
    "sub takes up to 3 arguments: The text to replace with, the text to replace in, and, optionally, the maximum number of substitutions to make. Unlike the matching and searching functions, sub returns a string, consisting of the given text with the substitution(s) made."
   ]
  },
  {
   "cell_type": "code",
   "execution_count": 395,
   "metadata": {},
   "outputs": [
    {
     "data": {
      "text/plain": [
       "\"This string has a 'q' in it\""
      ]
     },
     "execution_count": 395,
     "metadata": {},
     "output_type": "execute_result"
    }
   ],
   "source": [
    ">>> import re\n",
    ">>> mystring = 'This string has a q in it'\n",
    ">>> pattern = re.compile(r'(a[n]? )(\\w) ')\n",
    ">>> newstring = pattern.sub(r\"\\1'\\2' \", mystring)\n",
    ">>> newstring"
   ]
  },
  {
   "cell_type": "markdown",
   "metadata": {},
   "source": [
    "This takes any single alphanumeric character (`\\w` in regular expression syntax) preceded by \"a\" or \"an\" and wraps in in single quotes. The `\\1` and `\\2` in the replacement string are backreferences to the 2 capture groups in the expression; these would be `group(1)` and `group(2)` on a Match object from a search.\n",
    "The subn function is similar to sub, except it returns a tuple, consisting of the result string and the number of replacements made. Using the string and expression from before:"
   ]
  },
  {
   "cell_type": "code",
   "execution_count": 396,
   "metadata": {},
   "outputs": [
    {
     "data": {
      "text/plain": [
       "(\"This string has a 'q' in it\", 1)"
      ]
     },
     "execution_count": 396,
     "metadata": {},
     "output_type": "execute_result"
    }
   ],
   "source": [
    ">>> subresult = pattern.subn(r\"\\1'\\2' \", mystring)\n",
    ">>> subresult"
   ]
  },
  {
   "cell_type": "markdown",
   "metadata": {},
   "source": [
    "## Other functions\n",
    "The re module has a few other functions in addition to those discussed above.\n",
    "The split function splits a string based on a given regular expression:"
   ]
  },
  {
   "cell_type": "code",
   "execution_count": 397,
   "metadata": {},
   "outputs": [
    {
     "data": {
      "text/plain": [
       "['', ' First part ', ' Second part ', ' Third part']"
      ]
     },
     "execution_count": 397,
     "metadata": {},
     "output_type": "execute_result"
    }
   ],
   "source": [
    ">>> import re\n",
    ">>> mystring = '1. First part 2. Second part 3. Third part'\n",
    ">>> re.split(r'\\d\\.', mystring)"
   ]
  },
  {
   "cell_type": "markdown",
   "metadata": {},
   "source": [
    "The escape function escapes all non-alphanumeric characters in a string. This is useful if you need to take an unknown string that may contain regexp metacharacters like ( and . and create a regular expression from it."
   ]
  },
  {
   "cell_type": "code",
   "execution_count": 398,
   "metadata": {},
   "outputs": [
    {
     "data": {
      "text/plain": [
       "'This\\\\ text\\\\ \\\\(and\\\\ this\\\\)\\\\ must\\\\ be\\\\ escaped\\\\ with\\\\ a\\\\ \"\\\\\\\\\"\\\\ to\\\\ use\\\\ in\\\\ a\\\\ regexp\\\\.'"
      ]
     },
     "execution_count": 398,
     "metadata": {},
     "output_type": "execute_result"
    }
   ],
   "source": [
    ">>> re.escape(r'This text (and this) must be escaped with a \"\\\" to use in a regexp.')"
   ]
  },
  {
   "cell_type": "markdown",
   "metadata": {},
   "source": [
    "# URLLib, XML and JSON\n",
    "\n",
    "Accessing Remote Data\n",
    "The Python urllib package has the following modules:\n",
    "- urllib.request for opening and reading URLs\n",
    "- urllib.error containing the exceptions raised by urllib.request\n",
    "- urllib.parse for parsing URLs\n",
    "- urllib.robotparser for parsing robots.txt files\n",
    "\n",
    "The urllib.request module has functions that can open remote files (using HTTP of FTP), that resemble the built in open function used to create file objects.\n",
    "The first step is to import urllib.request, and read the help."
   ]
  },
  {
   "cell_type": "code",
   "execution_count": null,
   "metadata": {},
   "outputs": [],
   "source": [
    ">>> import urllib.request\n",
    ">>> help(urllib.request)"
   ]
  },
  {
   "cell_type": "markdown",
   "metadata": {},
   "source": [
    "Opening a JSON file:"
   ]
  },
  {
   "cell_type": "code",
   "execution_count": 403,
   "metadata": {},
   "outputs": [],
   "source": [
    ">>> urllib.request.urlopen(\"https://jsonplaceholder.typicode.com/users\");"
   ]
  },
  {
   "cell_type": "code",
   "execution_count": 404,
   "metadata": {},
   "outputs": [
    {
     "name": "stdout",
     "output_type": "stream",
     "text": [
      "b'[\\n'\n",
      "b'  {\\n'\n",
      "b'    \"id\": 1,\\n'\n",
      "b'    \"name\": \"Leanne Graham\",\\n'\n",
      "b'    \"username\": \"Bret\",\\n'\n",
      "b'    \"email\": \"Sincere@april.biz\",\\n'\n",
      "b'    \"address\": {\\n'\n",
      "b'      \"street\": \"Kulas Light\",\\n'\n",
      "b'      \"suite\": \"Apt. 556\",\\n'\n",
      "b'      \"city\": \"Gwenborough\",\\n'\n",
      "b'      \"zipcode\": \"92998-3874\",\\n'\n",
      "b'      \"geo\": {\\n'\n",
      "b'        \"lat\": \"-37.3159\",\\n'\n",
      "b'        \"lng\": \"81.1496\"\\n'\n",
      "b'      }\\n'\n",
      "b'    },\\n'\n",
      "b'    \"phone\": \"1-770-736-8031 x56442\",\\n'\n",
      "b'    \"website\": \"hildegard.org\",\\n'\n",
      "b'    \"company\": {\\n'\n",
      "b'      \"name\": \"Romaguera-Crona\",\\n'\n",
      "b'      \"catchPhrase\": \"Multi-layered client-server neural-net\",\\n'\n",
      "b'      \"bs\": \"harness real-time e-markets\"\\n'\n",
      "b'    }\\n'\n",
      "b'  },\\n'\n",
      "b'  {\\n'\n",
      "b'    \"id\": 2,\\n'\n",
      "b'    \"name\": \"Ervin Howell\",\\n'\n",
      "b'    \"username\": \"Antonette\",\\n'\n",
      "b'    \"email\": \"Shanna@melissa.tv\",\\n'\n",
      "b'    \"address\": {\\n'\n",
      "b'      \"street\": \"Victor Plains\",\\n'\n",
      "b'      \"suite\": \"Suite 879\",\\n'\n",
      "b'      \"city\": \"Wisokyburgh\",\\n'\n",
      "b'      \"zipcode\": \"90566-7771\",\\n'\n",
      "b'      \"geo\": {\\n'\n",
      "b'        \"lat\": \"-43.9509\",\\n'\n",
      "b'        \"lng\": \"-34.4618\"\\n'\n",
      "b'      }\\n'\n",
      "b'    },\\n'\n",
      "b'    \"phone\": \"010-692-6593 x09125\",\\n'\n",
      "b'    \"website\": \"anastasia.net\",\\n'\n",
      "b'    \"company\": {\\n'\n",
      "b'      \"name\": \"Deckow-Crist\",\\n'\n",
      "b'      \"catchPhrase\": \"Proactive didactic contingency\",\\n'\n",
      "b'      \"bs\": \"synergize scalable supply-chains\"\\n'\n",
      "b'    }\\n'\n",
      "b'  },\\n'\n",
      "b'  {\\n'\n",
      "b'    \"id\": 3,\\n'\n",
      "b'    \"name\": \"Clementine Bauch\",\\n'\n",
      "b'    \"username\": \"Samantha\",\\n'\n",
      "b'    \"email\": \"Nathan@yesenia.net\",\\n'\n",
      "b'    \"address\": {\\n'\n",
      "b'      \"street\": \"Douglas Extension\",\\n'\n",
      "b'      \"suite\": \"Suite 847\",\\n'\n",
      "b'      \"city\": \"McKenziehaven\",\\n'\n",
      "b'      \"zipcode\": \"59590-4157\",\\n'\n",
      "b'      \"geo\": {\\n'\n",
      "b'        \"lat\": \"-68.6102\",\\n'\n",
      "b'        \"lng\": \"-47.0653\"\\n'\n",
      "b'      }\\n'\n",
      "b'    },\\n'\n",
      "b'    \"phone\": \"1-463-123-4447\",\\n'\n",
      "b'    \"website\": \"ramiro.info\",\\n'\n",
      "b'    \"company\": {\\n'\n",
      "b'      \"name\": \"Romaguera-Jacobson\",\\n'\n",
      "b'      \"catchPhrase\": \"Face to face bifurcated interface\",\\n'\n",
      "b'      \"bs\": \"e-enable strategic applications\"\\n'\n",
      "b'    }\\n'\n",
      "b'  },\\n'\n",
      "b'  {\\n'\n",
      "b'    \"id\": 4,\\n'\n",
      "b'    \"name\": \"Patricia Lebsack\",\\n'\n",
      "b'    \"username\": \"Karianne\",\\n'\n",
      "b'    \"email\": \"Julianne.OConner@kory.org\",\\n'\n",
      "b'    \"address\": {\\n'\n",
      "b'      \"street\": \"Hoeger Mall\",\\n'\n",
      "b'      \"suite\": \"Apt. 692\",\\n'\n",
      "b'      \"city\": \"South Elvis\",\\n'\n",
      "b'      \"zipcode\": \"53919-4257\",\\n'\n",
      "b'      \"geo\": {\\n'\n",
      "b'        \"lat\": \"29.4572\",\\n'\n",
      "b'        \"lng\": \"-164.2990\"\\n'\n",
      "b'      }\\n'\n",
      "b'    },\\n'\n",
      "b'    \"phone\": \"493-170-9623 x156\",\\n'\n",
      "b'    \"website\": \"kale.biz\",\\n'\n",
      "b'    \"company\": {\\n'\n",
      "b'      \"name\": \"Robel-Corkery\",\\n'\n",
      "b'      \"catchPhrase\": \"Multi-tiered zero tolerance productivity\",\\n'\n",
      "b'      \"bs\": \"transition cutting-edge web services\"\\n'\n",
      "b'    }\\n'\n",
      "b'  },\\n'\n",
      "b'  {\\n'\n",
      "b'    \"id\": 5,\\n'\n",
      "b'    \"name\": \"Chelsey Dietrich\",\\n'\n",
      "b'    \"username\": \"Kamren\",\\n'\n",
      "b'    \"email\": \"Lucio_Hettinger@annie.ca\",\\n'\n",
      "b'    \"address\": {\\n'\n",
      "b'      \"street\": \"Skiles Walks\",\\n'\n",
      "b'      \"suite\": \"Suite 351\",\\n'\n",
      "b'      \"city\": \"Roscoeview\",\\n'\n",
      "b'      \"zipcode\": \"33263\",\\n'\n",
      "b'      \"geo\": {\\n'\n",
      "b'        \"lat\": \"-31.8129\",\\n'\n",
      "b'        \"lng\": \"62.5342\"\\n'\n",
      "b'      }\\n'\n",
      "b'    },\\n'\n",
      "b'    \"phone\": \"(254)954-1289\",\\n'\n",
      "b'    \"website\": \"demarco.info\",\\n'\n",
      "b'    \"company\": {\\n'\n",
      "b'      \"name\": \"Keebler LLC\",\\n'\n",
      "b'      \"catchPhrase\": \"User-centric fault-tolerant solution\",\\n'\n",
      "b'      \"bs\": \"revolutionize end-to-end systems\"\\n'\n",
      "b'    }\\n'\n",
      "b'  },\\n'\n",
      "b'  {\\n'\n",
      "b'    \"id\": 6,\\n'\n",
      "b'    \"name\": \"Mrs. Dennis Schulist\",\\n'\n",
      "b'    \"username\": \"Leopoldo_Corkery\",\\n'\n",
      "b'    \"email\": \"Karley_Dach@jasper.info\",\\n'\n",
      "b'    \"address\": {\\n'\n",
      "b'      \"street\": \"Norberto Crossing\",\\n'\n",
      "b'      \"suite\": \"Apt. 950\",\\n'\n",
      "b'      \"city\": \"South Christy\",\\n'\n",
      "b'      \"zipcode\": \"23505-1337\",\\n'\n",
      "b'      \"geo\": {\\n'\n",
      "b'        \"lat\": \"-71.4197\",\\n'\n",
      "b'        \"lng\": \"71.7478\"\\n'\n",
      "b'      }\\n'\n",
      "b'    },\\n'\n",
      "b'    \"phone\": \"1-477-935-8478 x6430\",\\n'\n",
      "b'    \"website\": \"ola.org\",\\n'\n",
      "b'    \"company\": {\\n'\n",
      "b'      \"name\": \"Considine-Lockman\",\\n'\n",
      "b'      \"catchPhrase\": \"Synchronised bottom-line interface\",\\n'\n",
      "b'      \"bs\": \"e-enable innovative applications\"\\n'\n",
      "b'    }\\n'\n",
      "b'  },\\n'\n",
      "b'  {\\n'\n",
      "b'    \"id\": 7,\\n'\n",
      "b'    \"name\": \"Kurtis Weissnat\",\\n'\n",
      "b'    \"username\": \"Elwyn.Skiles\",\\n'\n",
      "b'    \"email\": \"Telly.Hoeger@billy.biz\",\\n'\n",
      "b'    \"address\": {\\n'\n",
      "b'      \"street\": \"Rex Trail\",\\n'\n",
      "b'      \"suite\": \"Suite 280\",\\n'\n",
      "b'      \"city\": \"Howemouth\",\\n'\n",
      "b'      \"zipcode\": \"58804-1099\",\\n'\n",
      "b'      \"geo\": {\\n'\n",
      "b'        \"lat\": \"24.8918\",\\n'\n",
      "b'        \"lng\": \"21.8984\"\\n'\n",
      "b'      }\\n'\n",
      "b'    },\\n'\n",
      "b'    \"phone\": \"210.067.6132\",\\n'\n",
      "b'    \"website\": \"elvis.io\",\\n'\n",
      "b'    \"company\": {\\n'\n",
      "b'      \"name\": \"Johns Group\",\\n'\n",
      "b'      \"catchPhrase\": \"Configurable multimedia task-force\",\\n'\n",
      "b'      \"bs\": \"generate enterprise e-tailers\"\\n'\n",
      "b'    }\\n'\n",
      "b'  },\\n'\n",
      "b'  {\\n'\n",
      "b'    \"id\": 8,\\n'\n",
      "b'    \"name\": \"Nicholas Runolfsdottir V\",\\n'\n",
      "b'    \"username\": \"Maxime_Nienow\",\\n'\n",
      "b'    \"email\": \"Sherwood@rosamond.me\",\\n'\n",
      "b'    \"address\": {\\n'\n",
      "b'      \"street\": \"Ellsworth Summit\",\\n'\n",
      "b'      \"suite\": \"Suite 729\",\\n'\n",
      "b'      \"city\": \"Aliyaview\",\\n'\n",
      "b'      \"zipcode\": \"45169\",\\n'\n",
      "b'      \"geo\": {\\n'\n",
      "b'        \"lat\": \"-14.3990\",\\n'\n",
      "b'        \"lng\": \"-120.7677\"\\n'\n",
      "b'      }\\n'\n",
      "b'    },\\n'\n",
      "b'    \"phone\": \"586.493.6943 x140\",\\n'\n",
      "b'    \"website\": \"jacynthe.com\",\\n'\n",
      "b'    \"company\": {\\n'\n",
      "b'      \"name\": \"Abernathy Group\",\\n'\n",
      "b'      \"catchPhrase\": \"Implemented secondary concept\",\\n'\n",
      "b'      \"bs\": \"e-enable extensible e-tailers\"\\n'\n",
      "b'    }\\n'\n",
      "b'  },\\n'\n",
      "b'  {\\n'\n",
      "b'    \"id\": 9,\\n'\n",
      "b'    \"name\": \"Glenna Reichert\",\\n'\n",
      "b'    \"username\": \"Delphine\",\\n'\n",
      "b'    \"email\": \"Chaim_McDermott@dana.io\",\\n'\n",
      "b'    \"address\": {\\n'\n",
      "b'      \"street\": \"Dayna Park\",\\n'\n",
      "b'      \"suite\": \"Suite 449\",\\n'\n",
      "b'      \"city\": \"Bartholomebury\",\\n'\n",
      "b'      \"zipcode\": \"76495-3109\",\\n'\n",
      "b'      \"geo\": {\\n'\n",
      "b'        \"lat\": \"24.6463\",\\n'\n",
      "b'        \"lng\": \"-168.8889\"\\n'\n",
      "b'      }\\n'\n",
      "b'    },\\n'\n",
      "b'    \"phone\": \"(775)976-6794 x41206\",\\n'\n",
      "b'    \"website\": \"conrad.com\",\\n'\n",
      "b'    \"company\": {\\n'\n",
      "b'      \"name\": \"Yost and Sons\",\\n'\n",
      "b'      \"catchPhrase\": \"Switchable contextually-based project\",\\n'\n",
      "b'      \"bs\": \"aggregate real-time technologies\"\\n'\n",
      "b'    }\\n'\n",
      "b'  },\\n'\n",
      "b'  {\\n'\n",
      "b'    \"id\": 10,\\n'\n",
      "b'    \"name\": \"Clementina DuBuque\",\\n'\n",
      "b'    \"username\": \"Moriah.Stanton\",\\n'\n",
      "b'    \"email\": \"Rey.Padberg@karina.biz\",\\n'\n",
      "b'    \"address\": {\\n'\n",
      "b'      \"street\": \"Kattie Turnpike\",\\n'\n",
      "b'      \"suite\": \"Suite 198\",\\n'\n",
      "b'      \"city\": \"Lebsackbury\",\\n'\n",
      "b'      \"zipcode\": \"31428-2261\",\\n'\n",
      "b'      \"geo\": {\\n'\n",
      "b'        \"lat\": \"-38.2386\",\\n'\n",
      "b'        \"lng\": \"57.2232\"\\n'\n",
      "b'      }\\n'\n",
      "b'    },\\n'\n",
      "b'    \"phone\": \"024-648-3804\",\\n'\n",
      "b'    \"website\": \"ambrose.net\",\\n'\n",
      "b'    \"company\": {\\n'\n",
      "b'      \"name\": \"Hoeger LLC\",\\n'\n",
      "b'      \"catchPhrase\": \"Centralized empowering task-force\",\\n'\n",
      "b'      \"bs\": \"target end-to-end models\"\\n'\n",
      "b'    }\\n'\n",
      "b'  }\\n'\n",
      "b']'\n"
     ]
    }
   ],
   "source": [
    ">>> for line in urllib.request.urlopen(\"https://jsonplaceholder.typicode.com/users\"): print(line)"
   ]
  },
  {
   "cell_type": "markdown",
   "metadata": {},
   "source": [
    "Opening an XML file:\n",
    "```python\n",
    ">>> for line in urllib.request.urlopen(\"http://leadingtraining.co.za/album.xml\"): print(line)\n",
    "... \n",
    "b'<?xml version=\"1.0\" encoding=\"UTF-8\" ?>\\r\\n'\n",
    "b'\\r\\n'\n",
    "b'<!-- XML in easy steps - Page 54. -->\\r\\n'\n",
    "b'\\r\\n'\n",
    "b'<discography \\r\\n'\n",
    "b'xmlns:xsi=\"http://www.w3.org/2001/XMLSchema-instance\" xsi:noNamespaceSchemaLocation=\"album.xsd\" >\\r\\n'\n",
    "b'\\r\\n'\n",
    "b'\\t<artist>Pink</artist>\\r\\n'\n",
    "b'\\t<album id=\"2000\">Can\\'t Take Me Home</album>\\r\\n'\n",
    "b'\\t<album id=\"2001\">Misundaztood</album>\\r\\n'\n",
    "b'\\t<album id=\"2003\">Try This</album>\\r\\n'\n",
    "b'\\t<album id=\"2006\">I\\'m Not Dead</album>\\r\\n'\n",
    "b'\\t<album>(...in production)</album>\\r\\n'\n",
    "b'\\r\\n'\n",
    "b'</discography>\\r\\n'\n",
    "b'\\r\\n'\n",
    "```\n",
    "The openurl method returns an http.client.HTTPResponse object, which supports the same methods as a file object.  Including: read, readline, readlines and can supports iteration in a for loop.\n",
    "Parsing JSON"
   ]
  },
  {
   "cell_type": "code",
   "execution_count": 408,
   "metadata": {},
   "outputs": [
    {
     "data": {
      "text/plain": [
       "[{'id': 1,\n",
       "  'name': 'Leanne Graham',\n",
       "  'username': 'Bret',\n",
       "  'email': 'Sincere@april.biz',\n",
       "  'address': {'street': 'Kulas Light',\n",
       "   'suite': 'Apt. 556',\n",
       "   'city': 'Gwenborough',\n",
       "   'zipcode': '92998-3874',\n",
       "   'geo': {'lat': '-37.3159', 'lng': '81.1496'}},\n",
       "  'phone': '1-770-736-8031 x56442',\n",
       "  'website': 'hildegard.org',\n",
       "  'company': {'name': 'Romaguera-Crona',\n",
       "   'catchPhrase': 'Multi-layered client-server neural-net',\n",
       "   'bs': 'harness real-time e-markets'}},\n",
       " {'id': 2,\n",
       "  'name': 'Ervin Howell',\n",
       "  'username': 'Antonette',\n",
       "  'email': 'Shanna@melissa.tv',\n",
       "  'address': {'street': 'Victor Plains',\n",
       "   'suite': 'Suite 879',\n",
       "   'city': 'Wisokyburgh',\n",
       "   'zipcode': '90566-7771',\n",
       "   'geo': {'lat': '-43.9509', 'lng': '-34.4618'}},\n",
       "  'phone': '010-692-6593 x09125',\n",
       "  'website': 'anastasia.net',\n",
       "  'company': {'name': 'Deckow-Crist',\n",
       "   'catchPhrase': 'Proactive didactic contingency',\n",
       "   'bs': 'synergize scalable supply-chains'}},\n",
       " {'id': 3,\n",
       "  'name': 'Clementine Bauch',\n",
       "  'username': 'Samantha',\n",
       "  'email': 'Nathan@yesenia.net',\n",
       "  'address': {'street': 'Douglas Extension',\n",
       "   'suite': 'Suite 847',\n",
       "   'city': 'McKenziehaven',\n",
       "   'zipcode': '59590-4157',\n",
       "   'geo': {'lat': '-68.6102', 'lng': '-47.0653'}},\n",
       "  'phone': '1-463-123-4447',\n",
       "  'website': 'ramiro.info',\n",
       "  'company': {'name': 'Romaguera-Jacobson',\n",
       "   'catchPhrase': 'Face to face bifurcated interface',\n",
       "   'bs': 'e-enable strategic applications'}},\n",
       " {'id': 4,\n",
       "  'name': 'Patricia Lebsack',\n",
       "  'username': 'Karianne',\n",
       "  'email': 'Julianne.OConner@kory.org',\n",
       "  'address': {'street': 'Hoeger Mall',\n",
       "   'suite': 'Apt. 692',\n",
       "   'city': 'South Elvis',\n",
       "   'zipcode': '53919-4257',\n",
       "   'geo': {'lat': '29.4572', 'lng': '-164.2990'}},\n",
       "  'phone': '493-170-9623 x156',\n",
       "  'website': 'kale.biz',\n",
       "  'company': {'name': 'Robel-Corkery',\n",
       "   'catchPhrase': 'Multi-tiered zero tolerance productivity',\n",
       "   'bs': 'transition cutting-edge web services'}},\n",
       " {'id': 5,\n",
       "  'name': 'Chelsey Dietrich',\n",
       "  'username': 'Kamren',\n",
       "  'email': 'Lucio_Hettinger@annie.ca',\n",
       "  'address': {'street': 'Skiles Walks',\n",
       "   'suite': 'Suite 351',\n",
       "   'city': 'Roscoeview',\n",
       "   'zipcode': '33263',\n",
       "   'geo': {'lat': '-31.8129', 'lng': '62.5342'}},\n",
       "  'phone': '(254)954-1289',\n",
       "  'website': 'demarco.info',\n",
       "  'company': {'name': 'Keebler LLC',\n",
       "   'catchPhrase': 'User-centric fault-tolerant solution',\n",
       "   'bs': 'revolutionize end-to-end systems'}},\n",
       " {'id': 6,\n",
       "  'name': 'Mrs. Dennis Schulist',\n",
       "  'username': 'Leopoldo_Corkery',\n",
       "  'email': 'Karley_Dach@jasper.info',\n",
       "  'address': {'street': 'Norberto Crossing',\n",
       "   'suite': 'Apt. 950',\n",
       "   'city': 'South Christy',\n",
       "   'zipcode': '23505-1337',\n",
       "   'geo': {'lat': '-71.4197', 'lng': '71.7478'}},\n",
       "  'phone': '1-477-935-8478 x6430',\n",
       "  'website': 'ola.org',\n",
       "  'company': {'name': 'Considine-Lockman',\n",
       "   'catchPhrase': 'Synchronised bottom-line interface',\n",
       "   'bs': 'e-enable innovative applications'}},\n",
       " {'id': 7,\n",
       "  'name': 'Kurtis Weissnat',\n",
       "  'username': 'Elwyn.Skiles',\n",
       "  'email': 'Telly.Hoeger@billy.biz',\n",
       "  'address': {'street': 'Rex Trail',\n",
       "   'suite': 'Suite 280',\n",
       "   'city': 'Howemouth',\n",
       "   'zipcode': '58804-1099',\n",
       "   'geo': {'lat': '24.8918', 'lng': '21.8984'}},\n",
       "  'phone': '210.067.6132',\n",
       "  'website': 'elvis.io',\n",
       "  'company': {'name': 'Johns Group',\n",
       "   'catchPhrase': 'Configurable multimedia task-force',\n",
       "   'bs': 'generate enterprise e-tailers'}},\n",
       " {'id': 8,\n",
       "  'name': 'Nicholas Runolfsdottir V',\n",
       "  'username': 'Maxime_Nienow',\n",
       "  'email': 'Sherwood@rosamond.me',\n",
       "  'address': {'street': 'Ellsworth Summit',\n",
       "   'suite': 'Suite 729',\n",
       "   'city': 'Aliyaview',\n",
       "   'zipcode': '45169',\n",
       "   'geo': {'lat': '-14.3990', 'lng': '-120.7677'}},\n",
       "  'phone': '586.493.6943 x140',\n",
       "  'website': 'jacynthe.com',\n",
       "  'company': {'name': 'Abernathy Group',\n",
       "   'catchPhrase': 'Implemented secondary concept',\n",
       "   'bs': 'e-enable extensible e-tailers'}},\n",
       " {'id': 9,\n",
       "  'name': 'Glenna Reichert',\n",
       "  'username': 'Delphine',\n",
       "  'email': 'Chaim_McDermott@dana.io',\n",
       "  'address': {'street': 'Dayna Park',\n",
       "   'suite': 'Suite 449',\n",
       "   'city': 'Bartholomebury',\n",
       "   'zipcode': '76495-3109',\n",
       "   'geo': {'lat': '24.6463', 'lng': '-168.8889'}},\n",
       "  'phone': '(775)976-6794 x41206',\n",
       "  'website': 'conrad.com',\n",
       "  'company': {'name': 'Yost and Sons',\n",
       "   'catchPhrase': 'Switchable contextually-based project',\n",
       "   'bs': 'aggregate real-time technologies'}},\n",
       " {'id': 10,\n",
       "  'name': 'Clementina DuBuque',\n",
       "  'username': 'Moriah.Stanton',\n",
       "  'email': 'Rey.Padberg@karina.biz',\n",
       "  'address': {'street': 'Kattie Turnpike',\n",
       "   'suite': 'Suite 198',\n",
       "   'city': 'Lebsackbury',\n",
       "   'zipcode': '31428-2261',\n",
       "   'geo': {'lat': '-38.2386', 'lng': '57.2232'}},\n",
       "  'phone': '024-648-3804',\n",
       "  'website': 'ambrose.net',\n",
       "  'company': {'name': 'Hoeger LLC',\n",
       "   'catchPhrase': 'Centralized empowering task-force',\n",
       "   'bs': 'target end-to-end models'}}]"
      ]
     },
     "execution_count": 408,
     "metadata": {},
     "output_type": "execute_result"
    }
   ],
   "source": [
    ">>> import json\n",
    ">>> req = urllib.request.urlopen(\"https://jsonplaceholder.typicode.com/users\")\n",
    ">>> json.loads(req.read().decode('utf-8'))[:10]\n"
   ]
  },
  {
   "cell_type": "markdown",
   "metadata": {},
   "source": [
    "## Parsing XML (SAX)\n",
    "There is a package called xml that ships with Python.  In this package is a module called sax that contains a parser that makes use of the SAX library.  When using the sax parser the user defined call back methods are triggered for every XML element that the parser encounters.\n",
    "Here is an example of a sax handler class for  the album.xml file.\n",
    "import xml.sax,re"
   ]
  },
  {
   "cell_type": "code",
   "execution_count": 412,
   "metadata": {},
   "outputs": [],
   "source": [
    "import xml.sax\n",
    "class AlbumHandler(xml.sax.ContentHandler):\n",
    "    def startDocument(self):\n",
    "        print(\"starting document \\n\")\n",
    "        self.artists = {}\n",
    "        self.lastartist=''\n",
    "        self.currentTag=''\n",
    "        self.found = False\n",
    "    def startElement(self,tag,attributes):\n",
    "        print(\"found element %s \\n\" % tag)\n",
    "        self.currentTag = tag\n",
    "        if tag == 'album':\n",
    "            self.artists[self.lastartist].append(attributes.get('id'))\n",
    "    def characters(self,data):\n",
    "        if not re.search('^\\s*$',data):\n",
    "            print(\"found data : %s \\n\" % data)\n",
    "            if self.currentTag == 'artist':\n",
    "                self.artists[data] = []\n",
    "                self.lastartist = data\n",
    "    def endDocument(self):\n",
    "        print(self.artists.__repr__())"
   ]
  },
  {
   "cell_type": "code",
   "execution_count": null,
   "metadata": {},
   "outputs": [],
   "source": [
    "xml.sax.parseString(req.read().decode('utf-8'),AlbumHandler())"
   ]
  },
  {
   "cell_type": "markdown",
   "metadata": {},
   "source": [
    "## XML Element Tree\n",
    "The xml.etree.ElementTree module parses an XML file and creates a Python object tree structure representing the elements of the XML file."
   ]
  },
  {
   "cell_type": "markdown",
   "metadata": {},
   "source": [
    "```python\n",
    ">>> import xml.etree.ElementTree as ET\n",
    ">>> req = urllib.request.urlopen(\"http://leadingtraining.co.za/album.xml\")\n",
    ">>> tree=ET.parse(req)\n",
    ">>> root=tree.getroot()\n",
    ">>> for child in root:\n",
    "...    print(child.tag, child.attrib)\n",
    "... \n",
    "artist {}\n",
    "album {'id': '2000'}\n",
    "album {'id': '2001'}\n",
    "album {'id': '2003'}\n",
    "album {'id': '2006'}\n",
    "album {}\n",
    "```"
   ]
  },
  {
   "cell_type": "markdown",
   "metadata": {},
   "source": [
    "# GUI Programming\n",
    "There are various GUI toolkits to start with.\n",
    "\n",
    "## Tkinter\n",
    "Tkinter, a Python wrapper for Tcl/Tk, comes bundled with Python (at least on Win32 platform though it can be installed on Unix/Linux and Mac machines) and provides a cross-platform GUI. It is a relatively simple to learn yet powerful toolkit that provides what appears to be a modest set of widgets. However, because the Tkinter widgets are extensible, many compound widgets can be created rather easily (i.e. combo-box, scrolled panes). Because of its maturity and extensive documentation Tkinter has been designated as the de facto GUI for Python.\n",
    "A minimal application\n",
    "Here is a trivial Tkinter program containing only a Quit button:\n",
    "```python\n",
    "1.  #!/usr/local/bin/python\n",
    "2.  from Tkinter import *\t\t\t\t\n",
    "3.  class Application(Frame):\n",
    "4. \tdef __init__(self, master=None):\n",
    "5. \t\tFrame.__init__(self, master)\n",
    "6.\t\tself.createWidgets()\n",
    "7. \tdef createWidgets(self):\n",
    "8.\t\tself.quitButton = Button ( self, text='Quit',\n",
    "9.\t\t\t\t\t\tcommand=self.quit )\n",
    "10.\t\tself.quitButton.grid()\n",
    "11. app = Application()\n",
    "12. app.master.title(\"Sample application\") \n",
    "13. app.mainloop()\n",
    "```\n",
    "Explanation\n",
    "    1. Shebang\n",
    "    2. This line imports the entire Tkinter package into your program's namespace.\n",
    "    3. Your application class must inherit from Tkinter's Frame class.\n",
    "    4. App Constructor.\n",
    "    5. Calls the constructor for the parent class, Frame, which is necessary to make the application actually appear on the screen.\n",
    "    6. Calls createWidgets method\n",
    "    7. Defines createWidgets method\n",
    "    8. Creates a button labeled “Quit”.\n",
    "    9. Places the button on the application.\n",
    "    10. The main program starts here by instantiating the Application class.\n",
    "    11. This method call sets the title of the window to “Sample application”.\n",
    "    12. Starts the application's main loop, waiting for mouse and keyboard events.\n",
    "To learn more about Tkinter visit the following links:\n",
    "- http://www.astro.washington.edu/owen/TkinterSummary.html <- A summary\n",
    "- http://infohost.nmt.edu/tcc/help/lang/python/tkinter.html <- A tutorial\n",
    "- http://www.pythonware.com/library/tkinter/introduction/ <- A reference"
   ]
  },
  {
   "cell_type": "markdown",
   "metadata": {},
   "source": [
    "## PyGTK\n",
    "PyGTK provides a convenient wrapper for the GTK+ library for use in Python programs, taking care of many of the boring details such as managing memory and type casting. The bare GTK+ toolkit runs on Linux, Windows, and Mac OS X (port in progress), but the more extensive features — when combined with PyORBit and gnome-python — require a GNOME install, and can be used to write full featured GNOME applications.\n",
    "Home Page\n",
    "PyQt\n",
    "PyQt is a wrapper around the cross-platform Qt C++ toolkit. It has many widgets and support classes supporting SQL, OpenGL, SVG, XML, and advanced graphics capabilities. A PyQt hello world example:\n",
    "```python\n",
    "from PyQt4.QtCore import *\n",
    "from PyQt4.QtGui import *\n",
    " \n",
    "class App(QApplication):\n",
    "    def __init__(self, argv):\n",
    "        super(App, self).__init__(argv)\n",
    "        self.msg = QLabel(\"Hello, World!\")\n",
    "        self.msg.show()\n",
    " \n",
    "if __name__ == \"__main__\":\n",
    "    import sys\n",
    "    app = App(sys.argv)\n",
    "    sys.exit(app.exec_)\n",
    "```"
   ]
  },
  {
   "cell_type": "markdown",
   "metadata": {},
   "source": [
    "## PyQT\n",
    "PyQt is a set of bindings for the cross-platform Qt application framework. PyQt v4 supports Qt4 and PyQt v3 supports Qt3 and earlier.\n",
    "wxPython\n",
    "Bindings for the cross platform toolkit wxWidgets. WxWidgets is available on Windows, Macintosh, and Unix/Linux.\n",
    "```python\n",
    "import wx\n",
    " \n",
    "class test(wx.App):\n",
    "    def __init__(self):\n",
    "        wx.App.__init__(self, redirect=False)\n",
    " \n",
    "    def OnInit(self):\n",
    "        frame = wx.Frame(None, -1,\n",
    "                         \"Test\",\n",
    "                         pos=(50,50), size=(100,40),\n",
    "                         style=wx.DEFAULT_FRAME_STYLE)\n",
    "        button = wx.Button(frame, -1, \"Hello World!\", (20, 20))\n",
    "        self.frame = frame\n",
    "        self.frame.Show()\n",
    "        return True\n",
    " \n",
    "if __name__ == '__main__':\n",
    "        app = test()\n",
    "        app.MainLoop()\n",
    "```"
   ]
  },
  {
   "cell_type": "markdown",
   "metadata": {},
   "source": [
    "# Sockets\n",
    "\n",
    "## HTTP Client\n",
    "Make a very simple HTTP client"
   ]
  },
  {
   "cell_type": "markdown",
   "metadata": {},
   "source": [
    "import socket\n",
    "s = socket.socket()\n",
    "s.connect(('localhost', 80))\n",
    "s.send('GET / HTTP/1.1\\nHost:localhost\\n\\n')\n",
    "s.recv(40000) # receive 40000 bytes"
   ]
  },
  {
   "cell_type": "markdown",
   "metadata": {},
   "source": [
    "## NTP/Sockets\n",
    "Connecting to and reading an NTP time server, returning the time as follows\n",
    "```\n",
    "ntpps       picoseconds portion of time\n",
    "ntps        seconds portion of time\n",
    "ntpms       milliseconds portion of time\n",
    "ntpt        64-bit ntp time, seconds in upper 32-bits, picoseconds in lower 32-bits\n",
    "```\n",
    "```python\n",
    "import socket\n",
    " \n",
    "BLOCKING = 1            # 0 = non blocking, 1 = blocking\n",
    "NONBLOCKING = 0         # 0 = non blocking, 1 = blocking\n",
    "TIME1970            = 2208988800L      # Thanks to F.Lundh\n",
    "NTPPORT             = 123\n",
    "MAXLEN              = 1024\n",
    "NTPSERVER           = ('time.apple.com')\n",
    "SKTRDRETRYCOUNT         = 2\n",
    "SKTRDRETRYDLY           = 0.01\n",
    " \n",
    "#***************************************************\n",
    "## opensocket(servername, port, blocking) \\n\n",
    "# opens a socket at ip address \"servername\"\n",
    "\n",
    "# \\arg servername = ip address to open a socket to\n",
    "# \\arg port = port number to use\n",
    "# ntp uses dgram sockets instead of stream\n",
    "def opensocket(ipaddr, port, mode):\n",
    "    # create the socket\n",
    "    skt = socket.socket(socket.AF_INET, socket.SOCK_DGRAM)\n",
    " \n",
    "    # open the socket\n",
    "    try:\n",
    "        skt.connect((ipaddr, port))\n",
    "    except socket.error, e:\n",
    "        print \"Failed to connect to server %s %d %d\" % (ipaddr, port, mode)\n",
    "        print \"Error %s\" % (e.args[0])\n",
    "        print \"Goodbye...\"\n",
    "        sys.exit()\n",
    " \n",
    "    # set the blocking mode (0=nonblocking, 1=blocking)\n",
    "    try:\n",
    "        skt.setblocking(mode)\n",
    "    except socket.error, e:\n",
    "        print \"Failed to set socket blocking mode for %s %d %d\" %(ipaddr, port, mode)\n",
    "        print \"Error %s\" % (e.args[0])\n",
    "        print \"Goodbye...\"\n",
    "        sys.exit()\n",
    " \n",
    "    return(skt)\n",
    " \n",
    "#***************************************************\n",
    "##\n",
    "# we should get 12 long words back in network order \\n\n",
    "# the 10th word is the transmit time (seconds since UT 1900-Jan-01 \\n\n",
    "# I = unsigned long integer \\n\n",
    "# ! = network (big endian) ordering\n",
    "# \\arg \\c \\b ntpsocket, the socket handle to connect to\n",
    "# \\arg \\c \\b msg, the message to send to the ntp server\n",
    "def getntptime(ntpsocket, msg, servername):\n",
    "    ntpsocket.send(msg)\n",
    " \n",
    "    rtrycnt = 0\n",
    "    data = 0\n",
    "    while (data == 0) & (rtrycnt < SKTRDRETRYCOUNT):\n",
    "        try:\n",
    "            data = ntpsocket.recv(MAXLEN)\n",
    "        except socket.error, e:\n",
    "            rtrycnt += 1\n",
    "            print \"Error reading non-blocking socket, retries = %s, server = %s\" %(rtrycnt, servername)\n",
    "            time.sleep(SKTRDRETRYDLY)       # don't retry too often\n",
    " \n",
    "    # check and see if we got valid data back\n",
    "    if data:\n",
    "        ntps = unpack('!12I', data)[10]\n",
    "        ntpps = unpack('!12I', data)[11]\n",
    "        if ntps == 0:\n",
    "            print \"Error: NTP, invalid response, goodbye...\"\n",
    "            sys.exit()\n",
    "    else:\n",
    "        print \"Error: NTP, no data returned, goodbye...\"\n",
    "        sys.exit()\n",
    " \n",
    "    ntpms = ntpps/5000000L                  # 1ms/200ps, we want ms\n",
    "    ntpt = (ntps << 32) + ntpps\n",
    "\n",
    "    return (ntpsocket, ntps, ntpps, ntpms, ntpt)\n",
    "```"
   ]
  },
  {
   "cell_type": "markdown",
   "metadata": {},
   "source": [
    "# Files\n",
    "## File I/O\n",
    "Read entire file:\n",
    "```python\n",
    "inputFileText = open(\"testit.txt\", \"r\").read()\n",
    "print(inputFileText)\n",
    "```\n",
    "In this case the \"r\" parameter means the file will be opened in read-only mode.\n",
    "Read certain amount of bytes from a file:\n",
    "```python\n",
    "inputFileText = open(\"testit.txt\", \"r\").read(123)\n",
    "print(inputFileText)\n",
    "```\n",
    "When opening a file, one starts reading at the beginning of the file, if one would want more random access to the file, it is possible to use seek() to change the current position in a file and tell() to get to know the current position in the file. This is illustrated in the following example:\n",
    "```python\n",
    ">>> f=open(\"/proc/cpuinfo\",\"r\")\n",
    ">>> f.tell()\n",
    "0L\n",
    ">>> f.read(10)\n",
    "'processor\\t'\n",
    ">>> f.read(10)\n",
    "': 0\\nvendor'\n",
    ">>> f.tell()\n",
    "20L\n",
    ">>> f.seek(10)\n",
    ">>> f.tell()\n",
    "10L\n",
    ">>> f.read(10)\n",
    "': 0\\nvendor'\n",
    ">>> f.close()\n",
    ">>> f\n",
    "<closed file '/proc/cpuinfo', mode 'r' at 0xb7d79770>\n",
    "```"
   ]
  },
  {
   "cell_type": "markdown",
   "metadata": {},
   "source": [
    "Here a file is opened, twice ten bytes are read, `tell()` shows that the current offset is at position 20, now `seek()` is used to go back to position 10 (the same position where the second read was started) and ten bytes are read and printed again. And when no more operations on a file are needed the `close()` function is used to close the file we opened."
   ]
  },
  {
   "cell_type": "markdown",
   "metadata": {},
   "source": [
    "## Read one line at a time:\n",
    "```python\n",
    "for line in open(\"testit.txt\", \"r\").readlines():\n",
    "    print(line)\n",
    "```\n",
    "In this case `readlines()` will return an array containing the individual lines of the file as array entries. Reading a single line can be done using the `readline()` function which returns the current line as a string. This example will output an additional newline between the individual lines of the file, this is because one is read from the file and print introduces another newline."
   ]
  },
  {
   "cell_type": "markdown",
   "metadata": {},
   "source": [
    "## Writing\n",
    "Write to a file requires the second parameter of `open()` to be \"w\", this will overwrite the existing contents of the file if it already exists when opening the file:\n",
    "```python\n",
    "outputFileText = \"Here's some text to save in a file\"\n",
    "open(\"testit.txt\", \"w\").write(outputFileText)\n",
    "```\n",
    "Append to a file requires the second parameter of `open()` to be \"a\" (from append):\n",
    "```python\n",
    "outputFileText = \"Here's some text to add to the existing file.\"\n",
    "open(\"testit.txt\", \"a\").write(outputFileText)\n",
    "```\n",
    "Note that this does not add a line break between the existing file content and the string to be added."
   ]
  },
  {
   "cell_type": "markdown",
   "metadata": {},
   "source": [
    "## Testing Files\n",
    "Determine whether path exists:\n",
    "```python\n",
    "import os\n",
    "os.path.exists('<path string>')\n",
    "```\n",
    "When working on systems such as Microsoft Windows(tm), the directory separators will conflict with the path string. To get around this, do the following:\n",
    "```python\n",
    "import os\n",
    "os.path.exists('C:\\\\windows\\\\example\\\\path')\n",
    "```\n",
    "A better way however is to use \"raw\", or r:\n",
    "```python\n",
    "import os\n",
    "os.path.exists(r'C:\\windows\\example\\path')\n",
    "```\n",
    "But there are some other convenient functions in os.path, where path.code.exists() only confirms whether or not path exists, there are functions which let you know if the path is a file, a directory, a mount point or a symlink. There is even a function os.path.realpath() which reveals the true destination of a symlink:"
   ]
  },
  {
   "cell_type": "code",
   "execution_count": 414,
   "metadata": {},
   "outputs": [
    {
     "data": {
      "text/plain": [
       "False"
      ]
     },
     "execution_count": 414,
     "metadata": {},
     "output_type": "execute_result"
    }
   ],
   "source": [
    ">>> import os\n",
    ">>> os.path.isfile(\"/\")"
   ]
  },
  {
   "cell_type": "code",
   "execution_count": 415,
   "metadata": {},
   "outputs": [
    {
     "data": {
      "text/plain": [
       "False"
      ]
     },
     "execution_count": 415,
     "metadata": {},
     "output_type": "execute_result"
    }
   ],
   "source": [
    ">>> os.path.isfile(\"/proc/cpuinfo\")"
   ]
  },
  {
   "cell_type": "code",
   "execution_count": 416,
   "metadata": {},
   "outputs": [
    {
     "data": {
      "text/plain": [
       "True"
      ]
     },
     "execution_count": 416,
     "metadata": {},
     "output_type": "execute_result"
    }
   ],
   "source": [
    ">>> os.path.isdir(\"/\")"
   ]
  },
  {
   "cell_type": "code",
   "execution_count": null,
   "metadata": {},
   "outputs": [],
   "source": [
    ">>> os.path.isdir(\"/proc/cpuinfo\")"
   ]
  },
  {
   "cell_type": "code",
   "execution_count": null,
   "metadata": {},
   "outputs": [],
   "source": [
    ">>> os.path.ismount(\"/\")"
   ]
  },
  {
   "cell_type": "code",
   "execution_count": null,
   "metadata": {},
   "outputs": [],
   "source": [
    ">>> os.path.islink(\"/\")"
   ]
  },
  {
   "cell_type": "code",
   "execution_count": null,
   "metadata": {},
   "outputs": [],
   "source": [
    ">>> os.path.islink(\"/vmlinuz\")"
   ]
  },
  {
   "cell_type": "markdown",
   "metadata": {},
   "source": [
    "```python\n",
    ">>> os.path.realpath(\"/vmlinuz\")\n",
    "'/boot/vmlinuz-2.6.24-21-generic'\n",
    "```"
   ]
  },
  {
   "cell_type": "markdown",
   "metadata": {},
   "source": [
    "## Common File Operations\n",
    "To copy or move a file, use the shutil library.\n",
    "```python\n",
    "import shutil\n",
    "shutil.move(\"originallocation.txt\",\"newlocation.txt\")\n",
    "shutil.copy(\"original.txt\",\"copy.txt\")\n",
    "```\n",
    "To perform a recursive copy it is possible to use copytree(), to perform a recursive remove it is possible to use rmtree()\n",
    "```python\n",
    "shutil.copytree(\"dir1\",\"dir2\")\n",
    "shutil.rmtree(\"dir1\")\n",
    "```\n",
    "To remove an individual file there exists the remove() function in the os module:\n",
    "```python\n",
    "os.remove(\"file.txt\")\n",
    "```"
   ]
  },
  {
   "cell_type": "markdown",
   "metadata": {},
   "source": [
    "# Database Programming\n",
    "## SQLite\n",
    "SQLite is a C library that provides a lightweight disk-based database that doesn’t require a separate server process and allows accessing the database using a nonstandard variant of the SQL query language. Some applications can use SQLite for internal data storage. It’s also possible to prototype an application using SQLite and then port the code to a larger database such as PostgreSQL or Oracle.\n",
    "\n",
    "The sqlite3 module was written by Gerhard Häring. It provides a SQL interface compliant with the DB-API 2.0 specification described by PEP 249.\n",
    "To use the module, you must first create a Connection object that represents the database. Here the data will be stored in the example.db file:\n",
    "```python\n",
    "import sqlite3\n",
    "con = sqlite3.connect('test.db')\n",
    "```\n",
    "You can also supply the special name `:memory:` to create a database in RAM.\n",
    "Once you have a Connection, you can create a Cursor object and call its `execute()` method to perform SQL commands:"
   ]
  },
  {
   "cell_type": "code",
   "execution_count": null,
   "metadata": {},
   "outputs": [],
   "source": [
    "import sqlite3 as db                                           \n",
    "con = db.connect('test.db')                                    \n",
    "cur = con.cursor()\n",
    "#create a string with sql create table code\n",
    "sql = '''CREATE TABLE users(                                   \n",
    "            id INT PRIMARY KEY,  \n",
    "           username VARCHAR(64),  \n",
    "            password VARCHAR(64))'''\n",
    "#execute the sql code\n",
    "cur.execute(sql)"
   ]
  },
  {
   "cell_type": "code",
   "execution_count": null,
   "metadata": {},
   "outputs": [],
   "source": [
    "#an insert rows into the table using a parameterised tables\n",
    "sql = '''INSERT INTO users\n",
    "         VALUES (?,?,?)'''\n",
    "#execute the query with one row\n",
    "cur.execute(sql,[44,'Billy','1234'])\n",
    "#execute many rows as a list of tuples\n",
    "cur.executemany(sql,[(55,'AA','1'),(56,'BB','2')])\n",
    "#sqlite does not auto commit\n",
    "con.commit()\n",
    "sql = \"SELECT * FROM users\"\n",
    "cur.execute(sql)\n",
    "print(cur.fetchall())"
   ]
  },
  {
   "cell_type": "markdown",
   "metadata": {},
   "source": [
    "## Postgres connection in Python"
   ]
  },
  {
   "cell_type": "code",
   "execution_count": null,
   "metadata": {},
   "outputs": [],
   "source": [
    "import psycopg2\n",
    "conn = psycopg2.connect(\"dbname=test\")\n",
    "cursor = conn.cursor()\n",
    "cursor.execute(\"select * from test\");\n",
    "for i in cursor.next():\n",
    "    print(i)\n",
    "conn.close()"
   ]
  },
  {
   "cell_type": "markdown",
   "metadata": {},
   "source": [
    "## SQLAlchemy in Action\n",
    "SQLAlchemy has become the favorite choice for many large Python projects that use databases. A long, updated list of such projects is listed on the SQLAlchemy site. Additionally, a pretty good tutorial can be found there, as well. Along with a thin database wrapper, Elixir, it behaves very similarly to the ORM in Rails, ActiveRecord.\n",
    "\n",
    "## Generic Database Connectivity using ODBC\n",
    "The Open Database Connectivity (ODBC) API standard allows transparent connections with any database that supports the interface. This includes most popular databases, such as PostgreSQL or Microsoft Access. The strengths of using this interface is that a Python script or module can be used on different databases by only modifying the connection string.\n",
    "\n",
    "There are three ODBC modules for Python:\n",
    "    1. PythonWin ODBC Module: provided by Mark Hammond with the PythonWin package for Microsoft Windows (only). This is a minimal implementation of ODBC, and conforms to Version 1.0 of the Python Database API. Although it is stable, it will likely not be developed any further.[3] \n",
    "    2. mxODBC: a commercial Python package (http://www.egenix.com/products/python/mxODBC/), which features handling of DateTime objects and prepared statements (using parameters). \n",
    "    3. pyodbc: an open-source Python package (http://code.google.com/p/pyodbc), which uses only native Python data-types and uses prepared statements for increased performance. The present version supports the Python Database API Specification v2.0.[4] \n",
    "    \n",
    "pyodbc\n",
    "An example using the pyodbc Python package with a Microsoft Access file (although this database connection could just as easily be a MySQL database):"
   ]
  },
  {
   "cell_type": "code",
   "execution_count": null,
   "metadata": {},
   "outputs": [],
   "source": [
    "import pyodbc\n",
    " \n",
    "DBfile = '/data/MSAccess/Music_Library.mdb'\n",
    "conn = pyodbc.connect('DRIVER={Microsoft Access Driver (*.mdb)};DBQ='+DBfile, autocommit=True)\n",
    "cursor = conn.cursor()\n",
    " \n",
    "SQL = 'SELECT Artist, AlbumName FROM RecordCollection ORDER BY Year'\n",
    "cursor.execute(SQL)\n",
    "for row in cursor: # cursors are iterable\n",
    "    print row.Artist, row.AlbumName\n",
    " \n",
    "cursor.close()\n",
    "conn.close()"
   ]
  },
  {
   "cell_type": "markdown",
   "metadata": {},
   "source": [
    "Many more features and examples are provided on the pyodbc website."
   ]
  },
  {
   "cell_type": "markdown",
   "metadata": {},
   "source": [
    "# Appendix \n",
    "Licence\n",
    "\n",
    "GNU Free Documentation License\n",
    "\n",
    "Version 1.2, November 2002\n",
    "Copyright (C) 2000,2001,2002  Free Software Foundation, Inc.\n",
    "51 Franklin St, Fifth Floor, Boston, MA  02110-1301  USA\n",
    "Everyone is permitted to copy and distribute verbatim copies\n",
    "of this license document, but changing it is not allowed.\n",
    "\n",
    "0. PREAMBLE\n",
    "The purpose of this License is to make a manual, textbook, or other functional and useful document \"free\" in the sense of freedom: to assure everyone the effective freedom to copy and redistribute it, with or without modifying it, either commercially or noncommercially. Secondarily, this License preserves for the author and publisher a way to get credit for their work, while not being considered responsible for modifications made by others.\n",
    "This License is a kind of \"copyleft\", which means that derivative works of the document must themselves be free in the same sense. It complements the GNU General Public License, which is a copyleft license designed for free software.\n",
    "We have designed this License in order to use it for manuals for free software, because free software needs free documentation: a free program should come with manuals providing the same freedoms that the software does. But this License is not limited to software manuals; it can be used for any textual work, regardless of subject matter or whether it is published as a printed book. We recommend this License principally for works whose purpose is instruction or reference.\n",
    "1. APPLICABILITY AND DEFINITIONS\n",
    "This License applies to any manual or other work, in any medium, that contains a notice placed by the copyright holder saying it can be distributed under the terms of this License. Such a notice grants a world-wide, royalty-free license, unlimited in duration, to use that work under the conditions stated herein. The \"Document\", below, refers to any such manual or work. Any member of the public is a licensee, and is addressed as \"you\". You accept the license if you copy, modify or distribute the work in a way requiring permission under copyright law.\n",
    "A \"Modified Version\" of the Document means any work containing the Document or a portion of it, either copied verbatim, or with modifications and/or translated into another language.\n",
    "A \"Secondary Section\" is a named appendix or a front-matter section of the Document that deals exclusively with the relationship of the publishers or authors of the Document to the Document's overall subject (or to related matters) and contains nothing that could fall directly within that overall subject. (Thus, if the Document is in part a textbook of mathematics, a Secondary Section may not explain any mathematics.) The relationship could be a matter of historical connection with the subject or with related matters, or of legal, commercial, philosophical, ethical or political position regarding them.\n",
    "The \"Invariant Sections\" are certain Secondary Sections whose titles are designated, as being those of Invariant Sections, in the notice that says that the Document is released under this License. If a section does not fit the above definition of Secondary then it is not allowed to be designated as Invariant. The Document may contain zero Invariant Sections. If the Document does not identify any Invariant Sections then there are none.\n",
    "The \"Cover Texts\" are certain short passages of text that are listed, as Front-Cover Texts or Back-Cover Texts, in the notice that says that the Document is released under this License. A Front-Cover Text may be at most 5 words, and a Back-Cover Text may be at most 25 words.\n",
    "A \"Transparent\" copy of the Document means a machine-readable copy, represented in a format whose specification is available to the general public, that is suitable for revising the document straightforwardly with generic text editors or (for images composed of pixels) generic paint programs or (for drawings) some widely available drawing editor, and that is suitable for input to text formatters or for automatic translation to a variety of formats suitable for input to text formatters. A copy made in an otherwise Transparent file format whose markup, or absence of markup, has been arranged to thwart or discourage subsequent modification by readers is not Transparent. An image format is not Transparent if used for any substantial amount of text. A copy that is not \"Transparent\" is called \"Opaque\".\n",
    "Examples of suitable formats for Transparent copies include plain ASCII without markup, Texinfo input format, LaTeX input format, SGML or XML using a publicly available DTD, and standard-conforming simple HTML, PostScript or PDF designed for human modification. Examples of transparent image formats include PNG, XCF and JPG. Opaque formats include proprietary formats that can be read and edited only by proprietary word processors, SGML or XML for which the DTD and/or processing tools are not generally available, and the machine-generated HTML, PostScript or PDF produced by some word processors for output purposes only.\n",
    "The \"Title Page\" means, for a printed book, the title page itself, plus such following pages as are needed to hold, legibly, the material this License requires to appear in the title page. For works in formats which do not have any title page as such, \"Title Page\" means the text near the most prominent appearance of the work's title, preceding the beginning of the body of the text.\n",
    "A section \"Entitled XYZ\" means a named subunit of the Document whose title either is precisely XYZ or contains XYZ in parentheses following text that translates XYZ in another language. (Here XYZ stands for a specific section name mentioned below, such as \"Acknowledgements\", \"Dedications\", \"Endorsements\", or \"History\".) To \"Preserve the Title\" of such a section when you modify the Document means that it remains a section \"Entitled XYZ\" according to this definition.\n",
    "The Document may include Warranty Disclaimers next to the notice which states that this License applies to the Document. These Warranty Disclaimers are considered to be included by reference in this License, but only as regards disclaiming warranties: any other implication that these Warranty Disclaimers may have is void and has no effect on the meaning of this License.\n",
    "2. VERBATIM COPYING\n",
    "You may copy and distribute the Document in any medium, either commercially or noncommercially, provided that this License, the copyright notices, and the license notice saying this License applies to the Document are reproduced in all copies, and that you add no other conditions whatsoever to those of this License. You may not use technical measures to obstruct or control the reading or further copying of the copies you make or distribute. However, you may accept compensation in exchange for copies. If you distribute a large enough number of copies you must also follow the conditions in section 3.\n",
    "You may also lend copies, under the same conditions stated above, and you may publicly display copies.\n",
    "3. COPYING IN QUANTITY\n",
    "If you publish printed copies (or copies in media that commonly have printed covers) of the Document, numbering more than 100, and the Document's license notice requires Cover Texts, you must enclose the copies in covers that carry, clearly and legibly, all these Cover Texts: Front-Cover Texts on the front cover, and Back-Cover Texts on the back cover. Both covers must also clearly and legibly identify you as the publisher of these copies. The front cover must present the full title with all words of the title equally prominent and visible. You may add other material on the covers in addition. Copying with changes limited to the covers, as long as they preserve the title of the Document and satisfy these conditions, can be treated as verbatim copying in other respects.\n",
    "If the required texts for either cover are too voluminous to fit legibly, you should put the first ones listed (as many as fit reasonably) on the actual cover, and continue the rest onto adjacent pages.\n",
    "If you publish or distribute Opaque copies of the Document numbering more than 100, you must either include a machine-readable Transparent copy along with each Opaque copy, or state in or with each Opaque copy a computer-network location from which the general network-using public has access to download using public-standard network protocols a complete Transparent copy of the Document, free of added material. If you use the latter option, you must take reasonably prudent steps, when you begin distribution of Opaque copies in quantity, to ensure that this Transparent copy will remain thus accessible at the stated location until at least one year after the last time you distribute an Opaque copy (directly or through your agents or retailers) of that edition to the public.\n",
    "It is requested, but not required, that you contact the authors of the Document well before redistributing any large number of copies, to give them a chance to provide you with an updated version of the Document.\n",
    "4. MODIFICATIONS\n",
    "You may copy and distribute a Modified Version of the Document under the conditions of sections 2 and 3 above, provided that you release the Modified Version under precisely this License, with the Modified Version filling the role of the Document, thus licensing distribution and modification of the Modified Version to whoever possesses a copy of it. In addition, you must do these things in the Modified Version:\n",
    "A. Use in the Title Page (and on the covers, if any) a title distinct from that of the Document, and from those of previous versions (which should, if there were any, be listed in the History section of the Document). You may use the same title as a previous version if the original publisher of that version gives permission. \n",
    "B. List on the Title Page, as authors, one or more persons or entities responsible for authorship of the modifications in the Modified Version, together with at least five of the principal authors of the Document (all of its principal authors, if it has fewer than five), unless they release you from this requirement. \n",
    "C. State on the Title page the name of the publisher of the Modified Version, as the publisher. \n",
    "D. Preserve all the copyright notices of the Document. \n",
    "E. Add an appropriate copyright notice for your modifications adjacent to the other copyright notices. \n",
    "F. Include, immediately after the copyright notices, a license notice giving the public permission to use the Modified Version under the terms of this License, in the form shown in the Addendum below. \n",
    "G. Preserve in that license notice the full lists of Invariant Sections and required Cover Texts given in the Document's license notice. \n",
    "H. Include an unaltered copy of this License. \n",
    "I. Preserve the section Entitled \"History\", Preserve its Title, and add to it an item stating at least the title, year, new authors, and publisher of the Modified Version as given on the Title Page. If there is no section Entitled \"History\" in the Document, create one stating the title, year, authors, and publisher of the Document as given on its Title Page, then add an item describing the Modified Version as stated in the previous sentence. \n",
    "J. Preserve the network location, if any, given in the Document for public access to a Transparent copy of the Document, and likewise the network locations given in the Document for previous versions it was based on. These may be placed in the \"History\" section. You may omit a network location for a work that was published at least four years before the Document itself, or if the original publisher of the version it refers to gives permission. \n",
    "K. For any section Entitled \"Acknowledgements\" or \"Dedications\", Preserve the Title of the section, and preserve in the section all the substance and tone of each of the contributor acknowledgements and/or dedications given therein. \n",
    "L. Preserve all the Invariant Sections of the Document, unaltered in their text and in their titles. Section numbers or the equivalent are not considered part of the section titles. \n",
    "M. Delete any section Entitled \"Endorsements\". Such a section may not be included in the Modified Version. \n",
    "N. Do not retitle any existing section to be Entitled \"Endorsements\" or to conflict in title with any Invariant Section. \n",
    "O. Preserve any Warranty Disclaimers. \n",
    "If the Modified Version includes new front-matter sections or appendices that qualify as Secondary Sections and contain no material copied from the Document, you may at your option designate some or all of these sections as invariant. To do this, add their titles to the list of Invariant Sections in the Modified Version's license notice. These titles must be distinct from any other section titles.\n",
    "You may add a section Entitled \"Endorsements\", provided it contains nothing but endorsements of your Modified Version by various parties--for example, statements of peer review or that the text has been approved by an organization as the authoritative definition of a standard.\n",
    "You may add a passage of up to five words as a Front-Cover Text, and a passage of up to 25 words as a Back-Cover Text, to the end of the list of Cover Texts in the Modified Version. Only one passage of Front-Cover Text and one of Back-Cover Text may be added by (or through arrangements made by) any one entity. If the Document already includes a cover text for the same cover, previously added by you or by arrangement made by the same entity you are acting on behalf of, you may not add another; but you may replace the old one, on explicit permission from the previous publisher that added the old one.\n",
    "The author(s) and publisher(s) of the Document do not by this License give permission to use their names for publicity for or to assert or imply endorsement of any Modified Version.\n",
    "5. COMBINING DOCUMENTS\n",
    "You may combine the Document with other documents released under this License, under the terms defined in section 4 above for modified versions, provided that you include in the combination all of the Invariant Sections of all of the original documents, unmodified, and list them all as Invariant Sections of your combined work in its license notice, and that you preserve all their Warranty Disclaimers.\n",
    "The combined work need only contain one copy of this License, and multiple identical Invariant Sections may be replaced with a single copy. If there are multiple Invariant Sections with the same name but different contents, make the title of each such section unique by adding at the end of it, in parentheses, the name of the original author or publisher of that section if known, or else a unique number. Make the same adjustment to the section titles in the list of Invariant Sections in the license notice of the combined work.\n",
    "In the combination, you must combine any sections Entitled \"History\" in the various original documents, forming one section Entitled \"History\"; likewise combine any sections Entitled \"Acknowledgements\", and any sections Entitled \"Dedications\". You must delete all sections Entitled \"Endorsements.\"\n",
    "6. COLLECTIONS OF DOCUMENTS\n",
    "You may make a collection consisting of the Document and other documents released under this License, and replace the individual copies of this License in the various documents with a single copy that is included in the collection, provided that you follow the rules of this License for verbatim copying of each of the documents in all other respects.\n",
    "You may extract a single document from such a collection, and distribute it individually under this License, provided you insert a copy of this License into the extracted document, and follow this License in all other respects regarding verbatim copying of that document.\n",
    "7. AGGREGATION WITH INDEPENDENT WORKS\n",
    "A compilation of the Document or its derivatives with other separate and independent documents or works, in or on a volume of a storage or distribution medium, is called an \"aggregate\" if the copyright resulting from the compilation is not used to limit the legal rights of the compilation's users beyond what the individual works permit. When the Document is included in an aggregate, this License does not apply to the other works in the aggregate which are not themselves derivative works of the Document.\n",
    "If the Cover Text requirement of section 3 is applicable to these copies of the Document, then if the Document is less than one half of the entire aggregate, the Document's Cover Texts may be placed on covers that bracket the Document within the aggregate, or the electronic equivalent of covers if the Document is in electronic form. Otherwise they must appear on printed covers that bracket the whole aggregate.\n",
    "8. TRANSLATION\n",
    "Translation is considered a kind of modification, so you may distribute translations of the Document under the terms of section 4. Replacing Invariant Sections with translations requires special permission from their copyright holders, but you may include translations of some or all Invariant Sections in addition to the original versions of these Invariant Sections. You may include a translation of this License, and all the license notices in the Document, and any Warranty Disclaimers, provided that you also include the original English version of this License and the original versions of those notices and disclaimers. In case of a disagreement between the translation and the original version of this License or a notice or disclaimer, the original version will prevail.\n",
    "If a section in the Document is Entitled \"Acknowledgements\", \"Dedications\", or \"History\", the requirement (section 4) to Preserve its Title (section 1) will typically require changing the actual title.\n",
    "9. TERMINATION\n",
    "You may not copy, modify, sublicense, or distribute the Document except as expressly provided for under this License. Any other attempt to copy, modify, sublicense or distribute the Document is void, and will automatically terminate your rights under this License. However, parties who have received copies, or rights, from you under this License will not have their licenses terminated so long as such parties remain in full compliance.\n",
    "10. FUTURE REVISIONS OF THIS LICENSE\n",
    "The Free Software Foundation may publish new, revised versions of the GNU Free Documentation License from time to time. Such new versions will be similar in spirit to the present version, but may differ in detail to address new problems or concerns. See http://www.gnu.org/copyleft/.\n",
    "Each version of the License is given a distinguishing version number. If the Document specifies that a particular numbered version of this License \"or any later version\" applies to it, you have the option of following the terms and conditions either of that specified version or of any later version that has been published (not as a draft) by the Free Software Foundation. If the Document does not specify a version number of this License, you may choose any version ever published (not as a draft) by the Free Software Foundation."
   ]
  }
 ],
 "metadata": {
  "kernelspec": {
   "display_name": "Python 3",
   "language": "python",
   "name": "python3"
  },
  "language_info": {
   "codemirror_mode": {
    "name": "ipython",
    "version": 3
   },
   "file_extension": ".py",
   "mimetype": "text/x-python",
   "name": "python",
   "nbconvert_exporter": "python",
   "pygments_lexer": "ipython3",
   "version": "3.7.3"
  }
 },
 "nbformat": 4,
 "nbformat_minor": 2
}
