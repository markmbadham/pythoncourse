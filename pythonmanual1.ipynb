{
 "cells": [
  {
   "cell_type": "markdown",
   "metadata": {},
   "source": [
    "# Python Programing\n",
    "\n",
    "M. M. Badham Leading Edge Business Solutions (Pty) Ltd\n",
    "\n",
    "Derived From\n",
    "http://en.wikibooks.org/wiki/Python_Programming\n",
    "\n",
    "GNU Free Documentation License\n"
   ]
  },
  {
   "cell_type": "markdown",
   "metadata": {},
   "source": [
    "# Overview\n",
    "\n",
    "## Python is high-level\n",
    "\n",
    "Python is a high-level, structured, open-source programming language that can be used for a wide variety of programming tasks. It is good for simple quick-and-dirty scripts, as well as complex and intricate applications.\n",
    "It is also a dynamically typed language that includes (but does not require one to use) object oriented features and constructs.  Python supports many other programming paradigms including functional programming and aspect oriented programming. \n",
    "Implementations\n",
    "\n",
    "Python refers to programming language specification rather than an implementation.  The reference implementation for Python is called *CPython*.  *CPython* (written in C), behaves like an interpreter but in fact automatically compiles the Python code to byte-code before execution (the byte-code  then may be saved to disk, just as automatically, so that compilation need not happen again until and unless the source gets changed). \n",
    "Other popular implementations of Python include *IronPython* and *Jython*.  IronPython creates CIL byte code for the dot net runtime environment, and thus can use dot net classes.  Jython compiles to Java Byte code and similarly can use Java Classes."
   ]
  },
  {
   "cell_type": "markdown",
   "metadata": {},
   "source": [
    "## Versions\n",
    "\n",
    "There are two current versions of Python - 2.7 and 3.3.  This is because Python 3x is not compatible with Python 2x.  Most software projects are still based on Python 2x.  The most obvious difference you will notice between Python 2x and Python 3x is that print is a statement in 2x and a function in 3x.   "
   ]
  },
  {
   "cell_type": "markdown",
   "metadata": {},
   "source": [
    "## Easy to learn\n",
    "\n",
    "Python supports reflection and introspection. The `dir()` function returns the list of the names of objects in the current scope. However, `dir(object)` will return the names of the attributes of the specified object. The `locals()` routine returns a dictionary in which the names in the local namespace are the keys and their values are the objects to which the names refer. Combined with the interactive interpreter, this provides a useful environment for exploration and prototyping.\n",
    "\n",
    "The  `help()` command also provides information on how to use objects.\n",
    "The most unusual aspect of Python is that whitespace is significant; instead of block delimiters (braces → \"`{}`\" in the C family of languages).  Indentation is used to indicate where blocks begin and end.\n",
    "For example, the following Python code can be interactively typed at an interpreter prompt, to display the beginning values in the Fibonacci series:"
   ]
  },
  {
   "cell_type": "code",
   "execution_count": 224,
   "metadata": {},
   "outputs": [
    {
     "name": "stdout",
     "output_type": "stream",
     "text": [
      "1\n",
      "1 2 3 5 8 13 21 34 55 89 144 "
     ]
    }
   ],
   "source": [
    ">>> a,b = 0,1\n",
    ">>> print(b)\n",
    "1\n",
    ">>> while b < 100:\n",
    "...   a,b = b,(a+b)\n",
    "...   print(b, end=\" \")\n",
    "... "
   ]
  },
  {
   "cell_type": "markdown",
   "metadata": {},
   "source": [
    "## Batteries included!\n",
    "Python provides a powerful assortment of built-in types (e.g., lists, dictionaries and strings), a number of built-in functions, and a few constructs, mostly statements. For example, loop constructs that can iterate over items in a collection instead of being limited to a simple range of integer values. Python also comes with a powerful standard library, which includes hundreds of modules to provide routines for a wide variety of services including regular expressions and TCP/IP sessions.\n",
    "\n",
    "## Open Source\n",
    "Python is used and supported by a large Python Community that exists on the Internet. The mailing lists and news groups like the tutor list actively support and help new python programmers. While they discourage doing homework for you, they are quite helpful and are populated by the authors of many of the Python textbooks currently available on the market. Python is named after *Monty Python's Flying Circus* comedy program and was created by Guido Van Rossum.\n",
    "Getting Python\n",
    "\n",
    "## Installation\n",
    "In order to program in Python you need the Python interpreter. If it is not already installed or if the version you are using is obsolete, you will need to obtain and install Python using the methods below:\n",
    "\n",
    "### Installing Python in Windows\n",
    "\n",
    "Go to the Python Homepage https://www.python.org/downloads/ or the ActiveState website and get the proper version for your platform. Download it, read the instructions and get it installed.\n",
    "\n",
    "In order to run Python from the command line, you will need to have the python directory in your PATH.  Alternatively, you could use an Integrated Development Environment (IDE) for Python.  Microsoft Visual Studio Code is currently the most popular, Pycharm, PyDEV(Eclipse), DrPython, eric, PyScripter, Spyder, or Python's own IDLE (which ships with every version of Python since 2.3).\n",
    "\n",
    "The PATH variable can be modified from the Window's System control panel.  The advanced tab will contain the button labeled Environment Variables, where you can append the newly created folder to the search path.\n",
    "If you prefer having a temporary environment, you can create a new command prompt shortcut that automatically executes the following statement:\n",
    "\n",
    "`PATH %PATH%;c:\\python26`\n",
    "\n",
    "Changing the \"26\" for the version of Python you have (26 is 2.6.x, the current version of Python 2)\n",
    "\n",
    "### Installing Python on Mac\n",
    "Users on Apple Mac OS X will find that it already ships with Python 2.3 (OS X 10.4 Tiger), but if you want the more recent version head to Python Download Page follow the instruction on the page and in the installers. As a bonus you will also install the Python IDE.\n",
    "\n",
    "### Installing Python on Unix environments\n",
    "Python is available as a package for some Linux distributions. In some cases, the distribution CD will contain the python package for installation, while other distributions require downloading the source code and using the compilation scripts.\n",
    "Gentoo GNU/Linux\n",
    "Gentoo is an example of a distribution that installs Python by default - the package system Portage depends on Python.\n",
    "Ubuntu GNU/Linux\n",
    "Users of Ubuntu 6.04 (Dapper Drake) and earlier will notice that Python comes installed by default, only it sometimes is not the latest version. If you would like to update it, just open a terminal and type at the prompt:\n",
    "\n",
    "```\n",
    "$ sudo apt-get update  # This will update the software repository\n",
    "$ sudo apt-get install python   # This one will actually install python\n",
    "```\n",
    "\n",
    "### Source code installations\n",
    "Some platforms do not have a version of Python installed, and do not have pre-compiled binaries. In these cases, you will need to download the source code from the official site. Once the download is complete, you will need to unpack the compressed archive into a folder.\n",
    "To build Python, simply run the configure script (requires the Bash shell) and compile using make.\n",
    "Interactive mode\n",
    "Python has two basic modes: The normal \"mode\" is the mode where the scripted and finished .py files are run in the python interpreter.  Interactive mode is a command line shell which gives immediate feedback for each statement, while running previously fed statements in active memory. As new lines are fed into the interpreter, the fed program is evaluated both in part and in whole."
   ]
  },
  {
   "cell_type": "markdown",
   "metadata": {},
   "source": [
    "To get into interactive mode, simply type \"python\" without any arguments. This is a good way to play around and try variations on syntax.  Python should print something like this:\n",
    "\n",
    "```\n",
    "$ python\n",
    "Python 3.0b3 (r30b3:66303, Sep  8 2008, 14:01:02) [MSC v.1500 32 bit (Intel)] on win32\n",
    "Type \"help\", \"copyright\", \"credits\" or \"license\" for more information.\n",
    ">>>\n",
    "```\n",
    "Python 3\n",
    "(If Python wouldn't run, make sure your path is set correctly. See Getting Python.)\n",
    "```\n",
    "$ python \n",
    "Python 2.7.4 (default, Apr 19 2013, 18:28:01) \n",
    "[GCC 4.7.3] on linux2 \n",
    "Type \"help\", \"copyright\", \"credits\" or \"license\" for more information. \n",
    ">>> \n",
    "```\n",
    "Python 2\n",
    "The `>>>` prompt, is Python's way of telling you that you are in interactive mode. In interactive mode what you type is immediately run. Try typing `1+1` in. Python will respond with 2. Interactive mode allows you to test out and see what Python will do. If you ever feel the need to play with new Python statements, go into interactive mode and try them out.\n",
    "A sample interactive session:"
   ]
  },
  {
   "cell_type": "code",
   "execution_count": 225,
   "metadata": {},
   "outputs": [
    {
     "data": {
      "text/plain": [
       "5"
      ]
     },
     "execution_count": 225,
     "metadata": {},
     "output_type": "execute_result"
    }
   ],
   "source": [
    ">>> 5"
   ]
  },
  {
   "cell_type": "code",
   "execution_count": 226,
   "metadata": {},
   "outputs": [
    {
     "name": "stdout",
     "output_type": "stream",
     "text": [
      "35\n"
     ]
    }
   ],
   "source": [
    ">>> print(5*7)"
   ]
  },
  {
   "cell_type": "code",
   "execution_count": 227,
   "metadata": {},
   "outputs": [
    {
     "data": {
      "text/plain": [
       "'hellohellohellohello'"
      ]
     },
     "execution_count": 227,
     "metadata": {},
     "output_type": "execute_result"
    }
   ],
   "source": [
    ">>> \"hello\" * 4"
   ]
  },
  {
   "cell_type": "code",
   "execution_count": 228,
   "metadata": {},
   "outputs": [
    {
     "data": {
      "text/plain": [
       "str"
      ]
     },
     "execution_count": 228,
     "metadata": {},
     "output_type": "execute_result"
    }
   ],
   "source": [
    ">>> \"hello\".__class__"
   ]
  },
  {
   "cell_type": "markdown",
   "metadata": {},
   "source": [
    "(The above code will work in both Python 2 and 3)\n",
    "However, you need to be careful in the interactive environment to avoid any confusion. For example, the following is a valid Python script:"
   ]
  },
  {
   "cell_type": "code",
   "execution_count": 229,
   "metadata": {},
   "outputs": [
    {
     "name": "stdout",
     "output_type": "stream",
     "text": [
      "True\n",
      "Done\n"
     ]
    }
   ],
   "source": [
    "#python 3\n",
    "if 1:\n",
    "  print(\"True\")\n",
    "print(\"Done\")"
   ]
  },
  {
   "cell_type": "code",
   "execution_count": null,
   "metadata": {},
   "outputs": [],
   "source": [
    "#python 2\n",
    "if 1:\n",
    "  print \"True\" \n",
    "print \"Done\" "
   ]
  },
  {
   "cell_type": "markdown",
   "metadata": {},
   "source": [
    "If you try to enter this as written in the interactive environment, you might be surprised by the result:"
   ]
  },
  {
   "cell_type": "code",
   "execution_count": 231,
   "metadata": {},
   "outputs": [
    {
     "name": "stdout",
     "output_type": "stream",
     "text": [
      "True\n",
      "Done\n"
     ]
    }
   ],
   "source": [
    ">>> if 1:\n",
    "...   print(\"True\")\n",
    "... print(\"Done\")"
   ]
  },
  {
   "cell_type": "markdown",
   "metadata": {},
   "source": [
    "  File \"<stdin>\", line 3\n",
    "    print(\"Done\")\n",
    "        ^\n",
    "SyntaxError: invalid syntax\n",
    "What the interpreter is saying is that the indentation of the second print was unexpected. What you should have entered was a blank line to end the first (i.e., \"if\") statement, before you started writing the next print statement. For example, you should have entered the statements as though they were written:"
   ]
  },
  {
   "cell_type": "code",
   "execution_count": 232,
   "metadata": {},
   "outputs": [
    {
     "name": "stdout",
     "output_type": "stream",
     "text": [
      "True\n",
      "Done\n"
     ]
    }
   ],
   "source": [
    "if 1:\n",
    "  print(\"True\")\n",
    " \n",
    "print(\"Done\")"
   ]
  },
  {
   "cell_type": "markdown",
   "metadata": {},
   "source": [
    "Which would have resulted in the following:"
   ]
  },
  {
   "cell_type": "code",
   "execution_count": 431,
   "metadata": {},
   "outputs": [
    {
     "name": "stdout",
     "output_type": "stream",
     "text": [
      "True\n"
     ]
    }
   ],
   "source": [
    ">>> if 1:\n",
    "...   print(\"True\")\n"
   ]
  },
  {
   "cell_type": "code",
   "execution_count": 432,
   "metadata": {},
   "outputs": [
    {
     "name": "stdout",
     "output_type": "stream",
     "text": [
      "Done\n"
     ]
    }
   ],
   "source": [
    ">>> print(\"Done\")"
   ]
  },
  {
   "cell_type": "markdown",
   "metadata": {},
   "source": [
    "Interactive mode\n",
    "Instead of Python exiting when the program is finished, you can use the -i flag to start an interactive session. This can be very useful for debugging and prototyping.\n",
    "`python -i hello.py`"
   ]
  }
 ]
}
